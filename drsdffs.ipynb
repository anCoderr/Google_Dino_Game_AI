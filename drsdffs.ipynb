Logging to ./Logs/DQN_1
----------------------------------
| rollout/            |          |
|    ep_len_mean      | 5.25     |
|    ep_rew_mean      | 5.25     |
|    exploration_rate | 0.995    |
| time/               |          |
|    episodes         | 4        |
|    fps              | 1        |
|    time_elapsed     | 12       |
|    total_timesteps  | 21       |
| train/              |          |
|    learning_rate    | 0.0001   |
|    loss             | 0.482    |
|    n_updates        | 5        |
----------------------------------
----------------------------------
| rollout/            |          |
|    ep_len_mean      | 7.5      |
|    ep_rew_mean      | 7.5      |
|    exploration_rate | 0.986    |
| time/               |          |
|    episodes         | 8        |
|    fps              | 2        |
|    time_elapsed     | 27       |
|    total_timesteps  | 60       |
| train/              |          |
|    learning_rate    | 0.0001   |
|    loss             | 0.375    |
|    n_updates        | 14       |
----------------------------------
----------------------------------
| rollout/            |          |
|    ep_len_mean      | 7.75     |
|    ep_rew_mean      | 7.75     |
|    exploration_rate | 0.978    |
| time/               |          |
|    episodes         | 12       |
|    fps              | 2        |
|    time_elapsed     | 40       |
|    total_timesteps  | 93       |
| train/              |          |
|    learning_rate    | 0.0001   |
|    loss             | 0.086    |
|    n_updates        | 23       |
----------------------------------
----------------------------------
| rollout/            |          |
|    ep_len_mean      | 7.62     |
|    ep_rew_mean      | 7.62     |
|    exploration_rate | 0.971    |
| time/               |          |
|    episodes         | 16       |
|    fps              | 2        |
|    time_elapsed     | 53       |
|    total_timesteps  | 122      |
| train/              |          |
|    learning_rate    | 0.0001   |
|    loss             | 0.056    |
|    n_updates        | 30       |
----------------------------------
----------------------------------
| rollout/            |          |
|    ep_len_mean      | 7.5      |
|    ep_rew_mean      | 7.5      |
|    exploration_rate | 0.964    |
| time/               |          |
|    episodes         | 20       |
|    fps              | 2        |
|    time_elapsed     | 66       |
|    total_timesteps  | 150      |
| train/              |          |
|    learning_rate    | 0.0001   |
|    loss             | 0.00385  |
|    n_updates        | 37       |
----------------------------------
----------------------------------
| rollout/            |          |
|    ep_len_mean      | 7.79     |
|    ep_rew_mean      | 7.79     |
|    exploration_rate | 0.956    |
| time/               |          |
|    episodes         | 24       |
|    fps              | 2        |
|    time_elapsed     | 80       |
|    total_timesteps  | 187      |
| train/              |          |
|    learning_rate    | 0.0001   |
|    loss             | 0.00956  |
|    n_updates        | 46       |
----------------------------------
----------------------------------
| rollout/            |          |
|    ep_len_mean      | 7.68     |
|    ep_rew_mean      | 7.68     |
|    exploration_rate | 0.949    |
| time/               |          |
|    episodes         | 28       |
|    fps              | 2        |
|    time_elapsed     | 92       |
|    total_timesteps  | 215      |
| train/              |          |
|    learning_rate    | 0.0001   |
|    loss             | 0.00334  |
|    n_updates        | 53       |
----------------------------------
----------------------------------
| rollout/            |          |
|    ep_len_mean      | 8.12     |
|    ep_rew_mean      | 8.12     |
|    exploration_rate | 0.938    |
| time/               |          |
|    episodes         | 32       |
|    fps              | 2        |
|    time_elapsed     | 109      |
|    total_timesteps  | 260      |
| train/              |          |
|    learning_rate    | 0.0001   |
|    loss             | 0.000301 |
|    n_updates        | 64       |
----------------------------------
----------------------------------
| rollout/            |          |
|    ep_len_mean      | 8.03     |
|    ep_rew_mean      | 8.03     |
|    exploration_rate | 0.931    |
| time/               |          |
|    episodes         | 36       |
|    fps              | 2        |
|    time_elapsed     | 122      |
|    total_timesteps  | 289      |
| train/              |          |
|    learning_rate    | 0.0001   |
|    loss             | 0.000922 |
|    n_updates        | 72       |
----------------------------------
----------------------------------
| rollout/            |          |
|    ep_len_mean      | 7.9      |
|    ep_rew_mean      | 7.9      |
|    exploration_rate | 0.925    |
| time/               |          |
|    episodes         | 40       |
|    fps              | 2        |
|    time_elapsed     | 134      |
|    total_timesteps  | 316      |
| train/              |          |
|    learning_rate    | 0.0001   |
|    loss             | 0.000642 |
|    n_updates        | 78       |
----------------------------------
----------------------------------
| rollout/            |          |
|    ep_len_mean      | 7.86     |
|    ep_rew_mean      | 7.86     |
|    exploration_rate | 0.918    |
| time/               |          |
|    episodes         | 44       |
|    fps              | 2        |
|    time_elapsed     | 146      |
|    total_timesteps  | 346      |
| train/              |          |
|    learning_rate    | 0.0001   |
|    loss             | 0.000179 |
|    n_updates        | 86       |
----------------------------------
----------------------------------
| rollout/            |          |
|    ep_len_mean      | 7.77     |
|    ep_rew_mean      | 7.77     |
|    exploration_rate | 0.911    |
| time/               |          |
|    episodes         | 48       |
|    fps              | 2        |
|    time_elapsed     | 158      |
|    total_timesteps  | 373      |
| train/              |          |
|    learning_rate    | 0.0001   |
|    loss             | 0.000351 |
|    n_updates        | 93       |
----------------------------------
----------------------------------
| rollout/            |          |
|    ep_len_mean      | 7.75     |
|    ep_rew_mean      | 7.75     |
|    exploration_rate | 0.904    |
| time/               |          |
|    episodes         | 52       |
|    fps              | 2        |
|    time_elapsed     | 171      |
|    total_timesteps  | 403      |
| train/              |          |
|    learning_rate    | 0.0001   |
|    loss             | 0.000353 |
|    n_updates        | 100      |
----------------------------------
----------------------------------
| rollout/            |          |
|    ep_len_mean      | 7.7      |
|    ep_rew_mean      | 7.7      |
|    exploration_rate | 0.898    |
| time/               |          |
|    episodes         | 56       |
|    fps              | 2        |
|    time_elapsed     | 182      |
|    total_timesteps  | 431      |
| train/              |          |
|    learning_rate    | 0.0001   |
|    loss             | 0.000362 |
|    n_updates        | 107      |
----------------------------------
----------------------------------
| rollout/            |          |
|    ep_len_mean      | 7.72     |
|    ep_rew_mean      | 7.72     |
|    exploration_rate | 0.89     |
| time/               |          |
|    episodes         | 60       |
|    fps              | 2        |
|    time_elapsed     | 194      |
|    total_timesteps  | 463      |
| train/              |          |
|    learning_rate    | 0.0001   |
|    loss             | 0.00044  |
|    n_updates        | 115      |
----------------------------------
----------------------------------
| rollout/            |          |
|    ep_len_mean      | 7.75     |
|    ep_rew_mean      | 7.75     |
|    exploration_rate | 0.882    |
| time/               |          |
|    episodes         | 64       |
|    fps              | 2        |
|    time_elapsed     | 209      |
|    total_timesteps  | 496      |
| train/              |          |
|    learning_rate    | 0.0001   |
|    loss             | 0.000385 |
|    n_updates        | 123      |
----------------------------------
----------------------------------
| rollout/            |          |
|    ep_len_mean      | 7.74     |
|    ep_rew_mean      | 7.74     |
|    exploration_rate | 0.875    |
| time/               |          |
|    episodes         | 68       |
|    fps              | 2        |
|    time_elapsed     | 222      |
|    total_timesteps  | 526      |
| train/              |          |
|    learning_rate    | 0.0001   |
|    loss             | 0.000329 |
|    n_updates        | 131      |
----------------------------------
----------------------------------
| rollout/            |          |
|    ep_len_mean      | 7.82     |
|    ep_rew_mean      | 7.82     |
|    exploration_rate | 0.866    |
| time/               |          |
|    episodes         | 72       |
|    fps              | 2        |
|    time_elapsed     | 234      |
|    total_timesteps  | 563      |
| train/              |          |
|    learning_rate    | 0.0001   |
|    loss             | 0.000273 |
|    n_updates        | 140      |
----------------------------------
----------------------------------
| rollout/            |          |
|    ep_len_mean      | 7.95     |
|    ep_rew_mean      | 7.95     |
|    exploration_rate | 0.857    |
| time/               |          |
|    episodes         | 76       |
|    fps              | 2        |
|    time_elapsed     | 250      |
|    total_timesteps  | 604      |
| train/              |          |
|    learning_rate    | 0.0001   |
|    loss             | 0.000217 |
|    n_updates        | 150      |
----------------------------------
----------------------------------
| rollout/            |          |
|    ep_len_mean      | 7.9      |
|    ep_rew_mean      | 7.9      |
|    exploration_rate | 0.85     |
| time/               |          |
|    episodes         | 80       |
|    fps              | 2        |
|    time_elapsed     | 262      |
|    total_timesteps  | 632      |
| train/              |          |
|    learning_rate    | 0.0001   |
|    loss             | 0.000246 |
|    n_updates        | 157      |
----------------------------------
----------------------------------
| rollout/            |          |
|    ep_len_mean      | 7.9      |
|    ep_rew_mean      | 7.9      |
|    exploration_rate | 0.842    |
| time/               |          |
|    episodes         | 84       |
|    fps              | 2        |
|    time_elapsed     | 275      |
|    total_timesteps  | 664      |
| train/              |          |
|    learning_rate    | 0.0001   |
|    loss             | 0.000329 |
|    n_updates        | 165      |
----------------------------------
----------------------------------
| rollout/            |          |
|    ep_len_mean      | 7.92     |
|    ep_rew_mean      | 7.92     |
|    exploration_rate | 0.834    |
| time/               |          |
|    episodes         | 88       |
|    fps              | 2        |
|    time_elapsed     | 286      |
|    total_timesteps  | 697      |
| train/              |          |
|    learning_rate    | 0.0001   |
|    loss             | 0.000248 |
|    n_updates        | 174      |
----------------------------------
----------------------------------
| rollout/            |          |
|    ep_len_mean      | 8        |
|    ep_rew_mean      | 8        |
|    exploration_rate | 0.825    |
| time/               |          |
|    episodes         | 92       |
|    fps              | 2        |
|    time_elapsed     | 303      |
|    total_timesteps  | 736      |
| train/              |          |
|    learning_rate    | 0.0001   |
|    loss             | 0.00033  |
|    n_updates        | 183      |
----------------------------------
----------------------------------
| rollout/            |          |
|    ep_len_mean      | 8.1      |
|    ep_rew_mean      | 8.1      |
|    exploration_rate | 0.815    |
| time/               |          |
|    episodes         | 96       |
|    fps              | 2        |
|    time_elapsed     | 318      |
|    total_timesteps  | 778      |
| train/              |          |
|    learning_rate    | 0.0001   |
|    loss             | 0.00031  |
|    n_updates        | 194      |
----------------------------------
----------------------------------
| rollout/            |          |
|    ep_len_mean      | 8.12     |
|    ep_rew_mean      | 8.12     |
|    exploration_rate | 0.807    |
| time/               |          |
|    episodes         | 100      |
|    fps              | 2        |
|    time_elapsed     | 330      |
|    total_timesteps  | 812      |
| train/              |          |
|    learning_rate    | 0.0001   |
|    loss             | 0.000122 |
|    n_updates        | 202      |
----------------------------------
----------------------------------
| rollout/            |          |
|    ep_len_mean      | 8.24     |
|    ep_rew_mean      | 8.24     |
|    exploration_rate | 0.799    |
| time/               |          |
|    episodes         | 104      |
|    fps              | 2        |
|    time_elapsed     | 342      |
|    total_timesteps  | 845      |
| train/              |          |
|    learning_rate    | 0.0001   |
|    loss             | 0.000203 |
|    n_updates        | 211      |
----------------------------------
----------------------------------
| rollout/            |          |
|    ep_len_mean      | 8.26     |
|    ep_rew_mean      | 8.26     |
|    exploration_rate | 0.79     |
| time/               |          |
|    episodes         | 108      |
|    fps              | 2        |
|    time_elapsed     | 355      |
|    total_timesteps  | 886      |
| train/              |          |
|    learning_rate    | 0.0001   |
|    loss             | 0.000162 |
|    n_updates        | 221      |
----------------------------------
----------------------------------
| rollout/            |          |
|    ep_len_mean      | 8.28     |
|    ep_rew_mean      | 8.28     |
|    exploration_rate | 0.781    |
| time/               |          |
|    episodes         | 112      |
|    fps              | 2        |
|    time_elapsed     | 366      |
|    total_timesteps  | 921      |
| train/              |          |
|    learning_rate    | 0.0001   |
|    loss             | 0.000277 |
|    n_updates        | 230      |
----------------------------------
----------------------------------
| rollout/            |          |
|    ep_len_mean      | 8.48     |
|    ep_rew_mean      | 8.48     |
|    exploration_rate | 0.77     |
| time/               |          |
|    episodes         | 116      |
|    fps              | 2        |
|    time_elapsed     | 385      |
|    total_timesteps  | 970      |
| train/              |          |
|    learning_rate    | 0.0001   |
|    loss             | 0.000106 |
|    n_updates        | 242      |
----------------------------------
----------------------------------
| rollout/            |          |
|    ep_len_mean      | 8.52     |
|    ep_rew_mean      | 8.52     |
|    exploration_rate | 0.762    |
| time/               |          |
|    episodes         | 120      |
|    fps              | 2        |
|    time_elapsed     | 397      |
|    total_timesteps  | 1002     |
| train/              |          |
|    learning_rate    | 0.0001   |
|    loss             | 0.000158 |
|    n_updates        | 250      |
----------------------------------
----------------------------------
| rollout/            |          |
|    ep_len_mean      | 8.45     |
|    ep_rew_mean      | 8.45     |
|    exploration_rate | 0.755    |
| time/               |          |
|    episodes         | 124      |
|    fps              | 2        |
|    time_elapsed     | 409      |
|    total_timesteps  | 1032     |
| train/              |          |
|    learning_rate    | 0.0001   |
|    loss             | 0.000194 |
|    n_updates        | 257      |
----------------------------------
----------------------------------
| rollout/            |          |
|    ep_len_mean      | 8.49     |
|    ep_rew_mean      | 8.49     |
|    exploration_rate | 0.747    |
| time/               |          |
|    episodes         | 128      |
|    fps              | 2        |
|    time_elapsed     | 422      |
|    total_timesteps  | 1064     |
| train/              |          |
|    learning_rate    | 0.0001   |
|    loss             | 7.21e-05 |
|    n_updates        | 265      |
----------------------------------
----------------------------------
| rollout/            |          |
|    ep_len_mean      | 8.41     |
|    ep_rew_mean      | 8.41     |
|    exploration_rate | 0.739    |
| time/               |          |
|    episodes         | 132      |
|    fps              | 2        |
|    time_elapsed     | 434      |
|    total_timesteps  | 1101     |
| train/              |          |
|    learning_rate    | 0.0001   |
|    loss             | 8.22e-05 |
|    n_updates        | 275      |
----------------------------------
----------------------------------
| rollout/            |          |
|    ep_len_mean      | 8.55     |
|    ep_rew_mean      | 8.55     |
|    exploration_rate | 0.728    |
| time/               |          |
|    episodes         | 136      |
|    fps              | 2        |
|    time_elapsed     | 449      |
|    total_timesteps  | 1144     |
| train/              |          |
|    learning_rate    | 0.0001   |
|    loss             | 7.51e-05 |
|    n_updates        | 285      |
----------------------------------
----------------------------------
| rollout/            |          |
|    ep_len_mean      | 8.7      |
|    ep_rew_mean      | 8.7      |
|    exploration_rate | 0.718    |
| time/               |          |
|    episodes         | 140      |
|    fps              | 2        |
|    time_elapsed     | 464      |
|    total_timesteps  | 1186     |
| train/              |          |
|    learning_rate    | 0.0001   |
|    loss             | 6.86e-05 |
|    n_updates        | 296      |
----------------------------------
----------------------------------
| rollout/            |          |
|    ep_len_mean      | 8.76     |
|    ep_rew_mean      | 8.76     |
|    exploration_rate | 0.71     |
| time/               |          |
|    episodes         | 144      |
|    fps              | 2        |
|    time_elapsed     | 476      |
|    total_timesteps  | 1222     |
| train/              |          |
|    learning_rate    | 0.0001   |
|    loss             | 5.96e-05 |
|    n_updates        | 305      |
----------------------------------
----------------------------------
| rollout/            |          |
|    ep_len_mean      | 8.87     |
|    ep_rew_mean      | 8.87     |
|    exploration_rate | 0.701    |
| time/               |          |
|    episodes         | 148      |
|    fps              | 2        |
|    time_elapsed     | 490      |
|    total_timesteps  | 1260     |
| train/              |          |
|    learning_rate    | 0.0001   |
|    loss             | 3.13e-05 |
|    n_updates        | 314      |
----------------------------------
----------------------------------
| rollout/            |          |
|    ep_len_mean      | 8.89     |
|    ep_rew_mean      | 8.89     |
|    exploration_rate | 0.693    |
| time/               |          |
|    episodes         | 152      |
|    fps              | 2        |
|    time_elapsed     | 502      |
|    total_timesteps  | 1292     |
| train/              |          |
|    learning_rate    | 0.0001   |
|    loss             | 7.23e-05 |
|    n_updates        | 322      |
----------------------------------
----------------------------------
| rollout/            |          |
|    ep_len_mean      | 9.01     |
|    ep_rew_mean      | 9.01     |
|    exploration_rate | 0.684    |
| time/               |          |
|    episodes         | 156      |
|    fps              | 2        |
|    time_elapsed     | 515      |
|    total_timesteps  | 1332     |
| train/              |          |
|    learning_rate    | 0.0001   |
|    loss             | 0.000102 |
|    n_updates        | 332      |
----------------------------------
----------------------------------
| rollout/            |          |
|    ep_len_mean      | 9.04     |
|    ep_rew_mean      | 9.04     |
|    exploration_rate | 0.675    |
| time/               |          |
|    episodes         | 160      |
|    fps              | 2        |
|    time_elapsed     | 528      |
|    total_timesteps  | 1367     |
| train/              |          |
|    learning_rate    | 0.0001   |
|    loss             | 2.71e-05 |
|    n_updates        | 341      |
----------------------------------
----------------------------------
| rollout/            |          |
|    ep_len_mean      | 9.16     |
|    ep_rew_mean      | 9.16     |
|    exploration_rate | 0.665    |
| time/               |          |
|    episodes         | 164      |
|    fps              | 2        |
|    time_elapsed     | 543      |
|    total_timesteps  | 1412     |
| train/              |          |
|    learning_rate    | 0.0001   |
|    loss             | 1.32e-05 |
|    n_updates        | 352      |
----------------------------------
----------------------------------
| rollout/            |          |
|    ep_len_mean      | 9.17     |
|    ep_rew_mean      | 9.17     |
|    exploration_rate | 0.657    |
| time/               |          |
|    episodes         | 168      |
|    fps              | 2        |
|    time_elapsed     | 555      |
|    total_timesteps  | 1443     |
| train/              |          |
|    learning_rate    | 0.0001   |
|    loss             | 3.01e-05 |
|    n_updates        | 360      |
----------------------------------
----------------------------------
| rollout/            |          |
|    ep_len_mean      | 9.09     |
|    ep_rew_mean      | 9.09     |
|    exploration_rate | 0.65     |
| time/               |          |
|    episodes         | 172      |
|    fps              | 2        |
|    time_elapsed     | 567      |
|    total_timesteps  | 1472     |
| train/              |          |
|    learning_rate    | 0.0001   |
|    loss             | 4.64e-05 |
|    n_updates        | 367      |
----------------------------------
----------------------------------
| rollout/            |          |
|    ep_len_mean      | 9.04     |
|    ep_rew_mean      | 9.04     |
|    exploration_rate | 0.642    |
| time/               |          |
|    episodes         | 176      |
|    fps              | 2        |
|    time_elapsed     | 580      |
|    total_timesteps  | 1508     |
| train/              |          |
|    learning_rate    | 0.0001   |
|    loss             | 1.63e-05 |
|    n_updates        | 376      |
----------------------------------
----------------------------------
| rollout/            |          |
|    ep_len_mean      | 9.1      |
|    ep_rew_mean      | 9.1      |
|    exploration_rate | 0.634    |
| time/               |          |
|    episodes         | 180      |
|    fps              | 2        |
|    time_elapsed     | 593      |
|    total_timesteps  | 1542     |
| train/              |          |
|    learning_rate    | 0.0001   |
|    loss             | 4e-05    |
|    n_updates        | 385      |
----------------------------------
----------------------------------
| rollout/            |          |
|    ep_len_mean      | 9.18     |
|    ep_rew_mean      | 9.18     |
|    exploration_rate | 0.624    |
| time/               |          |
|    episodes         | 184      |
|    fps              | 2        |
|    time_elapsed     | 608      |
|    total_timesteps  | 1582     |
| train/              |          |
|    learning_rate    | 0.0001   |
|    loss             | 2.11e-05 |
|    n_updates        | 395      |
----------------------------------
----------------------------------
| rollout/            |          |
|    ep_len_mean      | 9.24     |
|    ep_rew_mean      | 9.24     |
|    exploration_rate | 0.615    |
| time/               |          |
|    episodes         | 188      |
|    fps              | 2        |
|    time_elapsed     | 620      |
|    total_timesteps  | 1621     |
| train/              |          |
|    learning_rate    | 0.0001   |
|    loss             | 3.62e-05 |
|    n_updates        | 405      |
----------------------------------
----------------------------------
| rollout/            |          |
|    ep_len_mean      | 9.05     |
|    ep_rew_mean      | 9.05     |
|    exploration_rate | 0.61     |
| time/               |          |
|    episodes         | 192      |
|    fps              | 2        |
|    time_elapsed     | 628      |
|    total_timesteps  | 1641     |
| train/              |          |
|    learning_rate    | 0.0001   |
|    loss             | 1.29e-05 |
|    n_updates        | 410      |
----------------------------------
----------------------------------
| rollout/            |          |
|    ep_len_mean      | 8.99     |
|    ep_rew_mean      | 8.99     |
|    exploration_rate | 0.602    |
| time/               |          |
|    episodes         | 196      |
|    fps              | 2        |
|    time_elapsed     | 641      |
|    total_timesteps  | 1677     |
| train/              |          |
|    learning_rate    | 0.0001   |
|    loss             | 2.52e-05 |
|    n_updates        | 419      |
----------------------------------
----------------------------------
| rollout/            |          |
|    ep_len_mean      | 9.04     |
|    ep_rew_mean      | 9.04     |
|    exploration_rate | 0.592    |
| time/               |          |
|    episodes         | 200      |
|    fps              | 2        |
|    time_elapsed     | 654      |
|    total_timesteps  | 1716     |
| train/              |          |
|    learning_rate    | 0.0001   |
|    loss             | 1.84e-05 |
|    n_updates        | 428      |
----------------------------------
----------------------------------
| rollout/            |          |
|    ep_len_mean      | 9.07     |
|    ep_rew_mean      | 9.07     |
|    exploration_rate | 0.584    |
| time/               |          |
|    episodes         | 204      |
|    fps              | 2        |
|    time_elapsed     | 667      |
|    total_timesteps  | 1752     |
| train/              |          |
|    learning_rate    | 0.0001   |
|    loss             | 4.92e-05 |
|    n_updates        | 437      |
----------------------------------
----------------------------------
| rollout/            |          |
|    ep_len_mean      | 8.95     |
|    ep_rew_mean      | 8.95     |
|    exploration_rate | 0.577    |
| time/               |          |
|    episodes         | 208      |
|    fps              | 2        |
|    time_elapsed     | 679      |
|    total_timesteps  | 1781     |
| train/              |          |
|    learning_rate    | 0.0001   |
|    loss             | 2.18e-05 |
|    n_updates        | 445      |
----------------------------------
----------------------------------
| rollout/            |          |
|    ep_len_mean      | 9.01     |
|    ep_rew_mean      | 9.01     |
|    exploration_rate | 0.567    |
| time/               |          |
|    episodes         | 212      |
|    fps              | 2        |
|    time_elapsed     | 691      |
|    total_timesteps  | 1822     |
| train/              |          |
|    learning_rate    | 0.0001   |
|    loss             | 1.03e-05 |
|    n_updates        | 455      |
----------------------------------
----------------------------------
| rollout/            |          |
|    ep_len_mean      | 8.91     |
|    ep_rew_mean      | 8.91     |
|    exploration_rate | 0.558    |
| time/               |          |
|    episodes         | 216      |
|    fps              | 2        |
|    time_elapsed     | 704      |
|    total_timesteps  | 1861     |
| train/              |          |
|    learning_rate    | 0.0001   |
|    loss             | 2.12e-05 |
|    n_updates        | 465      |
----------------------------------
----------------------------------
| rollout/            |          |
|    ep_len_mean      | 8.96     |
|    ep_rew_mean      | 8.96     |
|    exploration_rate | 0.549    |
| time/               |          |
|    episodes         | 220      |
|    fps              | 2        |
|    time_elapsed     | 716      |
|    total_timesteps  | 1898     |
| train/              |          |
|    learning_rate    | 0.0001   |
|    loss             | 1.15e-05 |
|    n_updates        | 474      |
----------------------------------
----------------------------------
| rollout/            |          |
|    ep_len_mean      | 8.99     |
|    ep_rew_mean      | 8.99     |
|    exploration_rate | 0.541    |
| time/               |          |
|    episodes         | 224      |
|    fps              | 2        |
|    time_elapsed     | 730      |
|    total_timesteps  | 1931     |
| train/              |          |
|    learning_rate    | 0.0001   |
|    loss             | 6.46e-06 |
|    n_updates        | 482      |
----------------------------------
----------------------------------
| rollout/            |          |
|    ep_len_mean      | 9.05     |
|    ep_rew_mean      | 9.05     |
|    exploration_rate | 0.532    |
| time/               |          |
|    episodes         | 228      |
|    fps              | 2        |
|    time_elapsed     | 744      |
|    total_timesteps  | 1969     |
| train/              |          |
|    learning_rate    | 0.0001   |
|    loss             | 8.03e-06 |
|    n_updates        | 492      |
----------------------------------
----------------------------------
| rollout/            |          |
|    ep_len_mean      | 9.13     |
|    ep_rew_mean      | 9.13     |
|    exploration_rate | 0.522    |
| time/               |          |
|    episodes         | 232      |
|    fps              | 2        |
|    time_elapsed     | 760      |
|    total_timesteps  | 2014     |
| train/              |          |
|    learning_rate    | 0.0001   |
|    loss             | 1.07e-05 |
|    n_updates        | 503      |
----------------------------------
----------------------------------
| rollout/            |          |
|    ep_len_mean      | 9.01     |
|    ep_rew_mean      | 9.01     |
|    exploration_rate | 0.514    |
| time/               |          |
|    episodes         | 236      |
|    fps              | 2        |
|    time_elapsed     | 773      |
|    total_timesteps  | 2045     |
| train/              |          |
|    learning_rate    | 0.0001   |
|    loss             | 3.71e-05 |
|    n_updates        | 511      |
----------------------------------
----------------------------------
| rollout/            |          |
|    ep_len_mean      | 8.74     |
|    ep_rew_mean      | 8.74     |
|    exploration_rate | 0.511    |
| time/               |          |
|    episodes         | 240      |
|    fps              | 2        |
|    time_elapsed     | 780      |
|    total_timesteps  | 2060     |
| train/              |          |
|    learning_rate    | 0.0001   |
|    loss             | 2.03e-05 |
|    n_updates        | 514      |
----------------------------------
----------------------------------
| rollout/            |          |
|    ep_len_mean      | 8.75     |
|    ep_rew_mean      | 8.75     |
|    exploration_rate | 0.502    |
| time/               |          |
|    episodes         | 244      |
|    fps              | 2        |
|    time_elapsed     | 792      |
|    total_timesteps  | 2097     |
| train/              |          |
|    learning_rate    | 0.0001   |
|    loss             | 2.42e-05 |
|    n_updates        | 524      |
----------------------------------
----------------------------------
| rollout/            |          |
|    ep_len_mean      | 8.74     |
|    ep_rew_mean      | 8.74     |
|    exploration_rate | 0.493    |
| time/               |          |
|    episodes         | 248      |
|    fps              | 2        |
|    time_elapsed     | 805      |
|    total_timesteps  | 2134     |
| train/              |          |
|    learning_rate    | 0.0001   |
|    loss             | 3.63e-05 |
|    n_updates        | 533      |
----------------------------------
----------------------------------
| rollout/            |          |
|    ep_len_mean      | 8.7      |
|    ep_rew_mean      | 8.7      |
|    exploration_rate | 0.487    |
| time/               |          |
|    episodes         | 252      |
|    fps              | 2        |
|    time_elapsed     | 817      |
|    total_timesteps  | 2162     |
| train/              |          |
|    learning_rate    | 0.0001   |
|    loss             | 1.41e-05 |
|    n_updates        | 540      |
----------------------------------
----------------------------------
| rollout/            |          |
|    ep_len_mean      | 8.62     |
|    ep_rew_mean      | 8.62     |
|    exploration_rate | 0.479    |
| time/               |          |
|    episodes         | 256      |
|    fps              | 2        |
|    time_elapsed     | 829      |
|    total_timesteps  | 2194     |
| train/              |          |
|    learning_rate    | 0.0001   |
|    loss             | 6.19e-06 |
|    n_updates        | 548      |
----------------------------------
----------------------------------
| rollout/            |          |
|    ep_len_mean      | 8.57     |
|    ep_rew_mean      | 8.57     |
|    exploration_rate | 0.472    |
| time/               |          |
|    episodes         | 260      |
|    fps              | 2        |
|    time_elapsed     | 843      |
|    total_timesteps  | 2224     |
| train/              |          |
|    learning_rate    | 0.0001   |
|    loss             | 2.74e-05 |
|    n_updates        | 555      |
----------------------------------
----------------------------------
| rollout/            |          |
|    ep_len_mean      | 8.41     |
|    ep_rew_mean      | 8.41     |
|    exploration_rate | 0.465    |
| time/               |          |
|    episodes         | 264      |
|    fps              | 2        |
|    time_elapsed     | 855      |
|    total_timesteps  | 2253     |
| train/              |          |
|    learning_rate    | 0.0001   |
|    loss             | 3.86e-06 |
|    n_updates        | 563      |
----------------------------------
----------------------------------
| rollout/            |          |
|    ep_len_mean      | 8.58     |
|    ep_rew_mean      | 8.58     |
|    exploration_rate | 0.454    |
| time/               |          |
|    episodes         | 268      |
|    fps              | 2        |
|    time_elapsed     | 868      |
|    total_timesteps  | 2301     |
| train/              |          |
|    learning_rate    | 0.0001   |
|    loss             | 2.58e-06 |
|    n_updates        | 575      |
----------------------------------
----------------------------------
| rollout/            |          |
|    ep_len_mean      | 8.63     |
|    ep_rew_mean      | 8.63     |
|    exploration_rate | 0.445    |
| time/               |          |
|    episodes         | 272      |
|    fps              | 2        |
|    time_elapsed     | 880      |
|    total_timesteps  | 2335     |
| train/              |          |
|    learning_rate    | 0.0001   |
|    loss             | 1.56e-05 |
|    n_updates        | 583      |
----------------------------------
----------------------------------
| rollout/            |          |
|    ep_len_mean      | 8.71     |
|    ep_rew_mean      | 8.71     |
|    exploration_rate | 0.435    |
| time/               |          |
|    episodes         | 276      |
|    fps              | 2        |
|    time_elapsed     | 893      |
|    total_timesteps  | 2379     |
| train/              |          |
|    learning_rate    | 0.0001   |
|    loss             | 4.44e-06 |
|    n_updates        | 594      |
----------------------------------
----------------------------------
| rollout/            |          |
|    ep_len_mean      | 8.72     |
|    ep_rew_mean      | 8.72     |
|    exploration_rate | 0.427    |
| time/               |          |
|    episodes         | 280      |
|    fps              | 2        |
|    time_elapsed     | 906      |
|    total_timesteps  | 2414     |
| train/              |          |
|    learning_rate    | 0.0001   |
|    loss             | 1.42e-05 |
|    n_updates        | 603      |
----------------------------------
----------------------------------
| rollout/            |          |
|    ep_len_mean      | 8.87     |
|    ep_rew_mean      | 8.87     |
|    exploration_rate | 0.414    |
| time/               |          |
|    episodes         | 284      |
|    fps              | 2        |
|    time_elapsed     | 920      |
|    total_timesteps  | 2469     |
| train/              |          |
|    learning_rate    | 0.0001   |
|    loss             | 5.14e-06 |
|    n_updates        | 617      |
----------------------------------
----------------------------------
| rollout/            |          |
|    ep_len_mean      | 8.9      |
|    ep_rew_mean      | 8.9      |
|    exploration_rate | 0.404    |
| time/               |          |
|    episodes         | 288      |
|    fps              | 2        |
|    time_elapsed     | 935      |
|    total_timesteps  | 2511     |
| train/              |          |
|    learning_rate    | 0.0001   |
|    loss             | 5.47e-06 |
|    n_updates        | 627      |
----------------------------------
----------------------------------
| rollout/            |          |
|    ep_len_mean      | 9.07     |
|    ep_rew_mean      | 9.07     |
|    exploration_rate | 0.395    |
| time/               |          |
|    episodes         | 292      |
|    fps              | 2        |
|    time_elapsed     | 947      |
|    total_timesteps  | 2548     |
| train/              |          |
|    learning_rate    | 0.0001   |
|    loss             | 7.3e-06  |
|    n_updates        | 636      |
----------------------------------
----------------------------------
| rollout/            |          |
|    ep_len_mean      | 9.04     |
|    ep_rew_mean      | 9.04     |
|    exploration_rate | 0.387    |
| time/               |          |
|    episodes         | 296      |
|    fps              | 2        |
|    time_elapsed     | 961      |
|    total_timesteps  | 2581     |
| train/              |          |
|    learning_rate    | 0.0001   |
|    loss             | 1.01e-05 |
|    n_updates        | 645      |
----------------------------------
----------------------------------
| rollout/            |          |
|    ep_len_mean      | 9.04     |
|    ep_rew_mean      | 9.04     |
|    exploration_rate | 0.378    |
| time/               |          |
|    episodes         | 300      |
|    fps              | 2        |
|    time_elapsed     | 974      |
|    total_timesteps  | 2620     |
| train/              |          |
|    learning_rate    | 0.0001   |
|    loss             | 8.74e-06 |
|    n_updates        | 654      |
----------------------------------
----------------------------------
| rollout/            |          |
|    ep_len_mean      | 9.04     |
|    ep_rew_mean      | 9.04     |
|    exploration_rate | 0.369    |
| time/               |          |
|    episodes         | 304      |
|    fps              | 2        |
|    time_elapsed     | 987      |
|    total_timesteps  | 2656     |
| train/              |          |
|    learning_rate    | 0.0001   |
|    loss             | 4.38e-06 |
|    n_updates        | 663      |
----------------------------------
----------------------------------
| rollout/            |          |
|    ep_len_mean      | 9.42     |
|    ep_rew_mean      | 9.42     |
|    exploration_rate | 0.353    |
| time/               |          |
|    episodes         | 308      |
|    fps              | 2        |
|    time_elapsed     | 1004     |
|    total_timesteps  | 2723     |
| train/              |          |
|    learning_rate    | 0.0001   |
|    loss             | 1.05e-05 |
|    n_updates        | 680      |
----------------------------------
----------------------------------
| rollout/            |          |
|    ep_len_mean      | 9.37     |
|    ep_rew_mean      | 9.37     |
|    exploration_rate | 0.345    |
| time/               |          |
|    episodes         | 312      |
|    fps              | 2        |
|    time_elapsed     | 1016     |
|    total_timesteps  | 2759     |
| train/              |          |
|    learning_rate    | 0.0001   |
|    loss             | 4.47e-06 |
|    n_updates        | 689      |
----------------------------------
----------------------------------
| rollout/            |          |
|    ep_len_mean      | 9.53     |
|    ep_rew_mean      | 9.53     |
|    exploration_rate | 0.332    |
| time/               |          |
|    episodes         | 316      |
|    fps              | 2        |
|    time_elapsed     | 1031     |
|    total_timesteps  | 2814     |
| train/              |          |
|    learning_rate    | 0.0001   |
|    loss             | 1.53e-05 |
|    n_updates        | 703      |
----------------------------------
----------------------------------
| rollout/            |          |
|    ep_len_mean      | 9.47     |
|    ep_rew_mean      | 9.47     |
|    exploration_rate | 0.324    |
| time/               |          |
|    episodes         | 320      |
|    fps              | 2        |
|    time_elapsed     | 1044     |
|    total_timesteps  | 2845     |
| train/              |          |
|    learning_rate    | 0.0001   |
|    loss             | 3.7e-06  |
|    n_updates        | 711      |
----------------------------------
----------------------------------
| rollout/            |          |
|    ep_len_mean      | 9.5      |
|    ep_rew_mean      | 9.5      |
|    exploration_rate | 0.316    |
| time/               |          |
|    episodes         | 324      |
|    fps              | 2        |
|    time_elapsed     | 1056     |
|    total_timesteps  | 2881     |
| train/              |          |
|    learning_rate    | 0.0001   |
|    loss             | 1.76e-05 |
|    n_updates        | 720      |
----------------------------------
----------------------------------
| rollout/            |          |
|    ep_len_mean      | 9.52     |
|    ep_rew_mean      | 9.52     |
|    exploration_rate | 0.306    |
| time/               |          |
|    episodes         | 328      |
|    fps              | 2        |
|    time_elapsed     | 1069     |
|    total_timesteps  | 2921     |
| train/              |          |
|    learning_rate    | 0.0001   |
|    loss             | 1.49e-05 |
|    n_updates        | 730      |
----------------------------------
----------------------------------
| rollout/            |          |
|    ep_len_mean      | 9.68     |
|    ep_rew_mean      | 9.68     |
|    exploration_rate | 0.292    |
| time/               |          |
|    episodes         | 332      |
|    fps              | 2        |
|    time_elapsed     | 1088     |
|    total_timesteps  | 2982     |
| train/              |          |
|    learning_rate    | 0.0001   |
|    loss             | 5.81e-06 |
|    n_updates        | 745      |
----------------------------------
----------------------------------
| rollout/            |          |
|    ep_len_mean      | 9.76     |
|    ep_rew_mean      | 9.76     |
|    exploration_rate | 0.283    |
| time/               |          |
|    episodes         | 336      |
|    fps              | 2        |
|    time_elapsed     | 1101     |
|    total_timesteps  | 3021     |
| train/              |          |
|    learning_rate    | 0.0001   |
|    loss             | 9.07e-06 |
|    n_updates        | 755      |
----------------------------------
----------------------------------
| rollout/            |          |
|    ep_len_mean      | 9.91     |
|    ep_rew_mean      | 9.91     |
|    exploration_rate | 0.275    |
| time/               |          |
|    episodes         | 340      |
|    fps              | 2        |
|    time_elapsed     | 1113     |
|    total_timesteps  | 3051     |
| train/              |          |
|    learning_rate    | 0.0001   |
|    loss             | 8.57e-06 |
|    n_updates        | 762      |
----------------------------------
----------------------------------
| rollout/            |          |
|    ep_len_mean      | 9.92     |
|    ep_rew_mean      | 9.92     |
|    exploration_rate | 0.266    |
| time/               |          |
|    episodes         | 344      |
|    fps              | 2        |
|    time_elapsed     | 1126     |
|    total_timesteps  | 3089     |
| train/              |          |
|    learning_rate    | 0.0001   |
|    loss             | 1.14e-05 |
|    n_updates        | 772      |
----------------------------------
----------------------------------
| rollout/            |          |
|    ep_len_mean      | 9.79     |
|    ep_rew_mean      | 9.79     |
|    exploration_rate | 0.261    |
| time/               |          |
|    episodes         | 348      |
|    fps              | 2        |
|    time_elapsed     | 1139     |
|    total_timesteps  | 3113     |
| train/              |          |
|    learning_rate    | 0.0001   |
|    loss             | 2.19e-06 |
|    n_updates        | 778      |
----------------------------------
----------------------------------
| rollout/            |          |
|    ep_len_mean      | 9.84     |
|    ep_rew_mean      | 9.84     |
|    exploration_rate | 0.253    |
| time/               |          |
|    episodes         | 352      |
|    fps              | 2        |
|    time_elapsed     | 1151     |
|    total_timesteps  | 3146     |
| train/              |          |
|    learning_rate    | 0.0001   |
|    loss             | 7.71e-06 |
|    n_updates        | 786      |
----------------------------------
----------------------------------
| rollout/            |          |
|    ep_len_mean      | 9.79     |
|    ep_rew_mean      | 9.79     |
|    exploration_rate | 0.246    |
| time/               |          |
|    episodes         | 356      |
|    fps              | 2        |
|    time_elapsed     | 1163     |
|    total_timesteps  | 3173     |
| train/              |          |
|    learning_rate    | 0.0001   |
|    loss             | 9.37e-06 |
|    n_updates        | 793      |
----------------------------------
----------------------------------
| rollout/            |          |
|    ep_len_mean      | 10       |
|    ep_rew_mean      | 10       |
|    exploration_rate | 0.234    |
| time/               |          |
|    episodes         | 360      |
|    fps              | 2        |
|    time_elapsed     | 1176     |
|    total_timesteps  | 3227     |
| train/              |          |
|    learning_rate    | 0.0001   |
|    loss             | 3.95e-06 |
|    n_updates        | 806      |
----------------------------------
----------------------------------
| rollout/            |          |
|    ep_len_mean      | 10.2     |
|    ep_rew_mean      | 10.2     |
|    exploration_rate | 0.223    |
| time/               |          |
|    episodes         | 364      |
|    fps              | 2        |
|    time_elapsed     | 1191     |
|    total_timesteps  | 3271     |
| train/              |          |
|    learning_rate    | 0.0001   |
|    loss             | 6.91e-06 |
|    n_updates        | 817      |
----------------------------------
----------------------------------
| rollout/            |          |
|    ep_len_mean      | 10.5     |
|    ep_rew_mean      | 10.5     |
|    exploration_rate | 0.205    |
| time/               |          |
|    episodes         | 368      |
|    fps              | 2        |
|    time_elapsed     | 1209     |
|    total_timesteps  | 3348     |
| train/              |          |
|    learning_rate    | 0.0001   |
|    loss             | 8.93e-06 |
|    n_updates        | 836      |
----------------------------------
----------------------------------
| rollout/            |          |
|    ep_len_mean      | 10.5     |
|    ep_rew_mean      | 10.5     |
|    exploration_rate | 0.197    |
| time/               |          |
|    episodes         | 372      |
|    fps              | 2        |
|    time_elapsed     | 1221     |
|    total_timesteps  | 3381     |
| train/              |          |
|    learning_rate    | 0.0001   |
|    loss             | 1.01e-05 |
|    n_updates        | 845      |
----------------------------------
----------------------------------
| rollout/            |          |
|    ep_len_mean      | 10.4     |
|    ep_rew_mean      | 10.4     |
|    exploration_rate | 0.187    |
| time/               |          |
|    episodes         | 376      |
|    fps              | 2        |
|    time_elapsed     | 1233     |
|    total_timesteps  | 3423     |
| train/              |          |
|    learning_rate    | 0.0001   |
|    loss             | 2.97e-05 |
|    n_updates        | 855      |
----------------------------------
----------------------------------
| rollout/            |          |
|    ep_len_mean      | 10.6     |
|    ep_rew_mean      | 10.6     |
|    exploration_rate | 0.175    |
| time/               |          |
|    episodes         | 380      |
|    fps              | 2        |
|    time_elapsed     | 1248     |
|    total_timesteps  | 3474     |
| train/              |          |
|    learning_rate    | 0.0001   |
|    loss             | 1.04e-05 |
|    n_updates        | 868      |
----------------------------------
----------------------------------
| rollout/            |          |
|    ep_len_mean      | 10.5     |
|    ep_rew_mean      | 10.5     |
|    exploration_rate | 0.164    |
| time/               |          |
|    episodes         | 384      |
|    fps              | 2        |
|    time_elapsed     | 1262     |
|    total_timesteps  | 3522     |
| train/              |          |
|    learning_rate    | 0.0001   |
|    loss             | 1.91e-05 |
|    n_updates        | 880      |
----------------------------------
----------------------------------
| rollout/            |          |
|    ep_len_mean      | 11.1     |
|    ep_rew_mean      | 11.1     |
|    exploration_rate | 0.14     |
| time/               |          |
|    episodes         | 388      |
|    fps              | 2        |
|    time_elapsed     | 1287     |
|    total_timesteps  | 3622     |
| train/              |          |
|    learning_rate    | 0.0001   |
|    loss             | 1.08e-05 |
|    n_updates        | 905      |
----------------------------------
----------------------------------
| rollout/            |          |
|    ep_len_mean      | 11.2     |
|    ep_rew_mean      | 11.2     |
|    exploration_rate | 0.129    |
| time/               |          |
|    episodes         | 392      |
|    fps              | 2        |
|    time_elapsed     | 1300     |
|    total_timesteps  | 3668     |
| train/              |          |
|    learning_rate    | 0.0001   |
|    loss             | 1.09e-05 |
|    n_updates        | 916      |
----------------------------------
----------------------------------
| rollout/            |          |
|    ep_len_mean      | 11.1     |
|    ep_rew_mean      | 11.1     |
|    exploration_rate | 0.123    |
| time/               |          |
|    episodes         | 396      |
|    fps              | 2        |
|    time_elapsed     | 1312     |
|    total_timesteps  | 3692     |
| train/              |          |
|    learning_rate    | 0.0001   |
|    loss             | 3.81e-06 |
|    n_updates        | 922      |
----------------------------------
----------------------------------
| rollout/            |          |
|    ep_len_mean      | 11.4     |
|    ep_rew_mean      | 11.4     |
|    exploration_rate | 0.106    |
| time/               |          |
|    episodes         | 400      |
|    fps              | 2        |
|    time_elapsed     | 1331     |
|    total_timesteps  | 3763     |
| train/              |          |
|    learning_rate    | 0.0001   |
|    loss             | 1.6e-05  |
|    n_updates        | 940      |
----------------------------------
----------------------------------
| rollout/            |          |
|    ep_len_mean      | 11.4     |
|    ep_rew_mean      | 11.4     |
|    exploration_rate | 0.0992   |
| time/               |          |
|    episodes         | 404      |
|    fps              | 2        |
|    time_elapsed     | 1344     |
|    total_timesteps  | 3793     |
| train/              |          |
|    learning_rate    | 0.0001   |
|    loss             | 1.98e-05 |
|    n_updates        | 948      |
----------------------------------
----------------------------------
| rollout/            |          |
|    ep_len_mean      | 11.1     |
|    ep_rew_mean      | 11.1     |
|    exploration_rate | 0.0899   |
| time/               |          |
|    episodes         | 408      |
|    fps              | 2        |
|    time_elapsed     | 1357     |
|    total_timesteps  | 3832     |
| train/              |          |
|    learning_rate    | 0.0001   |
|    loss             | 4.64e-06 |
|    n_updates        | 957      |
----------------------------------
----------------------------------
| rollout/            |          |
|    ep_len_mean      | 11       |
|    ep_rew_mean      | 11       |
|    exploration_rate | 0.0825   |
| time/               |          |
|    episodes         | 412      |
|    fps              | 2        |
|    time_elapsed     | 1369     |
|    total_timesteps  | 3863     |
| train/              |          |
|    learning_rate    | 0.0001   |
|    loss             | 4.8e-06  |
|    n_updates        | 965      |
----------------------------------
----------------------------------
| rollout/            |          |
|    ep_len_mean      | 11.1     |
|    ep_rew_mean      | 11.1     |
|    exploration_rate | 0.0688   |
| time/               |          |
|    episodes         | 416      |
|    fps              | 2        |
|    time_elapsed     | 1381     |
|    total_timesteps  | 3921     |
| train/              |          |
|    learning_rate    | 0.0001   |
|    loss             | 2.48e-06 |
|    n_updates        | 980      |
----------------------------------
----------------------------------
| rollout/            |          |
|    ep_len_mean      | 11.5     |
|    ep_rew_mean      | 11.5     |
|    exploration_rate | 0.051    |
| time/               |          |
|    episodes         | 420      |
|    fps              | 2        |
|    time_elapsed     | 1397     |
|    total_timesteps  | 3996     |
| train/              |          |
|    learning_rate    | 0.0001   |
|    loss             | 1.18e-05 |
|    n_updates        | 998      |
----------------------------------
----------------------------------
| rollout/            |          |
|    ep_len_mean      | 11.4     |
|    ep_rew_mean      | 11.4     |
|    exploration_rate | 0.05     |
| time/               |          |
|    episodes         | 424      |
|    fps              | 2        |
|    time_elapsed     | 1404     |
|    total_timesteps  | 4021     |
| train/              |          |
|    learning_rate    | 0.0001   |
|    loss             | 1.94e-05 |
|    n_updates        | 1005     |
----------------------------------
----------------------------------
| rollout/            |          |
|    ep_len_mean      | 11.6     |
|    ep_rew_mean      | 11.6     |
|    exploration_rate | 0.05     |
| time/               |          |
|    episodes         | 428      |
|    fps              | 2        |
|    time_elapsed     | 1421     |
|    total_timesteps  | 4080     |
| train/              |          |
|    learning_rate    | 0.0001   |
|    loss             | 5.43e-06 |
|    n_updates        | 1019     |
----------------------------------
----------------------------------
| rollout/            |          |
|    ep_len_mean      | 11.5     |
|    ep_rew_mean      | 11.5     |
|    exploration_rate | 0.05     |
| time/               |          |
|    episodes         | 432      |
|    fps              | 2        |
|    time_elapsed     | 1433     |
|    total_timesteps  | 4130     |
| train/              |          |
|    learning_rate    | 0.0001   |
|    loss             | 2.92e-06 |
|    n_updates        | 1032     |
----------------------------------
----------------------------------
| rollout/            |          |
|    ep_len_mean      | 11.8     |
|    ep_rew_mean      | 11.8     |
|    exploration_rate | 0.05     |
| time/               |          |
|    episodes         | 436      |
|    fps              | 2        |
|    time_elapsed     | 1452     |
|    total_timesteps  | 4200     |
| train/              |          |
|    learning_rate    | 0.0001   |
|    loss             | 8.61e-06 |
|    n_updates        | 1049     |
----------------------------------
----------------------------------
| rollout/            |          |
|    ep_len_mean      | 12       |
|    ep_rew_mean      | 12       |
|    exploration_rate | 0.05     |
| time/               |          |
|    episodes         | 440      |
|    fps              | 2        |
|    time_elapsed     | 1467     |
|    total_timesteps  | 4255     |
| train/              |          |
|    learning_rate    | 0.0001   |
|    loss             | 1.65e-05 |
|    n_updates        | 1063     |
----------------------------------
----------------------------------
| rollout/            |          |
|    ep_len_mean      | 12       |
|    ep_rew_mean      | 12       |
|    exploration_rate | 0.05     |
| time/               |          |
|    episodes         | 444      |
|    fps              | 2        |
|    time_elapsed     | 1479     |
|    total_timesteps  | 4290     |
| train/              |          |
|    learning_rate    | 0.0001   |
|    loss             | 3.58e-06 |
|    n_updates        | 1072     |
----------------------------------
----------------------------------
| rollout/            |          |
|    ep_len_mean      | 12.2     |
|    ep_rew_mean      | 12.2     |
|    exploration_rate | 0.05     |
| time/               |          |
|    episodes         | 448      |
|    fps              | 2        |
|    time_elapsed     | 1493     |
|    total_timesteps  | 4334     |
| train/              |          |
|    learning_rate    | 0.0001   |
|    loss             | 1.8e-06  |
|    n_updates        | 1083     |
----------------------------------
----------------------------------
| rollout/            |          |
|    ep_len_mean      | 12.2     |
|    ep_rew_mean      | 12.2     |
|    exploration_rate | 0.05     |
| time/               |          |
|    episodes         | 452      |
|    fps              | 2        |
|    time_elapsed     | 1505     |
|    total_timesteps  | 4361     |
| train/              |          |
|    learning_rate    | 0.0001   |
|    loss             | 1.06e-05 |
|    n_updates        | 1090     |
----------------------------------
----------------------------------
| rollout/            |          |
|    ep_len_mean      | 12.4     |
|    ep_rew_mean      | 12.4     |
|    exploration_rate | 0.05     |
| time/               |          |
|    episodes         | 456      |
|    fps              | 2        |
|    time_elapsed     | 1518     |
|    total_timesteps  | 4415     |
| train/              |          |
|    learning_rate    | 0.0001   |
|    loss             | 8.33e-06 |
|    n_updates        | 1103     |
----------------------------------
----------------------------------
| rollout/            |          |
|    ep_len_mean      | 12.3     |
|    ep_rew_mean      | 12.3     |
|    exploration_rate | 0.05     |
| time/               |          |
|    episodes         | 460      |
|    fps              | 2        |
|    time_elapsed     | 1533     |
|    total_timesteps  | 4459     |
| train/              |          |
|    learning_rate    | 0.0001   |
|    loss             | 1.17e-05 |
|    n_updates        | 1114     |
----------------------------------
----------------------------------
| rollout/            |          |
|    ep_len_mean      | 12.3     |
|    ep_rew_mean      | 12.3     |
|    exploration_rate | 0.05     |
| time/               |          |
|    episodes         | 464      |
|    fps              | 2        |
|    time_elapsed     | 1545     |
|    total_timesteps  | 4501     |
| train/              |          |
|    learning_rate    | 0.0001   |
|    loss             | 2.11e-05 |
|    n_updates        | 1125     |
----------------------------------
----------------------------------
| rollout/            |          |
|    ep_len_mean      | 12       |
|    ep_rew_mean      | 12       |
|    exploration_rate | 0.05     |
| time/               |          |
|    episodes         | 468      |
|    fps              | 2        |
|    time_elapsed     | 1562     |
|    total_timesteps  | 4552     |
| train/              |          |
|    learning_rate    | 0.0001   |
|    loss             | 6.52e-06 |
|    n_updates        | 1137     |
----------------------------------
----------------------------------
| rollout/            |          |
|    ep_len_mean      | 12.2     |
|    ep_rew_mean      | 12.2     |
|    exploration_rate | 0.05     |
| time/               |          |
|    episodes         | 472      |
|    fps              | 2        |
|    time_elapsed     | 1576     |
|    total_timesteps  | 4604     |
| train/              |          |
|    learning_rate    | 0.0001   |
|    loss             | 8.26e-06 |
|    n_updates        | 1150     |
----------------------------------
----------------------------------
| rollout/            |          |
|    ep_len_mean      | 12.2     |
|    ep_rew_mean      | 12.2     |
|    exploration_rate | 0.05     |
| time/               |          |
|    episodes         | 476      |
|    fps              | 2        |
|    time_elapsed     | 1591     |
|    total_timesteps  | 4644     |
| train/              |          |
|    learning_rate    | 0.0001   |
|    loss             | 6.79e-06 |
|    n_updates        | 1160     |
----------------------------------
----------------------------------
| rollout/            |          |
|    ep_len_mean      | 12       |
|    ep_rew_mean      | 12       |
|    exploration_rate | 0.05     |
| time/               |          |
|    episodes         | 480      |
|    fps              | 2        |
|    time_elapsed     | 1604     |
|    total_timesteps  | 4672     |
| train/              |          |
|    learning_rate    | 0.0001   |
|    loss             | 7.04e-06 |
|    n_updates        | 1167     |
----------------------------------
----------------------------------
| rollout/            |          |
|    ep_len_mean      | 11.9     |
|    ep_rew_mean      | 11.9     |
|    exploration_rate | 0.05     |
| time/               |          |
|    episodes         | 484      |
|    fps              | 2        |
|    time_elapsed     | 1616     |
|    total_timesteps  | 4716     |
| train/              |          |
|    learning_rate    | 0.0001   |
|    loss             | 3.25e-05 |
|    n_updates        | 1178     |
----------------------------------
----------------------------------
| rollout/            |          |
|    ep_len_mean      | 11.6     |
|    ep_rew_mean      | 11.6     |
|    exploration_rate | 0.05     |
| time/               |          |
|    episodes         | 488      |
|    fps              | 2        |
|    time_elapsed     | 1631     |
|    total_timesteps  | 4781     |
| train/              |          |
|    learning_rate    | 0.0001   |
|    loss             | 8.78e-06 |
|    n_updates        | 1195     |
----------------------------------
----------------------------------
| rollout/            |          |
|    ep_len_mean      | 11.8     |
|    ep_rew_mean      | 11.8     |
|    exploration_rate | 0.05     |
| time/               |          |
|    episodes         | 492      |
|    fps              | 2        |
|    time_elapsed     | 1646     |
|    total_timesteps  | 4844     |
| train/              |          |
|    learning_rate    | 0.0001   |
|    loss             | 7.39e-06 |
|    n_updates        | 1210     |
----------------------------------
----------------------------------
| rollout/            |          |
|    ep_len_mean      | 12       |
|    ep_rew_mean      | 12       |
|    exploration_rate | 0.05     |
| time/               |          |
|    episodes         | 496      |
|    fps              | 2        |
|    time_elapsed     | 1659     |
|    total_timesteps  | 4892     |
| train/              |          |
|    learning_rate    | 0.0001   |
|    loss             | 3.3e-06  |
|    n_updates        | 1222     |
----------------------------------
----------------------------------
| rollout/            |          |
|    ep_len_mean      | 11.7     |
|    ep_rew_mean      | 11.7     |
|    exploration_rate | 0.05     |
| time/               |          |
|    episodes         | 500      |
|    fps              | 2        |
|    time_elapsed     | 1672     |
|    total_timesteps  | 4931     |
| train/              |          |
|    learning_rate    | 0.0001   |
|    loss             | 6.42e-06 |
|    n_updates        | 1232     |
----------------------------------
----------------------------------
| rollout/            |          |
|    ep_len_mean      | 12       |
|    ep_rew_mean      | 12       |
|    exploration_rate | 0.05     |
| time/               |          |
|    episodes         | 504      |
|    fps              | 2        |
|    time_elapsed     | 1689     |
|    total_timesteps  | 4996     |
| train/              |          |
|    learning_rate    | 0.0001   |
|    loss             | 1.52e-05 |
|    n_updates        | 1248     |
----------------------------------
----------------------------------
| rollout/            |          |
|    ep_len_mean      | 12       |
|    ep_rew_mean      | 12       |
|    exploration_rate | 0.05     |
| time/               |          |
|    episodes         | 508      |
|    fps              | 2        |
|    time_elapsed     | 1700     |
|    total_timesteps  | 5029     |
| train/              |          |
|    learning_rate    | 0.0001   |
|    loss             | 8.28e-06 |
|    n_updates        | 1257     |
----------------------------------
----------------------------------
| rollout/            |          |
|    ep_len_mean      | 12.2     |
|    ep_rew_mean      | 12.2     |
|    exploration_rate | 0.05     |
| time/               |          |
|    episodes         | 512      |
|    fps              | 2        |
|    time_elapsed     | 1712     |
|    total_timesteps  | 5087     |
| train/              |          |
|    learning_rate    | 0.0001   |
|    loss             | 1.78e-05 |
|    n_updates        | 1271     |
----------------------------------
----------------------------------
| rollout/            |          |
|    ep_len_mean      | 11.9     |
|    ep_rew_mean      | 11.9     |
|    exploration_rate | 0.05     |
| time/               |          |
|    episodes         | 516      |
|    fps              | 2        |
|    time_elapsed     | 1724     |
|    total_timesteps  | 5111     |
| train/              |          |
|    learning_rate    | 0.0001   |
|    loss             | 3.37e-06 |
|    n_updates        | 1277     |
----------------------------------
----------------------------------
| rollout/            |          |
|    ep_len_mean      | 11.5     |
|    ep_rew_mean      | 11.5     |
|    exploration_rate | 0.05     |
| time/               |          |
|    episodes         | 520      |
|    fps              | 2        |
|    time_elapsed     | 1736     |
|    total_timesteps  | 5149     |
| train/              |          |
|    learning_rate    | 0.0001   |
|    loss             | 1.04e-05 |
|    n_updates        | 1287     |
----------------------------------
----------------------------------
| rollout/            |          |
|    ep_len_mean      | 11.7     |
|    ep_rew_mean      | 11.7     |
|    exploration_rate | 0.05     |
| time/               |          |
|    episodes         | 524      |
|    fps              | 2        |
|    time_elapsed     | 1750     |
|    total_timesteps  | 5187     |
| train/              |          |
|    learning_rate    | 0.0001   |
|    loss             | 1.43e-06 |
|    n_updates        | 1296     |
----------------------------------
----------------------------------
| rollout/            |          |
|    ep_len_mean      | 11.6     |
|    ep_rew_mean      | 11.6     |
|    exploration_rate | 0.05     |
| time/               |          |
|    episodes         | 528      |
|    fps              | 2        |
|    time_elapsed     | 1762     |
|    total_timesteps  | 5244     |
| train/              |          |
|    learning_rate    | 0.0001   |
|    loss             | 3.35e-06 |
|    n_updates        | 1310     |
----------------------------------
----------------------------------
| rollout/            |          |
|    ep_len_mean      | 11.6     |
|    ep_rew_mean      | 11.6     |
|    exploration_rate | 0.05     |
| time/               |          |
|    episodes         | 532      |
|    fps              | 2        |
|    time_elapsed     | 1774     |
|    total_timesteps  | 5286     |
| train/              |          |
|    learning_rate    | 0.0001   |
|    loss             | 1.45e-05 |
|    n_updates        | 1321     |
----------------------------------
----------------------------------
| rollout/            |          |
|    ep_len_mean      | 11.3     |
|    ep_rew_mean      | 11.3     |
|    exploration_rate | 0.05     |
| time/               |          |
|    episodes         | 536      |
|    fps              | 2        |
|    time_elapsed     | 1790     |
|    total_timesteps  | 5333     |
| train/              |          |
|    learning_rate    | 0.0001   |
|    loss             | 8.21e-06 |
|    n_updates        | 1333     |
----------------------------------
----------------------------------
| rollout/            |          |
|    ep_len_mean      | 11.2     |
|    ep_rew_mean      | 11.2     |
|    exploration_rate | 0.05     |
| time/               |          |
|    episodes         | 540      |
|    fps              | 2        |
|    time_elapsed     | 1801     |
|    total_timesteps  | 5378     |
| train/              |          |
|    learning_rate    | 0.0001   |
|    loss             | 1.95e-05 |
|    n_updates        | 1344     |
----------------------------------
----------------------------------
| rollout/            |          |
|    ep_len_mean      | 11.1     |
|    ep_rew_mean      | 11.1     |
|    exploration_rate | 0.05     |
| time/               |          |
|    episodes         | 544      |
|    fps              | 2        |
|    time_elapsed     | 1809     |
|    total_timesteps  | 5403     |
| train/              |          |
|    learning_rate    | 0.0001   |
|    loss             | 1.33e-06 |
|    n_updates        | 1350     |
----------------------------------
----------------------------------
| rollout/            |          |
|    ep_len_mean      | 10.9     |
|    ep_rew_mean      | 10.9     |
|    exploration_rate | 0.05     |
| time/               |          |
|    episodes         | 548      |
|    fps              | 2        |
|    time_elapsed     | 1816     |
|    total_timesteps  | 5425     |
| train/              |          |
|    learning_rate    | 0.0001   |
|    loss             | 1.28e-06 |
|    n_updates        | 1356     |
----------------------------------
----------------------------------
| rollout/            |          |
|    ep_len_mean      | 11.1     |
|    ep_rew_mean      | 11.1     |
|    exploration_rate | 0.05     |
| time/               |          |
|    episodes         | 552      |
|    fps              | 2        |
|    time_elapsed     | 1830     |
|    total_timesteps  | 5473     |
| train/              |          |
|    learning_rate    | 0.0001   |
|    loss             | 1e-05    |
|    n_updates        | 1368     |
----------------------------------
----------------------------------
| rollout/            |          |
|    ep_len_mean      | 11.2     |
|    ep_rew_mean      | 11.2     |
|    exploration_rate | 0.05     |
| time/               |          |
|    episodes         | 556      |
|    fps              | 3        |
|    time_elapsed     | 1841     |
|    total_timesteps  | 5531     |
| train/              |          |
|    learning_rate    | 0.0001   |
|    loss             | 6.36e-06 |
|    n_updates        | 1382     |
----------------------------------
----------------------------------
| rollout/            |          |
|    ep_len_mean      | 11.1     |
|    ep_rew_mean      | 11.1     |
|    exploration_rate | 0.05     |
| time/               |          |
|    episodes         | 560      |
|    fps              | 3        |
|    time_elapsed     | 1853     |
|    total_timesteps  | 5572     |
| train/              |          |
|    learning_rate    | 0.0001   |
|    loss             | 2.2e-05  |
|    n_updates        | 1392     |
----------------------------------
----------------------------------
| rollout/            |          |
|    ep_len_mean      | 11.3     |
|    ep_rew_mean      | 11.3     |
|    exploration_rate | 0.05     |
| time/               |          |
|    episodes         | 564      |
|    fps              | 3        |
|    time_elapsed     | 1867     |
|    total_timesteps  | 5630     |
| train/              |          |
|    learning_rate    | 0.0001   |
|    loss             | 5.51e-06 |
|    n_updates        | 1407     |
----------------------------------
----------------------------------
| rollout/            |          |
|    ep_len_mean      | 12.2     |
|    ep_rew_mean      | 12.2     |
|    exploration_rate | 0.05     |
| time/               |          |
|    episodes         | 568      |
|    fps              | 2        |
|    time_elapsed     | 1925     |
|    total_timesteps  | 5773     |
| train/              |          |
|    learning_rate    | 0.0001   |
|    loss             | 4.91e-06 |
|    n_updates        | 1443     |
----------------------------------
----------------------------------
| rollout/            |          |
|    ep_len_mean      | 12.1     |
|    ep_rew_mean      | 12.1     |
|    exploration_rate | 0.05     |
| time/               |          |
|    episodes         | 572      |
|    fps              | 3        |
|    time_elapsed     | 1937     |
|    total_timesteps  | 5816     |
| train/              |          |
|    learning_rate    | 0.0001   |
|    loss             | 6.52e-06 |
|    n_updates        | 1453     |
----------------------------------
----------------------------------
| rollout/            |          |
|    ep_len_mean      | 12       |
|    ep_rew_mean      | 12       |
|    exploration_rate | 0.05     |
| time/               |          |
|    episodes         | 576      |
|    fps              | 2        |
|    time_elapsed     | 1950     |
|    total_timesteps  | 5840     |
| train/              |          |
|    learning_rate    | 0.0001   |
|    loss             | 1.13e-05 |
|    n_updates        | 1459     |
----------------------------------
----------------------------------
| rollout/            |          |
|    ep_len_mean      | 12       |
|    ep_rew_mean      | 12       |
|    exploration_rate | 0.05     |
| time/               |          |
|    episodes         | 580      |
|    fps              | 2        |
|    time_elapsed     | 1962     |
|    total_timesteps  | 5868     |
| train/              |          |
|    learning_rate    | 0.0001   |
|    loss             | 2.58e-06 |
|    n_updates        | 1466     |
----------------------------------
----------------------------------
| rollout/            |          |
|    ep_len_mean      | 12       |
|    ep_rew_mean      | 12       |
|    exploration_rate | 0.05     |
| time/               |          |
|    episodes         | 584      |
|    fps              | 2        |
|    time_elapsed     | 1973     |
|    total_timesteps  | 5920     |
| train/              |          |
|    learning_rate    | 0.0001   |
|    loss             | 4.46e-06 |
|    n_updates        | 1479     |
----------------------------------
----------------------------------
| rollout/            |          |
|    ep_len_mean      | 11.7     |
|    ep_rew_mean      | 11.7     |
|    exploration_rate | 0.05     |
| time/               |          |
|    episodes         | 588      |
|    fps              | 2        |
|    time_elapsed     | 1986     |
|    total_timesteps  | 5952     |
| train/              |          |
|    learning_rate    | 0.0001   |
|    loss             | 1.11e-05 |
|    n_updates        | 1487     |
----------------------------------
----------------------------------
| rollout/            |          |
|    ep_len_mean      | 11.6     |
|    ep_rew_mean      | 11.6     |
|    exploration_rate | 0.05     |
| time/               |          |
|    episodes         | 592      |
|    fps              | 3        |
|    time_elapsed     | 1998     |
|    total_timesteps  | 6005     |
| train/              |          |
|    learning_rate    | 0.0001   |
|    loss             | 3.99e-06 |
|    n_updates        | 1501     |
----------------------------------
----------------------------------
| rollout/            |          |
|    ep_len_mean      | 11.6     |
|    ep_rew_mean      | 11.6     |
|    exploration_rate | 0.05     |
| time/               |          |
|    episodes         | 596      |
|    fps              | 3        |
|    time_elapsed     | 2012     |
|    total_timesteps  | 6047     |
| train/              |          |
|    learning_rate    | 0.0001   |
|    loss             | 8.15e-06 |
|    n_updates        | 1511     |
----------------------------------
----------------------------------
| rollout/            |          |
|    ep_len_mean      | 11.7     |
|    ep_rew_mean      | 11.7     |
|    exploration_rate | 0.05     |
| time/               |          |
|    episodes         | 600      |
|    fps              | 3        |
|    time_elapsed     | 2025     |
|    total_timesteps  | 6100     |
| train/              |          |
|    learning_rate    | 0.0001   |
|    loss             | 8.58e-06 |
|    n_updates        | 1524     |
----------------------------------
----------------------------------
| rollout/            |          |
|    ep_len_mean      | 11.3     |
|    ep_rew_mean      | 11.3     |
|    exploration_rate | 0.05     |
| time/               |          |
|    episodes         | 604      |
|    fps              | 3        |
|    time_elapsed     | 2037     |
|    total_timesteps  | 6129     |
| train/              |          |
|    learning_rate    | 0.0001   |
|    loss             | 4.47e-06 |
|    n_updates        | 1532     |
----------------------------------
----------------------------------
| rollout/            |          |
|    ep_len_mean      | 11.4     |
|    ep_rew_mean      | 11.4     |
|    exploration_rate | 0.05     |
| time/               |          |
|    episodes         | 608      |
|    fps              | 3        |
|    time_elapsed     | 2052     |
|    total_timesteps  | 6173     |
| train/              |          |
|    learning_rate    | 0.0001   |
|    loss             | 6.66e-06 |
|    n_updates        | 1543     |
----------------------------------
----------------------------------
| rollout/            |          |
|    ep_len_mean      | 11.4     |
|    ep_rew_mean      | 11.4     |
|    exploration_rate | 0.05     |
| time/               |          |
|    episodes         | 612      |
|    fps              | 3        |
|    time_elapsed     | 2067     |
|    total_timesteps  | 6231     |
| train/              |          |
|    learning_rate    | 0.0001   |
|    loss             | 3.59e-06 |
|    n_updates        | 1557     |
----------------------------------
----------------------------------
| rollout/            |          |
|    ep_len_mean      | 11.5     |
|    ep_rew_mean      | 11.5     |
|    exploration_rate | 0.05     |
| time/               |          |
|    episodes         | 616      |
|    fps              | 3        |
|    time_elapsed     | 2081     |
|    total_timesteps  | 6264     |
| train/              |          |
|    learning_rate    | 0.0001   |
|    loss             | 5.07e-06 |
|    n_updates        | 1565     |
----------------------------------
----------------------------------
| rollout/            |          |
|    ep_len_mean      | 11.5     |
|    ep_rew_mean      | 11.5     |
|    exploration_rate | 0.05     |
| time/               |          |
|    episodes         | 620      |
|    fps              | 3        |
|    time_elapsed     | 2093     |
|    total_timesteps  | 6298     |
| train/              |          |
|    learning_rate    | 0.0001   |
|    loss             | 8.82e-06 |
|    n_updates        | 1574     |
----------------------------------
----------------------------------
| rollout/            |          |
|    ep_len_mean      | 11.4     |
|    ep_rew_mean      | 11.4     |
|    exploration_rate | 0.05     |
| time/               |          |
|    episodes         | 624      |
|    fps              | 3        |
|    time_elapsed     | 2102     |
|    total_timesteps  | 6324     |
| train/              |          |
|    learning_rate    | 0.0001   |
|    loss             | 3.05e-06 |
|    n_updates        | 1580     |
----------------------------------
----------------------------------
| rollout/            |          |
|    ep_len_mean      | 11.3     |
|    ep_rew_mean      | 11.3     |
|    exploration_rate | 0.05     |
| time/               |          |
|    episodes         | 628      |
|    fps              | 3        |
|    time_elapsed     | 2115     |
|    total_timesteps  | 6373     |
| train/              |          |
|    learning_rate    | 0.0001   |
|    loss             | 1.96e-06 |
|    n_updates        | 1593     |
----------------------------------
----------------------------------
| rollout/            |          |
|    ep_len_mean      | 11.3     |
|    ep_rew_mean      | 11.3     |
|    exploration_rate | 0.05     |
| time/               |          |
|    episodes         | 632      |
|    fps              | 3        |
|    time_elapsed     | 2127     |
|    total_timesteps  | 6416     |
| train/              |          |
|    learning_rate    | 0.0001   |
|    loss             | 2.69e-06 |
|    n_updates        | 1603     |
----------------------------------
----------------------------------
| rollout/            |          |
|    ep_len_mean      | 11.1     |
|    ep_rew_mean      | 11.1     |
|    exploration_rate | 0.05     |
| time/               |          |
|    episodes         | 636      |
|    fps              | 3        |
|    time_elapsed     | 2139     |
|    total_timesteps  | 6445     |
| train/              |          |
|    learning_rate    | 0.0001   |
|    loss             | 2.48e-06 |
|    n_updates        | 1611     |
----------------------------------
----------------------------------
| rollout/            |          |
|    ep_len_mean      | 11.1     |
|    ep_rew_mean      | 11.1     |
|    exploration_rate | 0.05     |
| time/               |          |
|    episodes         | 640      |
|    fps              | 3        |
|    time_elapsed     | 2152     |
|    total_timesteps  | 6492     |
| train/              |          |
|    learning_rate    | 0.0001   |
|    loss             | 3.71e-06 |
|    n_updates        | 1622     |
----------------------------------
----------------------------------
| rollout/            |          |
|    ep_len_mean      | 11.4     |
|    ep_rew_mean      | 11.4     |
|    exploration_rate | 0.05     |
| time/               |          |
|    episodes         | 644      |
|    fps              | 3        |
|    time_elapsed     | 2168     |
|    total_timesteps  | 6548     |
| train/              |          |
|    learning_rate    | 0.0001   |
|    loss             | 2.08e-06 |
|    n_updates        | 1636     |
----------------------------------
----------------------------------
| rollout/            |          |
|    ep_len_mean      | 11.8     |
|    ep_rew_mean      | 11.8     |
|    exploration_rate | 0.05     |
| time/               |          |
|    episodes         | 648      |
|    fps              | 3        |
|    time_elapsed     | 2181     |
|    total_timesteps  | 6600     |
| train/              |          |
|    learning_rate    | 0.0001   |
|    loss             | 3.75e-06 |
|    n_updates        | 1649     |
----------------------------------
----------------------------------
| rollout/            |          |
|    ep_len_mean      | 11.7     |
|    ep_rew_mean      | 11.7     |
|    exploration_rate | 0.05     |
| time/               |          |
|    episodes         | 652      |
|    fps              | 3        |
|    time_elapsed     | 2196     |
|    total_timesteps  | 6640     |
| train/              |          |
|    learning_rate    | 0.0001   |
|    loss             | 2.49e-06 |
|    n_updates        | 1659     |
----------------------------------
----------------------------------
| rollout/            |          |
|    ep_len_mean      | 11.7     |
|    ep_rew_mean      | 11.7     |
|    exploration_rate | 0.05     |
| time/               |          |
|    episodes         | 656      |
|    fps              | 3        |
|    time_elapsed     | 2209     |
|    total_timesteps  | 6698     |
| train/              |          |
|    learning_rate    | 0.0001   |
|    loss             | 4.25e-06 |
|    n_updates        | 1674     |
----------------------------------
----------------------------------
| rollout/            |          |
|    ep_len_mean      | 11.6     |
|    ep_rew_mean      | 11.6     |
|    exploration_rate | 0.05     |
| time/               |          |
|    episodes         | 660      |
|    fps              | 3        |
|    time_elapsed     | 2223     |
|    total_timesteps  | 6731     |
| train/              |          |
|    learning_rate    | 0.0001   |
|    loss             | 2.33e-06 |
|    n_updates        | 1682     |
----------------------------------
----------------------------------
| rollout/            |          |
|    ep_len_mean      | 11.3     |
|    ep_rew_mean      | 11.3     |
|    exploration_rate | 0.05     |
| time/               |          |
|    episodes         | 664      |
|    fps              | 3        |
|    time_elapsed     | 2231     |
|    total_timesteps  | 6764     |
| train/              |          |
|    learning_rate    | 0.0001   |
|    loss             | 1.2e-05  |
|    n_updates        | 1690     |
----------------------------------
----------------------------------
| rollout/            |          |
|    ep_len_mean      | 10.2     |
|    ep_rew_mean      | 10.2     |
|    exploration_rate | 0.05     |
| time/               |          |
|    episodes         | 668      |
|    fps              | 3        |
|    time_elapsed     | 2243     |
|    total_timesteps  | 6798     |
| train/              |          |
|    learning_rate    | 0.0001   |
|    loss             | 5.96e-06 |
|    n_updates        | 1699     |
----------------------------------
----------------------------------
| rollout/            |          |
|    ep_len_mean      | 10.1     |
|    ep_rew_mean      | 10.1     |
|    exploration_rate | 0.05     |
| time/               |          |
|    episodes         | 672      |
|    fps              | 3        |
|    time_elapsed     | 2256     |
|    total_timesteps  | 6825     |
| train/              |          |
|    learning_rate    | 0.0001   |
|    loss             | 6.96e-06 |
|    n_updates        | 1706     |
----------------------------------
----------------------------------
| rollout/            |          |
|    ep_len_mean      | 10.2     |
|    ep_rew_mean      | 10.2     |
|    exploration_rate | 0.05     |
| time/               |          |
|    episodes         | 676      |
|    fps              | 3        |
|    time_elapsed     | 2268     |
|    total_timesteps  | 6865     |
| train/              |          |
|    learning_rate    | 0.0001   |
|    loss             | 1.16e-05 |
|    n_updates        | 1716     |
----------------------------------
----------------------------------
| rollout/            |          |
|    ep_len_mean      | 10.4     |
|    ep_rew_mean      | 10.4     |
|    exploration_rate | 0.05     |
| time/               |          |
|    episodes         | 680      |
|    fps              | 3        |
|    time_elapsed     | 2279     |
|    total_timesteps  | 6907     |
| train/              |          |
|    learning_rate    | 0.0001   |
|    loss             | 5.87e-06 |
|    n_updates        | 1726     |
----------------------------------
----------------------------------
| rollout/            |          |
|    ep_len_mean      | 10.2     |
|    ep_rew_mean      | 10.2     |
|    exploration_rate | 0.05     |
| time/               |          |
|    episodes         | 684      |
|    fps              | 3        |
|    time_elapsed     | 2292     |
|    total_timesteps  | 6936     |
| train/              |          |
|    learning_rate    | 0.0001   |
|    loss             | 5.53e-06 |
|    n_updates        | 1733     |
----------------------------------
----------------------------------
| rollout/            |          |
|    ep_len_mean      | 10.4     |
|    ep_rew_mean      | 10.4     |
|    exploration_rate | 0.05     |
| time/               |          |
|    episodes         | 688      |
|    fps              | 3        |
|    time_elapsed     | 2306     |
|    total_timesteps  | 6996     |
| train/              |          |
|    learning_rate    | 0.0001   |
|    loss             | 6.19e-06 |
|    n_updates        | 1748     |
----------------------------------
----------------------------------
| rollout/            |          |
|    ep_len_mean      | 10.4     |
|    ep_rew_mean      | 10.4     |
|    exploration_rate | 0.05     |
| time/               |          |
|    episodes         | 692      |
|    fps              | 3        |
|    time_elapsed     | 2319     |
|    total_timesteps  | 7043     |
| train/              |          |
|    learning_rate    | 0.0001   |
|    loss             | 5.39e-06 |
|    n_updates        | 1760     |
----------------------------------
----------------------------------
| rollout/            |          |
|    ep_len_mean      | 10.4     |
|    ep_rew_mean      | 10.4     |
|    exploration_rate | 0.05     |
| time/               |          |
|    episodes         | 696      |
|    fps              | 3        |
|    time_elapsed     | 2335     |
|    total_timesteps  | 7089     |
| train/              |          |
|    learning_rate    | 0.0001   |
|    loss             | 6.94e-06 |
|    n_updates        | 1772     |
----------------------------------
----------------------------------
| rollout/            |          |
|    ep_len_mean      | 10.4     |
|    ep_rew_mean      | 10.4     |
|    exploration_rate | 0.05     |
| time/               |          |
|    episodes         | 700      |
|    fps              | 3        |
|    time_elapsed     | 2350     |
|    total_timesteps  | 7145     |
| train/              |          |
|    learning_rate    | 0.0001   |
|    loss             | 1.41e-05 |
|    n_updates        | 1786     |
----------------------------------
----------------------------------
| rollout/            |          |
|    ep_len_mean      | 10.3     |
|    ep_rew_mean      | 10.3     |
|    exploration_rate | 0.05     |
| time/               |          |
|    episodes         | 704      |
|    fps              | 3        |
|    time_elapsed     | 2357     |
|    total_timesteps  | 7161     |
| train/              |          |
|    learning_rate    | 0.0001   |
|    loss             | 1.48e-05 |
|    n_updates        | 1790     |
----------------------------------
----------------------------------
| rollout/            |          |
|    ep_len_mean      | 10.4     |
|    ep_rew_mean      | 10.4     |
|    exploration_rate | 0.05     |
| time/               |          |
|    episodes         | 708      |
|    fps              | 3        |
|    time_elapsed     | 2370     |
|    total_timesteps  | 7209     |
| train/              |          |
|    learning_rate    | 0.0001   |
|    loss             | 5.33e-06 |
|    n_updates        | 1802     |
----------------------------------
----------------------------------
| rollout/            |          |
|    ep_len_mean      | 10.2     |
|    ep_rew_mean      | 10.2     |
|    exploration_rate | 0.05     |
| time/               |          |
|    episodes         | 712      |
|    fps              | 3        |
|    time_elapsed     | 2382     |
|    total_timesteps  | 7252     |
| train/              |          |
|    learning_rate    | 0.0001   |
|    loss             | 1.66e-06 |
|    n_updates        | 1812     |
----------------------------------
----------------------------------
| rollout/            |          |
|    ep_len_mean      | 10.3     |
|    ep_rew_mean      | 10.3     |
|    exploration_rate | 0.05     |
| time/               |          |
|    episodes         | 716      |
|    fps              | 3        |
|    time_elapsed     | 2393     |
|    total_timesteps  | 7295     |
| train/              |          |
|    learning_rate    | 0.0001   |
|    loss             | 8.09e-06 |
|    n_updates        | 1823     |
----------------------------------
----------------------------------
| rollout/            |          |
|    ep_len_mean      | 10.2     |
|    ep_rew_mean      | 10.2     |
|    exploration_rate | 0.05     |
| time/               |          |
|    episodes         | 720      |
|    fps              | 3        |
|    time_elapsed     | 2406     |
|    total_timesteps  | 7319     |
| train/              |          |
|    learning_rate    | 0.0001   |
|    loss             | 1.01e-05 |
|    n_updates        | 1829     |
----------------------------------
----------------------------------
| rollout/            |          |
|    ep_len_mean      | 10.5     |
|    ep_rew_mean      | 10.5     |
|    exploration_rate | 0.05     |
| time/               |          |
|    episodes         | 724      |
|    fps              | 3        |
|    time_elapsed     | 2421     |
|    total_timesteps  | 7373     |
| train/              |          |
|    learning_rate    | 0.0001   |
|    loss             | 1.97e-06 |
|    n_updates        | 1843     |
----------------------------------
----------------------------------
| rollout/            |          |
|    ep_len_mean      | 10.5     |
|    ep_rew_mean      | 10.5     |
|    exploration_rate | 0.05     |
| time/               |          |
|    episodes         | 728      |
|    fps              | 3        |
|    time_elapsed     | 2435     |
|    total_timesteps  | 7423     |
| train/              |          |
|    learning_rate    | 0.0001   |
|    loss             | 8.33e-06 |
|    n_updates        | 1855     |
----------------------------------
----------------------------------
| rollout/            |          |
|    ep_len_mean      | 10.5     |
|    ep_rew_mean      | 10.5     |
|    exploration_rate | 0.05     |
| time/               |          |
|    episodes         | 732      |
|    fps              | 3        |
|    time_elapsed     | 2447     |
|    total_timesteps  | 7468     |
| train/              |          |
|    learning_rate    | 0.0001   |
|    loss             | 4.56e-06 |
|    n_updates        | 1866     |
----------------------------------
----------------------------------
| rollout/            |          |
|    ep_len_mean      | 10.5     |
|    ep_rew_mean      | 10.5     |
|    exploration_rate | 0.05     |
| time/               |          |
|    episodes         | 736      |
|    fps              | 3        |
|    time_elapsed     | 2459     |
|    total_timesteps  | 7495     |
| train/              |          |
|    learning_rate    | 0.0001   |
|    loss             | 1.03e-05 |
|    n_updates        | 1873     |
----------------------------------
----------------------------------
| rollout/            |          |
|    ep_len_mean      | 10.5     |
|    ep_rew_mean      | 10.5     |
|    exploration_rate | 0.05     |
| time/               |          |
|    episodes         | 740      |
|    fps              | 3        |
|    time_elapsed     | 2473     |
|    total_timesteps  | 7544     |
| train/              |          |
|    learning_rate    | 0.0001   |
|    loss             | 1.47e-06 |
|    n_updates        | 1885     |
----------------------------------
----------------------------------
| rollout/            |          |
|    ep_len_mean      | 10.3     |
|    ep_rew_mean      | 10.3     |
|    exploration_rate | 0.05     |
| time/               |          |
|    episodes         | 744      |
|    fps              | 3        |
|    time_elapsed     | 2487     |
|    total_timesteps  | 7578     |
| train/              |          |
|    learning_rate    | 0.0001   |
|    loss             | 2.73e-06 |
|    n_updates        | 1894     |
----------------------------------
----------------------------------
| rollout/            |          |
|    ep_len_mean      | 10.1     |
|    ep_rew_mean      | 10.1     |
|    exploration_rate | 0.05     |
| time/               |          |
|    episodes         | 748      |
|    fps              | 3        |
|    time_elapsed     | 2499     |
|    total_timesteps  | 7608     |
| train/              |          |
|    learning_rate    | 0.0001   |
|    loss             | 5.2e-06  |
|    n_updates        | 1901     |
----------------------------------
----------------------------------
| rollout/            |          |
|    ep_len_mean      | 10.2     |
|    ep_rew_mean      | 10.2     |
|    exploration_rate | 0.05     |
| time/               |          |
|    episodes         | 752      |
|    fps              | 3        |
|    time_elapsed     | 2516     |
|    total_timesteps  | 7655     |
| train/              |          |
|    learning_rate    | 0.0001   |
|    loss             | 2.55e-06 |
|    n_updates        | 1913     |
----------------------------------
----------------------------------
| rollout/            |          |
|    ep_len_mean      | 10.1     |
|    ep_rew_mean      | 10.1     |
|    exploration_rate | 0.05     |
| time/               |          |
|    episodes         | 756      |
|    fps              | 3        |
|    time_elapsed     | 2533     |
|    total_timesteps  | 7710     |
| train/              |          |
|    learning_rate    | 0.0001   |
|    loss             | 6.86e-06 |
|    n_updates        | 1927     |
----------------------------------
----------------------------------
| rollout/            |          |
|    ep_len_mean      | 10.1     |
|    ep_rew_mean      | 10.1     |
|    exploration_rate | 0.05     |
| time/               |          |
|    episodes         | 760      |
|    fps              | 3        |
|    time_elapsed     | 2540     |
|    total_timesteps  | 7743     |
| train/              |          |
|    learning_rate    | 0.0001   |
|    loss             | 1.02e-06 |
|    n_updates        | 1935     |
----------------------------------
----------------------------------
| rollout/            |          |
|    ep_len_mean      | 10.3     |
|    ep_rew_mean      | 10.3     |
|    exploration_rate | 0.05     |
| time/               |          |
|    episodes         | 764      |
|    fps              | 3        |
|    time_elapsed     | 2553     |
|    total_timesteps  | 7797     |
| train/              |          |
|    learning_rate    | 0.0001   |
|    loss             | 3.96e-06 |
|    n_updates        | 1949     |
----------------------------------
----------------------------------
| rollout/            |          |
|    ep_len_mean      | 10.2     |
|    ep_rew_mean      | 10.2     |
|    exploration_rate | 0.05     |
| time/               |          |
|    episodes         | 768      |
|    fps              | 3        |
|    time_elapsed     | 2560     |
|    total_timesteps  | 7816     |
| train/              |          |
|    learning_rate    | 0.0001   |
|    loss             | 4.85e-06 |
|    n_updates        | 1953     |
----------------------------------
----------------------------------
| rollout/            |          |
|    ep_len_mean      | 10.6     |
|    ep_rew_mean      | 10.6     |
|    exploration_rate | 0.05     |
| time/               |          |
|    episodes         | 772      |
|    fps              | 3        |
|    time_elapsed     | 2578     |
|    total_timesteps  | 7889     |
| train/              |          |
|    learning_rate    | 0.0001   |
|    loss             | 1.76e-06 |
|    n_updates        | 1972     |
----------------------------------
----------------------------------
| rollout/            |          |
|    ep_len_mean      | 10.6     |
|    ep_rew_mean      | 10.6     |
|    exploration_rate | 0.05     |
| time/               |          |
|    episodes         | 776      |
|    fps              | 3        |
|    time_elapsed     | 2590     |
|    total_timesteps  | 7924     |
| train/              |          |
|    learning_rate    | 0.0001   |
|    loss             | 5.75e-06 |
|    n_updates        | 1980     |
----------------------------------
----------------------------------
| rollout/            |          |
|    ep_len_mean      | 10.6     |
|    ep_rew_mean      | 10.6     |
|    exploration_rate | 0.05     |
| time/               |          |
|    episodes         | 780      |
|    fps              | 3        |
|    time_elapsed     | 2603     |
|    total_timesteps  | 7962     |
| train/              |          |
|    learning_rate    | 0.0001   |
|    loss             | 4.84e-06 |
|    n_updates        | 1990     |
----------------------------------
----------------------------------
| rollout/            |          |
|    ep_len_mean      | 10.6     |
|    ep_rew_mean      | 10.6     |
|    exploration_rate | 0.05     |
| time/               |          |
|    episodes         | 784      |
|    fps              | 3        |
|    time_elapsed     | 2614     |
|    total_timesteps  | 7996     |
| train/              |          |
|    learning_rate    | 0.0001   |
|    loss             | 7.89e-06 |
|    n_updates        | 1998     |
----------------------------------
----------------------------------
| rollout/            |          |
|    ep_len_mean      | 10.3     |
|    ep_rew_mean      | 10.3     |
|    exploration_rate | 0.05     |
| time/               |          |
|    episodes         | 788      |
|    fps              | 3        |
|    time_elapsed     | 2625     |
|    total_timesteps  | 8029     |
| train/              |          |
|    learning_rate    | 0.0001   |
|    loss             | 4.71e-06 |
|    n_updates        | 2007     |
----------------------------------
----------------------------------
| rollout/            |          |
|    ep_len_mean      | 10.2     |
|    ep_rew_mean      | 10.2     |
|    exploration_rate | 0.05     |
| time/               |          |
|    episodes         | 792      |
|    fps              | 3        |
|    time_elapsed     | 2637     |
|    total_timesteps  | 8067     |
| train/              |          |
|    learning_rate    | 0.0001   |
|    loss             | 9.03e-06 |
|    n_updates        | 2016     |
----------------------------------
----------------------------------
| rollout/            |          |
|    ep_len_mean      | 10.3     |
|    ep_rew_mean      | 10.3     |
|    exploration_rate | 0.05     |
| time/               |          |
|    episodes         | 796      |
|    fps              | 3        |
|    time_elapsed     | 2648     |
|    total_timesteps  | 8115     |
| train/              |          |
|    learning_rate    | 0.0001   |
|    loss             | 5.63e-06 |
|    n_updates        | 2028     |
----------------------------------
----------------------------------
| rollout/            |          |
|    ep_len_mean      | 10.4     |
|    ep_rew_mean      | 10.4     |
|    exploration_rate | 0.05     |
| time/               |          |
|    episodes         | 800      |
|    fps              | 3        |
|    time_elapsed     | 2666     |
|    total_timesteps  | 8182     |
| train/              |          |
|    learning_rate    | 0.0001   |
|    loss             | 4.98e-06 |
|    n_updates        | 2045     |
----------------------------------
----------------------------------
| rollout/            |          |
|    ep_len_mean      | 10.7     |
|    ep_rew_mean      | 10.7     |
|    exploration_rate | 0.05     |
| time/               |          |
|    episodes         | 804      |
|    fps              | 3        |
|    time_elapsed     | 2680     |
|    total_timesteps  | 8234     |
| train/              |          |
|    learning_rate    | 0.0001   |
|    loss             | 9.24e-06 |
|    n_updates        | 2058     |
----------------------------------
----------------------------------
| rollout/            |          |
|    ep_len_mean      | 10.6     |
|    ep_rew_mean      | 10.6     |
|    exploration_rate | 0.05     |
| time/               |          |
|    episodes         | 808      |
|    fps              | 3        |
|    time_elapsed     | 2692     |
|    total_timesteps  | 8271     |
| train/              |          |
|    learning_rate    | 0.0001   |
|    loss             | 1.37e-05 |
|    n_updates        | 2067     |
----------------------------------
----------------------------------
| rollout/            |          |
|    ep_len_mean      | 10.4     |
|    ep_rew_mean      | 10.4     |
|    exploration_rate | 0.05     |
| time/               |          |
|    episodes         | 812      |
|    fps              | 3        |
|    time_elapsed     | 2699     |
|    total_timesteps  | 8294     |
| train/              |          |
|    learning_rate    | 0.0001   |
|    loss             | 1.26e-05 |
|    n_updates        | 2073     |
----------------------------------
----------------------------------
| rollout/            |          |
|    ep_len_mean      | 10.4     |
|    ep_rew_mean      | 10.4     |
|    exploration_rate | 0.05     |
| time/               |          |
|    episodes         | 816      |
|    fps              | 3        |
|    time_elapsed     | 2713     |
|    total_timesteps  | 8340     |
| train/              |          |
|    learning_rate    | 0.0001   |
|    loss             | 4.61e-06 |
|    n_updates        | 2084     |
----------------------------------
----------------------------------
| rollout/            |          |
|    ep_len_mean      | 10.6     |
|    ep_rew_mean      | 10.6     |
|    exploration_rate | 0.05     |
| time/               |          |
|    episodes         | 820      |
|    fps              | 3        |
|    time_elapsed     | 2724     |
|    total_timesteps  | 8380     |
| train/              |          |
|    learning_rate    | 0.0001   |
|    loss             | 4.71e-06 |
|    n_updates        | 2094     |
----------------------------------
----------------------------------
| rollout/            |          |
|    ep_len_mean      | 10.5     |
|    ep_rew_mean      | 10.5     |
|    exploration_rate | 0.05     |
| time/               |          |
|    episodes         | 824      |
|    fps              | 3        |
|    time_elapsed     | 2738     |
|    total_timesteps  | 8425     |
| train/              |          |
|    learning_rate    | 0.0001   |
|    loss             | 2.74e-06 |
|    n_updates        | 2106     |
----------------------------------
----------------------------------
| rollout/            |          |
|    ep_len_mean      | 10.5     |
|    ep_rew_mean      | 10.5     |
|    exploration_rate | 0.05     |
| time/               |          |
|    episodes         | 828      |
|    fps              | 3        |
|    time_elapsed     | 2753     |
|    total_timesteps  | 8473     |
| train/              |          |
|    learning_rate    | 0.0001   |
|    loss             | 3.61e-06 |
|    n_updates        | 2118     |
----------------------------------
----------------------------------
| rollout/            |          |
|    ep_len_mean      | 10.7     |
|    ep_rew_mean      | 10.7     |
|    exploration_rate | 0.05     |
| time/               |          |
|    episodes         | 832      |
|    fps              | 3        |
|    time_elapsed     | 2770     |
|    total_timesteps  | 8542     |
| train/              |          |
|    learning_rate    | 0.0001   |
|    loss             | 1.22e-05 |
|    n_updates        | 2135     |
----------------------------------
----------------------------------
| rollout/            |          |
|    ep_len_mean      | 10.8     |
|    ep_rew_mean      | 10.8     |
|    exploration_rate | 0.05     |
| time/               |          |
|    episodes         | 836      |
|    fps              | 3        |
|    time_elapsed     | 2783     |
|    total_timesteps  | 8580     |
| train/              |          |
|    learning_rate    | 0.0001   |
|    loss             | 5.94e-06 |
|    n_updates        | 2144     |
----------------------------------
----------------------------------
| rollout/            |          |
|    ep_len_mean      | 10.8     |
|    ep_rew_mean      | 10.8     |
|    exploration_rate | 0.05     |
| time/               |          |
|    episodes         | 840      |
|    fps              | 3        |
|    time_elapsed     | 2795     |
|    total_timesteps  | 8620     |
| train/              |          |
|    learning_rate    | 0.0001   |
|    loss             | 3.91e-06 |
|    n_updates        | 2154     |
----------------------------------
----------------------------------
| rollout/            |          |
|    ep_len_mean      | 11       |
|    ep_rew_mean      | 11       |
|    exploration_rate | 0.05     |
| time/               |          |
|    episodes         | 844      |
|    fps              | 3        |
|    time_elapsed     | 2810     |
|    total_timesteps  | 8676     |
| train/              |          |
|    learning_rate    | 0.0001   |
|    loss             | 1.96e-06 |
|    n_updates        | 2168     |
----------------------------------
----------------------------------
| rollout/            |          |
|    ep_len_mean      | 11.1     |
|    ep_rew_mean      | 11.1     |
|    exploration_rate | 0.05     |
| time/               |          |
|    episodes         | 848      |
|    fps              | 3        |
|    time_elapsed     | 2822     |
|    total_timesteps  | 8713     |
| train/              |          |
|    learning_rate    | 0.0001   |
|    loss             | 6.5e-06  |
|    n_updates        | 2178     |
----------------------------------
----------------------------------
| rollout/            |          |
|    ep_len_mean      | 11.2     |
|    ep_rew_mean      | 11.2     |
|    exploration_rate | 0.05     |
| time/               |          |
|    episodes         | 852      |
|    fps              | 3        |
|    time_elapsed     | 2840     |
|    total_timesteps  | 8771     |
| train/              |          |
|    learning_rate    | 0.0001   |
|    loss             | 7.25e-06 |
|    n_updates        | 2192     |
----------------------------------
----------------------------------
| rollout/            |          |
|    ep_len_mean      | 11.1     |
|    ep_rew_mean      | 11.1     |
|    exploration_rate | 0.05     |
| time/               |          |
|    episodes         | 856      |
|    fps              | 3        |
|    time_elapsed     | 2852     |
|    total_timesteps  | 8823     |
| train/              |          |
|    learning_rate    | 0.0001   |
|    loss             | 1.66e-05 |
|    n_updates        | 2205     |
----------------------------------
----------------------------------
| rollout/            |          |
|    ep_len_mean      | 11.1     |
|    ep_rew_mean      | 11.1     |
|    exploration_rate | 0.05     |
| time/               |          |
|    episodes         | 860      |
|    fps              | 3        |
|    time_elapsed     | 2866     |
|    total_timesteps  | 8853     |
| train/              |          |
|    learning_rate    | 0.0001   |
|    loss             | 1.18e-05 |
|    n_updates        | 2213     |
----------------------------------
----------------------------------
| rollout/            |          |
|    ep_len_mean      | 10.9     |
|    ep_rew_mean      | 10.9     |
|    exploration_rate | 0.05     |
| time/               |          |
|    episodes         | 864      |
|    fps              | 3        |
|    time_elapsed     | 2878     |
|    total_timesteps  | 8892     |
| train/              |          |
|    learning_rate    | 0.0001   |
|    loss             | 3.84e-06 |
|    n_updates        | 2222     |
----------------------------------
----------------------------------
| rollout/            |          |
|    ep_len_mean      | 11.1     |
|    ep_rew_mean      | 11.1     |
|    exploration_rate | 0.05     |
| time/               |          |
|    episodes         | 868      |
|    fps              | 3        |
|    time_elapsed     | 2891     |
|    total_timesteps  | 8922     |
| train/              |          |
|    learning_rate    | 0.0001   |
|    loss             | 3.92e-06 |
|    n_updates        | 2230     |
----------------------------------
----------------------------------
| rollout/            |          |
|    ep_len_mean      | 10.9     |
|    ep_rew_mean      | 10.9     |
|    exploration_rate | 0.05     |
| time/               |          |
|    episodes         | 872      |
|    fps              | 3        |
|    time_elapsed     | 2903     |
|    total_timesteps  | 8978     |
| train/              |          |
|    learning_rate    | 0.0001   |
|    loss             | 7.39e-06 |
|    n_updates        | 2244     |
----------------------------------
----------------------------------
| rollout/            |          |
|    ep_len_mean      | 11.2     |
|    ep_rew_mean      | 11.2     |
|    exploration_rate | 0.05     |
| time/               |          |
|    episodes         | 876      |
|    fps              | 3        |
|    time_elapsed     | 2916     |
|    total_timesteps  | 9041     |
| train/              |          |
|    learning_rate    | 0.0001   |
|    loss             | 3e-06    |
|    n_updates        | 2260     |
----------------------------------
----------------------------------
| rollout/            |          |
|    ep_len_mean      | 11.2     |
|    ep_rew_mean      | 11.2     |
|    exploration_rate | 0.05     |
| time/               |          |
|    episodes         | 880      |
|    fps              | 3        |
|    time_elapsed     | 2929     |
|    total_timesteps  | 9084     |
| train/              |          |
|    learning_rate    | 0.0001   |
|    loss             | 6.64e-06 |
|    n_updates        | 2270     |
----------------------------------
----------------------------------
| rollout/            |          |
|    ep_len_mean      | 11.1     |
|    ep_rew_mean      | 11.1     |
|    exploration_rate | 0.05     |
| time/               |          |
|    episodes         | 884      |
|    fps              | 3        |
|    time_elapsed     | 2937     |
|    total_timesteps  | 9104     |
| train/              |          |
|    learning_rate    | 0.0001   |
|    loss             | 7.56e-06 |
|    n_updates        | 2275     |
----------------------------------
----------------------------------
| rollout/            |          |
|    ep_len_mean      | 11.3     |
|    ep_rew_mean      | 11.3     |
|    exploration_rate | 0.05     |
| time/               |          |
|    episodes         | 888      |
|    fps              | 3        |
|    time_elapsed     | 2951     |
|    total_timesteps  | 9159     |
| train/              |          |
|    learning_rate    | 0.0001   |
|    loss             | 1.09e-05 |
|    n_updates        | 2289     |
----------------------------------
----------------------------------
| rollout/            |          |
|    ep_len_mean      | 11.3     |
|    ep_rew_mean      | 11.3     |
|    exploration_rate | 0.05     |
| time/               |          |
|    episodes         | 892      |
|    fps              | 3        |
|    time_elapsed     | 2964     |
|    total_timesteps  | 9200     |
| train/              |          |
|    learning_rate    | 0.0001   |
|    loss             | 7.71e-06 |
|    n_updates        | 2299     |
----------------------------------
----------------------------------
| rollout/            |          |
|    ep_len_mean      | 11.2     |
|    ep_rew_mean      | 11.2     |
|    exploration_rate | 0.05     |
| time/               |          |
|    episodes         | 896      |
|    fps              | 3        |
|    time_elapsed     | 2977     |
|    total_timesteps  | 9238     |
| train/              |          |
|    learning_rate    | 0.0001   |
|    loss             | 5.72e-06 |
|    n_updates        | 2309     |
----------------------------------
----------------------------------
| rollout/            |          |
|    ep_len_mean      | 11       |
|    ep_rew_mean      | 11       |
|    exploration_rate | 0.05     |
| time/               |          |
|    episodes         | 900      |
|    fps              | 3        |
|    time_elapsed     | 2989     |
|    total_timesteps  | 9285     |
| train/              |          |
|    learning_rate    | 0.0001   |
|    loss             | 3.33e-06 |
|    n_updates        | 2321     |
----------------------------------
----------------------------------
| rollout/            |          |
|    ep_len_mean      | 11.1     |
|    ep_rew_mean      | 11.1     |
|    exploration_rate | 0.05     |
| time/               |          |
|    episodes         | 904      |
|    fps              | 3        |
|    time_elapsed     | 3004     |
|    total_timesteps  | 9339     |
| train/              |          |
|    learning_rate    | 0.0001   |
|    loss             | 5.91e-06 |
|    n_updates        | 2334     |
----------------------------------
----------------------------------
| rollout/            |          |
|    ep_len_mean      | 10.9     |
|    ep_rew_mean      | 10.9     |
|    exploration_rate | 0.05     |
| time/               |          |
|    episodes         | 908      |
|    fps              | 3        |
|    time_elapsed     | 3011     |
|    total_timesteps  | 9358     |
| train/              |          |
|    learning_rate    | 0.0001   |
|    loss             | 2.59e-06 |
|    n_updates        | 2339     |
----------------------------------
----------------------------------
| rollout/            |          |
|    ep_len_mean      | 11.2     |
|    ep_rew_mean      | 11.2     |
|    exploration_rate | 0.05     |
| time/               |          |
|    episodes         | 912      |
|    fps              | 3        |
|    time_elapsed     | 3026     |
|    total_timesteps  | 9413     |
| train/              |          |
|    learning_rate    | 0.0001   |
|    loss             | 4.4e-06  |
|    n_updates        | 2353     |
----------------------------------
----------------------------------
| rollout/            |          |
|    ep_len_mean      | 11.1     |
|    ep_rew_mean      | 11.1     |
|    exploration_rate | 0.05     |
| time/               |          |
|    episodes         | 916      |
|    fps              | 3        |
|    time_elapsed     | 3038     |
|    total_timesteps  | 9451     |
| train/              |          |
|    learning_rate    | 0.0001   |
|    loss             | 9.65e-06 |
|    n_updates        | 2362     |
----------------------------------
----------------------------------
| rollout/            |          |
|    ep_len_mean      | 11.2     |
|    ep_rew_mean      | 11.2     |
|    exploration_rate | 0.05     |
| time/               |          |
|    episodes         | 920      |
|    fps              | 3        |
|    time_elapsed     | 3050     |
|    total_timesteps  | 9500     |
| train/              |          |
|    learning_rate    | 0.0001   |
|    loss             | 2.35e-06 |
|    n_updates        | 2374     |
----------------------------------
----------------------------------
| rollout/            |          |
|    ep_len_mean      | 11.2     |
|    ep_rew_mean      | 11.2     |
|    exploration_rate | 0.05     |
| time/               |          |
|    episodes         | 924      |
|    fps              | 3        |
|    time_elapsed     | 3065     |
|    total_timesteps  | 9547     |
| train/              |          |
|    learning_rate    | 0.0001   |
|    loss             | 1.43e-06 |
|    n_updates        | 2386     |
----------------------------------
----------------------------------
| rollout/            |          |
|    ep_len_mean      | 11.4     |
|    ep_rew_mean      | 11.4     |
|    exploration_rate | 0.05     |
| time/               |          |
|    episodes         | 928      |
|    fps              | 3        |
|    time_elapsed     | 3087     |
|    total_timesteps  | 9618     |
| train/              |          |
|    learning_rate    | 0.0001   |
|    loss             | 5.94e-06 |
|    n_updates        | 2404     |
----------------------------------
----------------------------------
| rollout/            |          |
|    ep_len_mean      | 11.2     |
|    ep_rew_mean      | 11.2     |
|    exploration_rate | 0.05     |
| time/               |          |
|    episodes         | 932      |
|    fps              | 3        |
|    time_elapsed     | 3099     |
|    total_timesteps  | 9658     |
| train/              |          |
|    learning_rate    | 0.0001   |
|    loss             | 5.68e-06 |
|    n_updates        | 2414     |
----------------------------------
----------------------------------
| rollout/            |          |
|    ep_len_mean      | 11       |
|    ep_rew_mean      | 11       |
|    exploration_rate | 0.05     |
| time/               |          |
|    episodes         | 936      |
|    fps              | 3        |
|    time_elapsed     | 3106     |
|    total_timesteps  | 9680     |
| train/              |          |
|    learning_rate    | 0.0001   |
|    loss             | 1.09e-05 |
|    n_updates        | 2419     |
----------------------------------
----------------------------------
| rollout/            |          |
|    ep_len_mean      | 10.9     |
|    ep_rew_mean      | 10.9     |
|    exploration_rate | 0.05     |
| time/               |          |
|    episodes         | 940      |
|    fps              | 3        |
|    time_elapsed     | 3118     |
|    total_timesteps  | 9715     |
| train/              |          |
|    learning_rate    | 0.0001   |
|    loss             | 4.64e-06 |
|    n_updates        | 2428     |
----------------------------------
----------------------------------
| rollout/            |          |
|    ep_len_mean      | 10.6     |
|    ep_rew_mean      | 10.6     |
|    exploration_rate | 0.05     |
| time/               |          |
|    episodes         | 944      |
|    fps              | 3        |
|    time_elapsed     | 3125     |
|    total_timesteps  | 9737     |
| train/              |          |
|    learning_rate    | 0.0001   |
|    loss             | 1.08e-05 |
|    n_updates        | 2434     |
----------------------------------
----------------------------------
| rollout/            |          |
|    ep_len_mean      | 10.6     |
|    ep_rew_mean      | 10.6     |
|    exploration_rate | 0.05     |
| time/               |          |
|    episodes         | 948      |
|    fps              | 3        |
|    time_elapsed     | 3137     |
|    total_timesteps  | 9769     |
| train/              |          |
|    learning_rate    | 0.0001   |
|    loss             | 7.05e-06 |
|    n_updates        | 2442     |
----------------------------------
----------------------------------
| rollout/            |          |
|    ep_len_mean      | 10.5     |
|    ep_rew_mean      | 10.5     |
|    exploration_rate | 0.05     |
| time/               |          |
|    episodes         | 952      |
|    fps              | 3        |
|    time_elapsed     | 3150     |
|    total_timesteps  | 9817     |
| train/              |          |
|    learning_rate    | 0.0001   |
|    loss             | 8.14e-06 |
|    n_updates        | 2454     |
----------------------------------
----------------------------------
| rollout/            |          |
|    ep_len_mean      | 10.5     |
|    ep_rew_mean      | 10.5     |
|    exploration_rate | 0.05     |
| time/               |          |
|    episodes         | 956      |
|    fps              | 3        |
|    time_elapsed     | 3165     |
|    total_timesteps  | 9873     |
| train/              |          |
|    learning_rate    | 0.0001   |
|    loss             | 6.47e-06 |
|    n_updates        | 2468     |
----------------------------------
----------------------------------
| rollout/            |          |
|    ep_len_mean      | 10.7     |
|    ep_rew_mean      | 10.7     |
|    exploration_rate | 0.05     |
| time/               |          |
|    episodes         | 960      |
|    fps              | 3        |
|    time_elapsed     | 3178     |
|    total_timesteps  | 9919     |
| train/              |          |
|    learning_rate    | 0.0001   |
|    loss             | 5.95e-06 |
|    n_updates        | 2479     |
----------------------------------
----------------------------------
| rollout/            |          |
|    ep_len_mean      | 10.8     |
|    ep_rew_mean      | 10.8     |
|    exploration_rate | 0.05     |
| time/               |          |
|    episodes         | 964      |
|    fps              | 3        |
|    time_elapsed     | 3192     |
|    total_timesteps  | 9971     |
| train/              |          |
|    learning_rate    | 0.0001   |
|    loss             | 6.48e-06 |
|    n_updates        | 2492     |
----------------------------------
----------------------------------
| rollout/            |          |
|    ep_len_mean      | 10.8     |
|    ep_rew_mean      | 10.8     |
|    exploration_rate | 0.05     |
| time/               |          |
|    episodes         | 968      |
|    fps              | 3        |
|    time_elapsed     | 3204     |
|    total_timesteps  | 10002    |
| train/              |          |
|    learning_rate    | 0.0001   |
|    loss             | 0.383    |
|    n_updates        | 2500     |
----------------------------------
----------------------------------
| rollout/            |          |
|    ep_len_mean      | 10.8     |
|    ep_rew_mean      | 10.8     |
|    exploration_rate | 0.05     |
| time/               |          |
|    episodes         | 972      |
|    fps              | 3        |
|    time_elapsed     | 3216     |
|    total_timesteps  | 10056    |
| train/              |          |
|    learning_rate    | 0.0001   |
|    loss             | 0.138    |
|    n_updates        | 2513     |
----------------------------------
----------------------------------
| rollout/            |          |
|    ep_len_mean      | 10.4     |
|    ep_rew_mean      | 10.4     |
|    exploration_rate | 0.05     |
| time/               |          |
|    episodes         | 976      |
|    fps              | 3        |
|    time_elapsed     | 3228     |
|    total_timesteps  | 10078    |
| train/              |          |
|    learning_rate    | 0.0001   |
|    loss             | 0.089    |
|    n_updates        | 2519     |
----------------------------------
----------------------------------
| rollout/            |          |
|    ep_len_mean      | 10.2     |
|    ep_rew_mean      | 10.2     |
|    exploration_rate | 0.05     |
| time/               |          |
|    episodes         | 980      |
|    fps              | 3        |
|    time_elapsed     | 3235     |
|    total_timesteps  | 10106    |
| train/              |          |
|    learning_rate    | 0.0001   |
|    loss             | 0.0789   |
|    n_updates        | 2526     |
----------------------------------
----------------------------------
| rollout/            |          |
|    ep_len_mean      | 10.5     |
|    ep_rew_mean      | 10.5     |
|    exploration_rate | 0.05     |
| time/               |          |
|    episodes         | 984      |
|    fps              | 3        |
|    time_elapsed     | 3248     |
|    total_timesteps  | 10154    |
| train/              |          |
|    learning_rate    | 0.0001   |
|    loss             | 0.0905   |
|    n_updates        | 2538     |
----------------------------------
----------------------------------
| rollout/            |          |
|    ep_len_mean      | 10.3     |
|    ep_rew_mean      | 10.3     |
|    exploration_rate | 0.05     |
| time/               |          |
|    episodes         | 988      |
|    fps              | 3        |
|    time_elapsed     | 3255     |
|    total_timesteps  | 10191    |
| train/              |          |
|    learning_rate    | 0.0001   |
|    loss             | 0.0316   |
|    n_updates        | 2547     |
----------------------------------
----------------------------------
| rollout/            |          |
|    ep_len_mean      | 10.2     |
|    ep_rew_mean      | 10.2     |
|    exploration_rate | 0.05     |
| time/               |          |
|    episodes         | 992      |
|    fps              | 3        |
|    time_elapsed     | 3268     |
|    total_timesteps  | 10220    |
| train/              |          |
|    learning_rate    | 0.0001   |
|    loss             | 0.0561   |
|    n_updates        | 2554     |
----------------------------------
----------------------------------
| rollout/            |          |
|    ep_len_mean      | 10.3     |
|    ep_rew_mean      | 10.3     |
|    exploration_rate | 0.05     |
| time/               |          |
|    episodes         | 996      |
|    fps              | 3        |
|    time_elapsed     | 3280     |
|    total_timesteps  | 10266    |
| train/              |          |
|    learning_rate    | 0.0001   |
|    loss             | 0.0273   |
|    n_updates        | 2566     |
----------------------------------
----------------------------------
| rollout/            |          |
|    ep_len_mean      | 10.3     |
|    ep_rew_mean      | 10.3     |
|    exploration_rate | 0.05     |
| time/               |          |
|    episodes         | 1000     |
|    fps              | 3        |
|    time_elapsed     | 3292     |
|    total_timesteps  | 10315    |
| train/              |          |
|    learning_rate    | 0.0001   |
|    loss             | 0.0372   |
|    n_updates        | 2578     |
----------------------------------
----------------------------------
| rollout/            |          |
|    ep_len_mean      | 10.5     |
|    ep_rew_mean      | 10.5     |
|    exploration_rate | 0.05     |
| time/               |          |
|    episodes         | 1004     |
|    fps              | 3        |
|    time_elapsed     | 3311     |
|    total_timesteps  | 10385    |
| train/              |          |
|    learning_rate    | 0.0001   |
|    loss             | 0.0193   |
|    n_updates        | 2596     |
----------------------------------
----------------------------------
| rollout/            |          |
|    ep_len_mean      | 10.6     |
|    ep_rew_mean      | 10.6     |
|    exploration_rate | 0.05     |
| time/               |          |
|    episodes         | 1008     |
|    fps              | 3        |
|    time_elapsed     | 3319     |
|    total_timesteps  | 10421    |
| train/              |          |
|    learning_rate    | 0.0001   |
|    loss             | 0.0311   |
|    n_updates        | 2605     |
----------------------------------
----------------------------------
| rollout/            |          |
|    ep_len_mean      | 10.4     |
|    ep_rew_mean      | 10.4     |
|    exploration_rate | 0.05     |
| time/               |          |
|    episodes         | 1012     |
|    fps              | 3        |
|    time_elapsed     | 3330     |
|    total_timesteps  | 10449    |
| train/              |          |
|    learning_rate    | 0.0001   |
|    loss             | 0.0123   |
|    n_updates        | 2612     |
----------------------------------
----------------------------------
| rollout/            |          |
|    ep_len_mean      | 10.3     |
|    ep_rew_mean      | 10.3     |
|    exploration_rate | 0.05     |
| time/               |          |
|    episodes         | 1016     |
|    fps              | 3        |
|    time_elapsed     | 3342     |
|    total_timesteps  | 10479    |
| train/              |          |
|    learning_rate    | 0.0001   |
|    loss             | 0.0245   |
|    n_updates        | 2619     |
----------------------------------
----------------------------------
| rollout/            |          |
|    ep_len_mean      | 10.2     |
|    ep_rew_mean      | 10.2     |
|    exploration_rate | 0.05     |
| time/               |          |
|    episodes         | 1020     |
|    fps              | 3        |
|    time_elapsed     | 3349     |
|    total_timesteps  | 10516    |
| train/              |          |
|    learning_rate    | 0.0001   |
|    loss             | 0.00858  |
|    n_updates        | 2628     |
----------------------------------
----------------------------------
| rollout/            |          |
|    ep_len_mean      | 10       |
|    ep_rew_mean      | 10       |
|    exploration_rate | 0.05     |
| time/               |          |
|    episodes         | 1024     |
|    fps              | 3        |
|    time_elapsed     | 3360     |
|    total_timesteps  | 10550    |
| train/              |          |
|    learning_rate    | 0.0001   |
|    loss             | 0.0136   |
|    n_updates        | 2637     |
----------------------------------
----------------------------------
| rollout/            |          |
|    ep_len_mean      | 9.66     |
|    ep_rew_mean      | 9.66     |
|    exploration_rate | 0.05     |
| time/               |          |
|    episodes         | 1028     |
|    fps              | 3        |
|    time_elapsed     | 3372     |
|    total_timesteps  | 10584    |
| train/              |          |
|    learning_rate    | 0.0001   |
|    loss             | 0.00422  |
|    n_updates        | 2645     |
----------------------------------
----------------------------------
| rollout/            |          |
|    ep_len_mean      | 9.78     |
|    ep_rew_mean      | 9.78     |
|    exploration_rate | 0.05     |
| time/               |          |
|    episodes         | 1032     |
|    fps              | 3        |
|    time_elapsed     | 3383     |
|    total_timesteps  | 10636    |
| train/              |          |
|    learning_rate    | 0.0001   |
|    loss             | 0.0106   |
|    n_updates        | 2658     |
----------------------------------
----------------------------------
| rollout/            |          |
|    ep_len_mean      | 9.87     |
|    ep_rew_mean      | 9.87     |
|    exploration_rate | 0.05     |
| time/               |          |
|    episodes         | 1036     |
|    fps              | 3        |
|    time_elapsed     | 3395     |
|    total_timesteps  | 10667    |
| train/              |          |
|    learning_rate    | 0.0001   |
|    loss             | 0.00921  |
|    n_updates        | 2666     |
----------------------------------
----------------------------------
| rollout/            |          |
|    ep_len_mean      | 9.92     |
|    ep_rew_mean      | 9.92     |
|    exploration_rate | 0.05     |
| time/               |          |
|    episodes         | 1040     |
|    fps              | 3        |
|    time_elapsed     | 3407     |
|    total_timesteps  | 10707    |
| train/              |          |
|    learning_rate    | 0.0001   |
|    loss             | 0.00597  |
|    n_updates        | 2676     |
----------------------------------
----------------------------------
| rollout/            |          |
|    ep_len_mean      | 9.94     |
|    ep_rew_mean      | 9.94     |
|    exploration_rate | 0.05     |
| time/               |          |
|    episodes         | 1044     |
|    fps              | 3        |
|    time_elapsed     | 3418     |
|    total_timesteps  | 10731    |
| train/              |          |
|    learning_rate    | 0.0001   |
|    loss             | 0.0228   |
|    n_updates        | 2682     |
----------------------------------
----------------------------------
| rollout/            |          |
|    ep_len_mean      | 10       |
|    ep_rew_mean      | 10       |
|    exploration_rate | 0.05     |
| time/               |          |
|    episodes         | 1048     |
|    fps              | 3        |
|    time_elapsed     | 3433     |
|    total_timesteps  | 10772    |
| train/              |          |
|    learning_rate    | 0.0001   |
|    loss             | 0.0181   |
|    n_updates        | 2692     |
----------------------------------
----------------------------------
| rollout/            |          |
|    ep_len_mean      | 10       |
|    ep_rew_mean      | 10       |
|    exploration_rate | 0.05     |
| time/               |          |
|    episodes         | 1052     |
|    fps              | 3        |
|    time_elapsed     | 3446     |
|    total_timesteps  | 10818    |
| train/              |          |
|    learning_rate    | 0.0001   |
|    loss             | 0.00264  |
|    n_updates        | 2704     |
----------------------------------
----------------------------------
| rollout/            |          |
|    ep_len_mean      | 9.72     |
|    ep_rew_mean      | 9.72     |
|    exploration_rate | 0.05     |
| time/               |          |
|    episodes         | 1056     |
|    fps              | 3        |
|    time_elapsed     | 3459     |
|    total_timesteps  | 10845    |
| train/              |          |
|    learning_rate    | 0.0001   |
|    loss             | 0.0171   |
|    n_updates        | 2711     |
----------------------------------
----------------------------------
| rollout/            |          |
|    ep_len_mean      | 9.52     |
|    ep_rew_mean      | 9.52     |
|    exploration_rate | 0.05     |
| time/               |          |
|    episodes         | 1060     |
|    fps              | 3        |
|    time_elapsed     | 3471     |
|    total_timesteps  | 10871    |
| train/              |          |
|    learning_rate    | 0.0001   |
|    loss             | 0.0374   |
|    n_updates        | 2717     |
----------------------------------
----------------------------------
| rollout/            |          |
|    ep_len_mean      | 9.58     |
|    ep_rew_mean      | 9.58     |
|    exploration_rate | 0.05     |
| time/               |          |
|    episodes         | 1064     |
|    fps              | 3        |
|    time_elapsed     | 3483     |
|    total_timesteps  | 10929    |
| train/              |          |
|    learning_rate    | 0.0001   |
|    loss             | 0.00155  |
|    n_updates        | 2732     |
----------------------------------
----------------------------------
| rollout/            |          |
|    ep_len_mean      | 9.54     |
|    ep_rew_mean      | 9.54     |
|    exploration_rate | 0.05     |
| time/               |          |
|    episodes         | 1068     |
|    fps              | 3        |
|    time_elapsed     | 3496     |
|    total_timesteps  | 10956    |
| train/              |          |
|    learning_rate    | 0.0001   |
|    loss             | 0.0218   |
|    n_updates        | 2738     |
----------------------------------
----------------------------------
| rollout/            |          |
|    ep_len_mean      | 9.32     |
|    ep_rew_mean      | 9.32     |
|    exploration_rate | 0.05     |
| time/               |          |
|    episodes         | 1072     |
|    fps              | 3        |
|    time_elapsed     | 3508     |
|    total_timesteps  | 10988    |
| train/              |          |
|    learning_rate    | 0.0001   |
|    loss             | 0.009    |
|    n_updates        | 2746     |
----------------------------------
----------------------------------
| rollout/            |          |
|    ep_len_mean      | 9.71     |
|    ep_rew_mean      | 9.71     |
|    exploration_rate | 0.05     |
| time/               |          |
|    episodes         | 1076     |
|    fps              | 3        |
|    time_elapsed     | 3522     |
|    total_timesteps  | 11049    |
| train/              |          |
|    learning_rate    | 0.0001   |
|    loss             | 0.0202   |
|    n_updates        | 2762     |
----------------------------------
----------------------------------
| rollout/            |          |
|    ep_len_mean      | 10.1     |
|    ep_rew_mean      | 10.1     |
|    exploration_rate | 0.05     |
| time/               |          |
|    episodes         | 1080     |
|    fps              | 3        |
|    time_elapsed     | 3538     |
|    total_timesteps  | 11117    |
| train/              |          |
|    learning_rate    | 0.0001   |
|    loss             | 0.00166  |
|    n_updates        | 2779     |
----------------------------------
----------------------------------
| rollout/            |          |
|    ep_len_mean      | 9.98     |
|    ep_rew_mean      | 9.98     |
|    exploration_rate | 0.05     |
| time/               |          |
|    episodes         | 1084     |
|    fps              | 3        |
|    time_elapsed     | 3551     |
|    total_timesteps  | 11152    |
| train/              |          |
|    learning_rate    | 0.0001   |
|    loss             | 0.0178   |
|    n_updates        | 2787     |
----------------------------------
----------------------------------
| rollout/            |          |
|    ep_len_mean      | 10.2     |
|    ep_rew_mean      | 10.2     |
|    exploration_rate | 0.05     |
| time/               |          |
|    episodes         | 1088     |
|    fps              | 3        |
|    time_elapsed     | 3565     |
|    total_timesteps  | 11215    |
| train/              |          |
|    learning_rate    | 0.0001   |
|    loss             | 0.00101  |
|    n_updates        | 2803     |
----------------------------------
----------------------------------
| rollout/            |          |
|    ep_len_mean      | 10.3     |
|    ep_rew_mean      | 10.3     |
|    exploration_rate | 0.05     |
| time/               |          |
|    episodes         | 1092     |
|    fps              | 3        |
|    time_elapsed     | 3577     |
|    total_timesteps  | 11246    |
| train/              |          |
|    learning_rate    | 0.0001   |
|    loss             | 0.00544  |
|    n_updates        | 2811     |
----------------------------------
----------------------------------
| rollout/            |          |
|    ep_len_mean      | 9.93     |
|    ep_rew_mean      | 9.93     |
|    exploration_rate | 0.05     |
| time/               |          |
|    episodes         | 1096     |
|    fps              | 3        |
|    time_elapsed     | 3584     |
|    total_timesteps  | 11259    |
| train/              |          |
|    learning_rate    | 0.0001   |
|    loss             | 0.0046   |
|    n_updates        | 2814     |
----------------------------------
----------------------------------
| rollout/            |          |
|    ep_len_mean      | 9.86     |
|    ep_rew_mean      | 9.86     |
|    exploration_rate | 0.05     |
| time/               |          |
|    episodes         | 1100     |
|    fps              | 3        |
|    time_elapsed     | 3595     |
|    total_timesteps  | 11301    |
| train/              |          |
|    learning_rate    | 0.0001   |
|    loss             | 0.0114   |
|    n_updates        | 2825     |
----------------------------------
----------------------------------
| rollout/            |          |
|    ep_len_mean      | 9.65     |
|    ep_rew_mean      | 9.65     |
|    exploration_rate | 0.05     |
| time/               |          |
|    episodes         | 1104     |
|    fps              | 3        |
|    time_elapsed     | 3610     |
|    total_timesteps  | 11350    |
| train/              |          |
|    learning_rate    | 0.0001   |
|    loss             | 0.00143  |
|    n_updates        | 2837     |
----------------------------------
----------------------------------
| rollout/            |          |
|    ep_len_mean      | 9.78     |
|    ep_rew_mean      | 9.78     |
|    exploration_rate | 0.05     |
| time/               |          |
|    episodes         | 1108     |
|    fps              | 3        |
|    time_elapsed     | 3622     |
|    total_timesteps  | 11399    |
| train/              |          |
|    learning_rate    | 0.0001   |
|    loss             | 0.0217   |
|    n_updates        | 2849     |
----------------------------------
----------------------------------
| rollout/            |          |
|    ep_len_mean      | 9.84     |
|    ep_rew_mean      | 9.84     |
|    exploration_rate | 0.05     |
| time/               |          |
|    episodes         | 1112     |
|    fps              | 3        |
|    time_elapsed     | 3634     |
|    total_timesteps  | 11433    |
| train/              |          |
|    learning_rate    | 0.0001   |
|    loss             | 0.017    |
|    n_updates        | 2858     |
----------------------------------
----------------------------------
| rollout/            |          |
|    ep_len_mean      | 10.1     |
|    ep_rew_mean      | 10.1     |
|    exploration_rate | 0.05     |
| time/               |          |
|    episodes         | 1116     |
|    fps              | 3        |
|    time_elapsed     | 3650     |
|    total_timesteps  | 11492    |
| train/              |          |
|    learning_rate    | 0.0001   |
|    loss             | 0.00764  |
|    n_updates        | 2872     |
----------------------------------
----------------------------------
| rollout/            |          |
|    ep_len_mean      | 10.4     |
|    ep_rew_mean      | 10.4     |
|    exploration_rate | 0.05     |
| time/               |          |
|    episodes         | 1120     |
|    fps              | 3        |
|    time_elapsed     | 3668     |
|    total_timesteps  | 11555    |
| train/              |          |
|    learning_rate    | 0.0001   |
|    loss             | 0.0101   |
|    n_updates        | 2888     |
----------------------------------
----------------------------------
| rollout/            |          |
|    ep_len_mean      | 10.4     |
|    ep_rew_mean      | 10.4     |
|    exploration_rate | 0.05     |
| time/               |          |
|    episodes         | 1124     |
|    fps              | 3        |
|    time_elapsed     | 3680     |
|    total_timesteps  | 11590    |
| train/              |          |
|    learning_rate    | 0.0001   |
|    loss             | 0.02     |
|    n_updates        | 2897     |
----------------------------------
----------------------------------
| rollout/            |          |
|    ep_len_mean      | 10.4     |
|    ep_rew_mean      | 10.4     |
|    exploration_rate | 0.05     |
| time/               |          |
|    episodes         | 1128     |
|    fps              | 3        |
|    time_elapsed     | 3693     |
|    total_timesteps  | 11624    |
| train/              |          |
|    learning_rate    | 0.0001   |
|    loss             | 0.0298   |
|    n_updates        | 2905     |
----------------------------------
----------------------------------
| rollout/            |          |
|    ep_len_mean      | 10.2     |
|    ep_rew_mean      | 10.2     |
|    exploration_rate | 0.05     |
| time/               |          |
|    episodes         | 1132     |
|    fps              | 3        |
|    time_elapsed     | 3705     |
|    total_timesteps  | 11661    |
| train/              |          |
|    learning_rate    | 0.0001   |
|    loss             | 0.0151   |
|    n_updates        | 2915     |
----------------------------------
----------------------------------
| rollout/            |          |
|    ep_len_mean      | 10.4     |
|    ep_rew_mean      | 10.4     |
|    exploration_rate | 0.05     |
| time/               |          |
|    episodes         | 1136     |
|    fps              | 3        |
|    time_elapsed     | 3718     |
|    total_timesteps  | 11710    |
| train/              |          |
|    learning_rate    | 0.0001   |
|    loss             | 0.00864  |
|    n_updates        | 2927     |
----------------------------------
----------------------------------
| rollout/            |          |
|    ep_len_mean      | 10.4     |
|    ep_rew_mean      | 10.4     |
|    exploration_rate | 0.05     |
| time/               |          |
|    episodes         | 1140     |
|    fps              | 3        |
|    time_elapsed     | 3731     |
|    total_timesteps  | 11749    |
| train/              |          |
|    learning_rate    | 0.0001   |
|    loss             | 0.00487  |
|    n_updates        | 2937     |
----------------------------------
----------------------------------
| rollout/            |          |
|    ep_len_mean      | 10.7     |
|    ep_rew_mean      | 10.7     |
|    exploration_rate | 0.05     |
| time/               |          |
|    episodes         | 1144     |
|    fps              | 3        |
|    time_elapsed     | 3742     |
|    total_timesteps  | 11798    |
| train/              |          |
|    learning_rate    | 0.0001   |
|    loss             | 0.0178   |
|    n_updates        | 2949     |
----------------------------------
----------------------------------
| rollout/            |          |
|    ep_len_mean      | 10.7     |
|    ep_rew_mean      | 10.7     |
|    exploration_rate | 0.05     |
| time/               |          |
|    episodes         | 1148     |
|    fps              | 3        |
|    time_elapsed     | 3755     |
|    total_timesteps  | 11841    |
| train/              |          |
|    learning_rate    | 0.0001   |
|    loss             | 0.00115  |
|    n_updates        | 2960     |
----------------------------------
----------------------------------
| rollout/            |          |
|    ep_len_mean      | 10.6     |
|    ep_rew_mean      | 10.6     |
|    exploration_rate | 0.05     |
| time/               |          |
|    episodes         | 1152     |
|    fps              | 3        |
|    time_elapsed     | 3770     |
|    total_timesteps  | 11879    |
| train/              |          |
|    learning_rate    | 0.0001   |
|    loss             | 0.00825  |
|    n_updates        | 2969     |
----------------------------------
----------------------------------
| rollout/            |          |
|    ep_len_mean      | 10.7     |
|    ep_rew_mean      | 10.7     |
|    exploration_rate | 0.05     |
| time/               |          |
|    episodes         | 1156     |
|    fps              | 3        |
|    time_elapsed     | 3782     |
|    total_timesteps  | 11913    |
| train/              |          |
|    learning_rate    | 0.0001   |
|    loss             | 0.0164   |
|    n_updates        | 2978     |
----------------------------------
----------------------------------
| rollout/            |          |
|    ep_len_mean      | 11       |
|    ep_rew_mean      | 11       |
|    exploration_rate | 0.05     |
| time/               |          |
|    episodes         | 1160     |
|    fps              | 3        |
|    time_elapsed     | 3801     |
|    total_timesteps  | 11967    |
| train/              |          |
|    learning_rate    | 0.0001   |
|    loss             | 0.0176   |
|    n_updates        | 2991     |
----------------------------------
----------------------------------
| rollout/            |          |
|    ep_len_mean      | 10.9     |
|    ep_rew_mean      | 10.9     |
|    exploration_rate | 0.05     |
| time/               |          |
|    episodes         | 1164     |
|    fps              | 3        |
|    time_elapsed     | 3817     |
|    total_timesteps  | 12023    |
| train/              |          |
|    learning_rate    | 0.0001   |
|    loss             | 0.00669  |
|    n_updates        | 3005     |
----------------------------------
----------------------------------
| rollout/            |          |
|    ep_len_mean      | 11.3     |
|    ep_rew_mean      | 11.3     |
|    exploration_rate | 0.05     |
| time/               |          |
|    episodes         | 1168     |
|    fps              | 3        |
|    time_elapsed     | 3834     |
|    total_timesteps  | 12082    |
| train/              |          |
|    learning_rate    | 0.0001   |
|    loss             | 0.0193   |
|    n_updates        | 3020     |
----------------------------------
----------------------------------
| rollout/            |          |
|    ep_len_mean      | 11.4     |
|    ep_rew_mean      | 11.4     |
|    exploration_rate | 0.05     |
| time/               |          |
|    episodes         | 1172     |
|    fps              | 3        |
|    time_elapsed     | 3848     |
|    total_timesteps  | 12126    |
| train/              |          |
|    learning_rate    | 0.0001   |
|    loss             | 0.00719  |
|    n_updates        | 3031     |
----------------------------------
----------------------------------
| rollout/            |          |
|    ep_len_mean      | 11.3     |
|    ep_rew_mean      | 11.3     |
|    exploration_rate | 0.05     |
| time/               |          |
|    episodes         | 1176     |
|    fps              | 3        |
|    time_elapsed     | 3863     |
|    total_timesteps  | 12184    |
| train/              |          |
|    learning_rate    | 0.0001   |
|    loss             | 0.00516  |
|    n_updates        | 3045     |
----------------------------------
----------------------------------
| rollout/            |          |
|    ep_len_mean      | 11.2     |
|    ep_rew_mean      | 11.2     |
|    exploration_rate | 0.05     |
| time/               |          |
|    episodes         | 1180     |
|    fps              | 3        |
|    time_elapsed     | 3875     |
|    total_timesteps  | 12233    |
| train/              |          |
|    learning_rate    | 0.0001   |
|    loss             | 0.00253  |
|    n_updates        | 3058     |
----------------------------------
----------------------------------
| rollout/            |          |
|    ep_len_mean      | 11.1     |
|    ep_rew_mean      | 11.1     |
|    exploration_rate | 0.05     |
| time/               |          |
|    episodes         | 1184     |
|    fps              | 3        |
|    time_elapsed     | 3888     |
|    total_timesteps  | 12257    |
| train/              |          |
|    learning_rate    | 0.0001   |
|    loss             | 0.0166   |
|    n_updates        | 3064     |
----------------------------------
----------------------------------
| rollout/            |          |
|    ep_len_mean      | 11.1     |
|    ep_rew_mean      | 11.1     |
|    exploration_rate | 0.05     |
| time/               |          |
|    episodes         | 1188     |
|    fps              | 3        |
|    time_elapsed     | 3907     |
|    total_timesteps  | 12323    |
| train/              |          |
|    learning_rate    | 0.0001   |
|    loss             | 0.00273  |
|    n_updates        | 3080     |
----------------------------------
----------------------------------
| rollout/            |          |
|    ep_len_mean      | 11.1     |
|    ep_rew_mean      | 11.1     |
|    exploration_rate | 0.05     |
| time/               |          |
|    episodes         | 1192     |
|    fps              | 3        |
|    time_elapsed     | 3921     |
|    total_timesteps  | 12356    |
| train/              |          |
|    learning_rate    | 0.0001   |
|    loss             | 0.0172   |
|    n_updates        | 3088     |
----------------------------------
----------------------------------
| rollout/            |          |
|    ep_len_mean      | 11.5     |
|    ep_rew_mean      | 11.5     |
|    exploration_rate | 0.05     |
| time/               |          |
|    episodes         | 1196     |
|    fps              | 3        |
|    time_elapsed     | 3932     |
|    total_timesteps  | 12407    |
| train/              |          |
|    learning_rate    | 0.0001   |
|    loss             | 0.00441  |
|    n_updates        | 3101     |
----------------------------------
----------------------------------
| rollout/            |          |
|    ep_len_mean      | 11.4     |
|    ep_rew_mean      | 11.4     |
|    exploration_rate | 0.05     |
| time/               |          |
|    episodes         | 1200     |
|    fps              | 3        |
|    time_elapsed     | 3946     |
|    total_timesteps  | 12446    |
| train/              |          |
|    learning_rate    | 0.0001   |
|    loss             | 0.000446 |
|    n_updates        | 3111     |
----------------------------------
----------------------------------
| rollout/            |          |
|    ep_len_mean      | 11.3     |
|    ep_rew_mean      | 11.3     |
|    exploration_rate | 0.05     |
| time/               |          |
|    episodes         | 1204     |
|    fps              | 3        |
|    time_elapsed     | 3958     |
|    total_timesteps  | 12481    |
| train/              |          |
|    learning_rate    | 0.0001   |
|    loss             | 0.025    |
|    n_updates        | 3120     |
----------------------------------
----------------------------------
| rollout/            |          |
|    ep_len_mean      | 11.2     |
|    ep_rew_mean      | 11.2     |
|    exploration_rate | 0.05     |
| time/               |          |
|    episodes         | 1208     |
|    fps              | 3        |
|    time_elapsed     | 3971     |
|    total_timesteps  | 12516    |
| train/              |          |
|    learning_rate    | 0.0001   |
|    loss             | 0.00134  |
|    n_updates        | 3128     |
----------------------------------
----------------------------------
| rollout/            |          |
|    ep_len_mean      | 11.1     |
|    ep_rew_mean      | 11.1     |
|    exploration_rate | 0.05     |
| time/               |          |
|    episodes         | 1212     |
|    fps              | 3        |
|    time_elapsed     | 3983     |
|    total_timesteps  | 12539    |
| train/              |          |
|    learning_rate    | 0.0001   |
|    loss             | 0.00865  |
|    n_updates        | 3134     |
----------------------------------
----------------------------------
| rollout/            |          |
|    ep_len_mean      | 11       |
|    ep_rew_mean      | 11       |
|    exploration_rate | 0.05     |
| time/               |          |
|    episodes         | 1216     |
|    fps              | 3        |
|    time_elapsed     | 3994     |
|    total_timesteps  | 12595    |
| train/              |          |
|    learning_rate    | 0.0001   |
|    loss             | 0.0207   |
|    n_updates        | 3148     |
----------------------------------
----------------------------------
| rollout/            |          |
|    ep_len_mean      | 10.6     |
|    ep_rew_mean      | 10.6     |
|    exploration_rate | 0.05     |
| time/               |          |
|    episodes         | 1220     |
|    fps              | 3        |
|    time_elapsed     | 4006     |
|    total_timesteps  | 12618    |
| train/              |          |
|    learning_rate    | 0.0001   |
|    loss             | 0.0107   |
|    n_updates        | 3154     |
----------------------------------
----------------------------------
| rollout/            |          |
|    ep_len_mean      | 10.8     |
|    ep_rew_mean      | 10.8     |
|    exploration_rate | 0.05     |
| time/               |          |
|    episodes         | 1224     |
|    fps              | 3        |
|    time_elapsed     | 4021     |
|    total_timesteps  | 12675    |
| train/              |          |
|    learning_rate    | 0.0001   |
|    loss             | 0.0125   |
|    n_updates        | 3168     |
----------------------------------
----------------------------------
| rollout/            |          |
|    ep_len_mean      | 10.7     |
|    ep_rew_mean      | 10.7     |
|    exploration_rate | 0.05     |
| time/               |          |
|    episodes         | 1228     |
|    fps              | 3        |
|    time_elapsed     | 4034     |
|    total_timesteps  | 12698    |
| train/              |          |
|    learning_rate    | 0.0001   |
|    loss             | 0.0191   |
|    n_updates        | 3174     |
----------------------------------
----------------------------------
| rollout/            |          |
|    ep_len_mean      | 11       |
|    ep_rew_mean      | 11       |
|    exploration_rate | 0.05     |
| time/               |          |
|    episodes         | 1232     |
|    fps              | 3        |
|    time_elapsed     | 4052     |
|    total_timesteps  | 12765    |
| train/              |          |
|    learning_rate    | 0.0001   |
|    loss             | 0.0183   |
|    n_updates        | 3191     |
----------------------------------
----------------------------------
| rollout/            |          |
|    ep_len_mean      | 11.1     |
|    ep_rew_mean      | 11.1     |
|    exploration_rate | 0.05     |
| time/               |          |
|    episodes         | 1236     |
|    fps              | 3        |
|    time_elapsed     | 4065     |
|    total_timesteps  | 12815    |
| train/              |          |
|    learning_rate    | 0.0001   |
|    loss             | 0.00203  |
|    n_updates        | 3203     |
----------------------------------
----------------------------------
| rollout/            |          |
|    ep_len_mean      | 10.9     |
|    ep_rew_mean      | 10.9     |
|    exploration_rate | 0.05     |
| time/               |          |
|    episodes         | 1240     |
|    fps              | 3        |
|    time_elapsed     | 4078     |
|    total_timesteps  | 12844    |
| train/              |          |
|    learning_rate    | 0.0001   |
|    loss             | 0.0111   |
|    n_updates        | 3210     |
----------------------------------
----------------------------------
| rollout/            |          |
|    ep_len_mean      | 11.2     |
|    ep_rew_mean      | 11.2     |
|    exploration_rate | 0.05     |
| time/               |          |
|    episodes         | 1244     |
|    fps              | 3        |
|    time_elapsed     | 4095     |
|    total_timesteps  | 12919    |
| train/              |          |
|    learning_rate    | 0.0001   |
|    loss             | 0.0209   |
|    n_updates        | 3229     |
----------------------------------
----------------------------------
| rollout/            |          |
|    ep_len_mean      | 11.2     |
|    ep_rew_mean      | 11.2     |
|    exploration_rate | 0.05     |
| time/               |          |
|    episodes         | 1248     |
|    fps              | 3        |
|    time_elapsed     | 4109     |
|    total_timesteps  | 12956    |
| train/              |          |
|    learning_rate    | 0.0001   |
|    loss             | 0.00563  |
|    n_updates        | 3238     |
----------------------------------
----------------------------------
| rollout/            |          |
|    ep_len_mean      | 11.1     |
|    ep_rew_mean      | 11.1     |
|    exploration_rate | 0.05     |
| time/               |          |
|    episodes         | 1252     |
|    fps              | 3        |
|    time_elapsed     | 4121     |
|    total_timesteps  | 12985    |
| train/              |          |
|    learning_rate    | 0.0001   |
|    loss             | 0.0145   |
|    n_updates        | 3246     |
----------------------------------
----------------------------------
| rollout/            |          |
|    ep_len_mean      | 11.1     |
|    ep_rew_mean      | 11.1     |
|    exploration_rate | 0.05     |
| time/               |          |
|    episodes         | 1256     |
|    fps              | 3        |
|    time_elapsed     | 4134     |
|    total_timesteps  | 13027    |
| train/              |          |
|    learning_rate    | 0.0001   |
|    loss             | 0.0194   |
|    n_updates        | 3256     |
----------------------------------
----------------------------------
| rollout/            |          |
|    ep_len_mean      | 11.2     |
|    ep_rew_mean      | 11.2     |
|    exploration_rate | 0.05     |
| time/               |          |
|    episodes         | 1260     |
|    fps              | 3        |
|    time_elapsed     | 4147     |
|    total_timesteps  | 13083    |
| train/              |          |
|    learning_rate    | 0.0001   |
|    loss             | 0.00672  |
|    n_updates        | 3270     |
----------------------------------
----------------------------------
| rollout/            |          |
|    ep_len_mean      | 10.8     |
|    ep_rew_mean      | 10.8     |
|    exploration_rate | 0.05     |
| time/               |          |
|    episodes         | 1264     |
|    fps              | 3        |
|    time_elapsed     | 4159     |
|    total_timesteps  | 13107    |
| train/              |          |
|    learning_rate    | 0.0001   |
|    loss             | 0.012    |
|    n_updates        | 3276     |
----------------------------------
----------------------------------
| rollout/            |          |
|    ep_len_mean      | 10.7     |
|    ep_rew_mean      | 10.7     |
|    exploration_rate | 0.05     |
| time/               |          |
|    episodes         | 1268     |
|    fps              | 3        |
|    time_elapsed     | 4171     |
|    total_timesteps  | 13148    |
| train/              |          |
|    learning_rate    | 0.0001   |
|    loss             | 0.00526  |
|    n_updates        | 3286     |
----------------------------------
----------------------------------
| rollout/            |          |
|    ep_len_mean      | 10.6     |
|    ep_rew_mean      | 10.6     |
|    exploration_rate | 0.05     |
| time/               |          |
|    episodes         | 1272     |
|    fps              | 3        |
|    time_elapsed     | 4184     |
|    total_timesteps  | 13186    |
| train/              |          |
|    learning_rate    | 0.0001   |
|    loss             | 0.0149   |
|    n_updates        | 3296     |
----------------------------------
----------------------------------
| rollout/            |          |
|    ep_len_mean      | 10.6     |
|    ep_rew_mean      | 10.6     |
|    exploration_rate | 0.05     |
| time/               |          |
|    episodes         | 1276     |
|    fps              | 3        |
|    time_elapsed     | 4201     |
|    total_timesteps  | 13240    |
| train/              |          |
|    learning_rate    | 0.0001   |
|    loss             | 0.0148   |
|    n_updates        | 3309     |
----------------------------------
----------------------------------
| rollout/            |          |
|    ep_len_mean      | 10.4     |
|    ep_rew_mean      | 10.4     |
|    exploration_rate | 0.05     |
| time/               |          |
|    episodes         | 1280     |
|    fps              | 3        |
|    time_elapsed     | 4213     |
|    total_timesteps  | 13277    |
| train/              |          |
|    learning_rate    | 0.0001   |
|    loss             | 0.0021   |
|    n_updates        | 3319     |
----------------------------------
----------------------------------
| rollout/            |          |
|    ep_len_mean      | 10.4     |
|    ep_rew_mean      | 10.4     |
|    exploration_rate | 0.05     |
| time/               |          |
|    episodes         | 1284     |
|    fps              | 3        |
|    time_elapsed     | 4226     |
|    total_timesteps  | 13301    |
| train/              |          |
|    learning_rate    | 0.0001   |
|    loss             | 0.00651  |
|    n_updates        | 3325     |
----------------------------------
----------------------------------
| rollout/            |          |
|    ep_len_mean      | 10.4     |
|    ep_rew_mean      | 10.4     |
|    exploration_rate | 0.05     |
| time/               |          |
|    episodes         | 1288     |
|    fps              | 3        |
|    time_elapsed     | 4239     |
|    total_timesteps  | 13364    |
| train/              |          |
|    learning_rate    | 0.0001   |
|    loss             | 0.0347   |
|    n_updates        | 3340     |
----------------------------------
----------------------------------
| rollout/            |          |
|    ep_len_mean      | 10.5     |
|    ep_rew_mean      | 10.5     |
|    exploration_rate | 0.05     |
| time/               |          |
|    episodes         | 1292     |
|    fps              | 3        |
|    time_elapsed     | 4251     |
|    total_timesteps  | 13408    |
| train/              |          |
|    learning_rate    | 0.0001   |
|    loss             | 0.00433  |
|    n_updates        | 3351     |
----------------------------------
----------------------------------
| rollout/            |          |
|    ep_len_mean      | 10.3     |
|    ep_rew_mean      | 10.3     |
|    exploration_rate | 0.05     |
| time/               |          |
|    episodes         | 1296     |
|    fps              | 3        |
|    time_elapsed     | 4265     |
|    total_timesteps  | 13441    |
| train/              |          |
|    learning_rate    | 0.0001   |
|    loss             | 0.00137  |
|    n_updates        | 3360     |
----------------------------------
----------------------------------
| rollout/            |          |
|    ep_len_mean      | 10.2     |
|    ep_rew_mean      | 10.2     |
|    exploration_rate | 0.05     |
| time/               |          |
|    episodes         | 1300     |
|    fps              | 3        |
|    time_elapsed     | 4277     |
|    total_timesteps  | 13467    |
| train/              |          |
|    learning_rate    | 0.0001   |
|    loss             | 0.00234  |
|    n_updates        | 3366     |
----------------------------------
----------------------------------
| rollout/            |          |
|    ep_len_mean      | 10.7     |
|    ep_rew_mean      | 10.7     |
|    exploration_rate | 0.05     |
| time/               |          |
|    episodes         | 1304     |
|    fps              | 3        |
|    time_elapsed     | 4297     |
|    total_timesteps  | 13547    |
| train/              |          |
|    learning_rate    | 0.0001   |
|    loss             | 0.0257   |
|    n_updates        | 3386     |
----------------------------------
----------------------------------
| rollout/            |          |
|    ep_len_mean      | 10.8     |
|    ep_rew_mean      | 10.8     |
|    exploration_rate | 0.05     |
| time/               |          |
|    episodes         | 1308     |
|    fps              | 3        |
|    time_elapsed     | 4313     |
|    total_timesteps  | 13596    |
| train/              |          |
|    learning_rate    | 0.0001   |
|    loss             | 0.00481  |
|    n_updates        | 3398     |
----------------------------------
----------------------------------
| rollout/            |          |
|    ep_len_mean      | 10.9     |
|    ep_rew_mean      | 10.9     |
|    exploration_rate | 0.05     |
| time/               |          |
|    episodes         | 1312     |
|    fps              | 3        |
|    time_elapsed     | 4325     |
|    total_timesteps  | 13625    |
| train/              |          |
|    learning_rate    | 0.0001   |
|    loss             | 0.00824  |
|    n_updates        | 3406     |
----------------------------------
----------------------------------
| rollout/            |          |
|    ep_len_mean      | 10.7     |
|    ep_rew_mean      | 10.7     |
|    exploration_rate | 0.05     |
| time/               |          |
|    episodes         | 1316     |
|    fps              | 3        |
|    time_elapsed     | 4338     |
|    total_timesteps  | 13660    |
| train/              |          |
|    learning_rate    | 0.0001   |
|    loss             | 0.0277   |
|    n_updates        | 3414     |
----------------------------------
----------------------------------
| rollout/            |          |
|    ep_len_mean      | 10.8     |
|    ep_rew_mean      | 10.8     |
|    exploration_rate | 0.05     |
| time/               |          |
|    episodes         | 1320     |
|    fps              | 3        |
|    time_elapsed     | 4351     |
|    total_timesteps  | 13695    |
| train/              |          |
|    learning_rate    | 0.0001   |
|    loss             | 0.0145   |
|    n_updates        | 3423     |
----------------------------------
----------------------------------
| rollout/            |          |
|    ep_len_mean      | 10.5     |
|    ep_rew_mean      | 10.5     |
|    exploration_rate | 0.05     |
| time/               |          |
|    episodes         | 1324     |
|    fps              | 3        |
|    time_elapsed     | 4363     |
|    total_timesteps  | 13722    |
| train/              |          |
|    learning_rate    | 0.0001   |
|    loss             | 0.00271  |
|    n_updates        | 3430     |
----------------------------------
----------------------------------
| rollout/            |          |
|    ep_len_mean      | 10.7     |
|    ep_rew_mean      | 10.7     |
|    exploration_rate | 0.05     |
| time/               |          |
|    episodes         | 1328     |
|    fps              | 3        |
|    time_elapsed     | 4378     |
|    total_timesteps  | 13766    |
| train/              |          |
|    learning_rate    | 0.0001   |
|    loss             | 0.00324  |
|    n_updates        | 3441     |
----------------------------------
----------------------------------
| rollout/            |          |
|    ep_len_mean      | 10.5     |
|    ep_rew_mean      | 10.5     |
|    exploration_rate | 0.05     |
| time/               |          |
|    episodes         | 1332     |
|    fps              | 3        |
|    time_elapsed     | 4391     |
|    total_timesteps  | 13816    |
| train/              |          |
|    learning_rate    | 0.0001   |
|    loss             | 0.0042   |
|    n_updates        | 3453     |
----------------------------------
----------------------------------
| rollout/            |          |
|    ep_len_mean      | 10.5     |
|    ep_rew_mean      | 10.5     |
|    exploration_rate | 0.05     |
| time/               |          |
|    episodes         | 1336     |
|    fps              | 3        |
|    time_elapsed     | 4411     |
|    total_timesteps  | 13862    |
| train/              |          |
|    learning_rate    | 0.0001   |
|    loss             | 0.0119   |
|    n_updates        | 3465     |
----------------------------------
----------------------------------
| rollout/            |          |
|    ep_len_mean      | 10.5     |
|    ep_rew_mean      | 10.5     |
|    exploration_rate | 0.05     |
| time/               |          |
|    episodes         | 1340     |
|    fps              | 3        |
|    time_elapsed     | 4424     |
|    total_timesteps  | 13896    |
| train/              |          |
|    learning_rate    | 0.0001   |
|    loss             | 0.0199   |
|    n_updates        | 3473     |
----------------------------------
----------------------------------
| rollout/            |          |
|    ep_len_mean      | 10.4     |
|    ep_rew_mean      | 10.4     |
|    exploration_rate | 0.05     |
| time/               |          |
|    episodes         | 1344     |
|    fps              | 3        |
|    time_elapsed     | 4436     |
|    total_timesteps  | 13958    |
| train/              |          |
|    learning_rate    | 0.0001   |
|    loss             | 0.00138  |
|    n_updates        | 3489     |
----------------------------------
----------------------------------
| rollout/            |          |
|    ep_len_mean      | 10.3     |
|    ep_rew_mean      | 10.3     |
|    exploration_rate | 0.05     |
| time/               |          |
|    episodes         | 1348     |
|    fps              | 3        |
|    time_elapsed     | 4450     |
|    total_timesteps  | 13986    |
| train/              |          |
|    learning_rate    | 0.0001   |
|    loss             | 0.0204   |
|    n_updates        | 3496     |
----------------------------------
----------------------------------
| rollout/            |          |
|    ep_len_mean      | 10.4     |
|    ep_rew_mean      | 10.4     |
|    exploration_rate | 0.05     |
| time/               |          |
|    episodes         | 1352     |
|    fps              | 3        |
|    time_elapsed     | 4462     |
|    total_timesteps  | 14028    |
| train/              |          |
|    learning_rate    | 0.0001   |
|    loss             | 0.00279  |
|    n_updates        | 3506     |
----------------------------------
----------------------------------
| rollout/            |          |
|    ep_len_mean      | 10.4     |
|    ep_rew_mean      | 10.4     |
|    exploration_rate | 0.05     |
| time/               |          |
|    episodes         | 1356     |
|    fps              | 3        |
|    time_elapsed     | 4474     |
|    total_timesteps  | 14068    |
| train/              |          |
|    learning_rate    | 0.0001   |
|    loss             | 0.0174   |
|    n_updates        | 3516     |
----------------------------------
----------------------------------
| rollout/            |          |
|    ep_len_mean      | 10.2     |
|    ep_rew_mean      | 10.2     |
|    exploration_rate | 0.05     |
| time/               |          |
|    episodes         | 1360     |
|    fps              | 3        |
|    time_elapsed     | 4486     |
|    total_timesteps  | 14100    |
| train/              |          |
|    learning_rate    | 0.0001   |
|    loss             | 0.0251   |
|    n_updates        | 3524     |
----------------------------------
----------------------------------
| rollout/            |          |
|    ep_len_mean      | 10.4     |
|    ep_rew_mean      | 10.4     |
|    exploration_rate | 0.05     |
| time/               |          |
|    episodes         | 1364     |
|    fps              | 3        |
|    time_elapsed     | 4503     |
|    total_timesteps  | 14152    |
| train/              |          |
|    learning_rate    | 0.0001   |
|    loss             | 0.0166   |
|    n_updates        | 3537     |
----------------------------------
----------------------------------
| rollout/            |          |
|    ep_len_mean      | 10.4     |
|    ep_rew_mean      | 10.4     |
|    exploration_rate | 0.05     |
| time/               |          |
|    episodes         | 1368     |
|    fps              | 3        |
|    time_elapsed     | 4516     |
|    total_timesteps  | 14187    |
| train/              |          |
|    learning_rate    | 0.0001   |
|    loss             | 0.0158   |
|    n_updates        | 3546     |
----------------------------------
----------------------------------
| rollout/            |          |
|    ep_len_mean      | 10.3     |
|    ep_rew_mean      | 10.3     |
|    exploration_rate | 0.05     |
| time/               |          |
|    episodes         | 1372     |
|    fps              | 3        |
|    time_elapsed     | 4528     |
|    total_timesteps  | 14215    |
| train/              |          |
|    learning_rate    | 0.0001   |
|    loss             | 0.00755  |
|    n_updates        | 3553     |
----------------------------------
----------------------------------
| rollout/            |          |
|    ep_len_mean      | 10.3     |
|    ep_rew_mean      | 10.3     |
|    exploration_rate | 0.05     |
| time/               |          |
|    episodes         | 1376     |
|    fps              | 3        |
|    time_elapsed     | 4540     |
|    total_timesteps  | 14272    |
| train/              |          |
|    learning_rate    | 0.0001   |
|    loss             | 0.00624  |
|    n_updates        | 3567     |
----------------------------------
----------------------------------
| rollout/            |          |
|    ep_len_mean      | 10.3     |
|    ep_rew_mean      | 10.3     |
|    exploration_rate | 0.05     |
| time/               |          |
|    episodes         | 1380     |
|    fps              | 3        |
|    time_elapsed     | 4553     |
|    total_timesteps  | 14305    |
| train/              |          |
|    learning_rate    | 0.0001   |
|    loss             | 0.00104  |
|    n_updates        | 3576     |
----------------------------------
----------------------------------
| rollout/            |          |
|    ep_len_mean      | 10.4     |
|    ep_rew_mean      | 10.4     |
|    exploration_rate | 0.05     |
| time/               |          |
|    episodes         | 1384     |
|    fps              | 3        |
|    time_elapsed     | 4568     |
|    total_timesteps  | 14337    |
| train/              |          |
|    learning_rate    | 0.0001   |
|    loss             | 0.00205  |
|    n_updates        | 3584     |
----------------------------------
----------------------------------
| rollout/            |          |
|    ep_len_mean      | 10.2     |
|    ep_rew_mean      | 10.2     |
|    exploration_rate | 0.05     |
| time/               |          |
|    episodes         | 1388     |
|    fps              | 3        |
|    time_elapsed     | 4585     |
|    total_timesteps  | 14380    |
| train/              |          |
|    learning_rate    | 0.0001   |
|    loss             | 0.00398  |
|    n_updates        | 3594     |
----------------------------------
----------------------------------
| rollout/            |          |
|    ep_len_mean      | 10.3     |
|    ep_rew_mean      | 10.3     |
|    exploration_rate | 0.05     |
| time/               |          |
|    episodes         | 1392     |
|    fps              | 3        |
|    time_elapsed     | 4598     |
|    total_timesteps  | 14440    |
| train/              |          |
|    learning_rate    | 0.0001   |
|    loss             | 0.00492  |
|    n_updates        | 3609     |
----------------------------------
----------------------------------
| rollout/            |          |
|    ep_len_mean      | 10.3     |
|    ep_rew_mean      | 10.3     |
|    exploration_rate | 0.05     |
| time/               |          |
|    episodes         | 1396     |
|    fps              | 3        |
|    time_elapsed     | 4611     |
|    total_timesteps  | 14467    |
| train/              |          |
|    learning_rate    | 0.0001   |
|    loss             | 0.00245  |
|    n_updates        | 3616     |
----------------------------------
----------------------------------
| rollout/            |          |
|    ep_len_mean      | 10.3     |
|    ep_rew_mean      | 10.3     |
|    exploration_rate | 0.05     |
| time/               |          |
|    episodes         | 1400     |
|    fps              | 3        |
|    time_elapsed     | 4624     |
|    total_timesteps  | 14499    |
| train/              |          |
|    learning_rate    | 0.0001   |
|    loss             | 0.00163  |
|    n_updates        | 3624     |
----------------------------------
----------------------------------
| rollout/            |          |
|    ep_len_mean      | 10       |
|    ep_rew_mean      | 10       |
|    exploration_rate | 0.05     |
| time/               |          |
|    episodes         | 1404     |
|    fps              | 3        |
|    time_elapsed     | 4641     |
|    total_timesteps  | 14551    |
| train/              |          |
|    learning_rate    | 0.0001   |
|    loss             | 0.00998  |
|    n_updates        | 3637     |
----------------------------------
----------------------------------
| rollout/            |          |
|    ep_len_mean      | 9.97     |
|    ep_rew_mean      | 9.97     |
|    exploration_rate | 0.05     |
| time/               |          |
|    episodes         | 1408     |
|    fps              | 3        |
|    time_elapsed     | 4655     |
|    total_timesteps  | 14593    |
| train/              |          |
|    learning_rate    | 0.0001   |
|    loss             | 0.00272  |
|    n_updates        | 3648     |
----------------------------------
----------------------------------
| rollout/            |          |
|    ep_len_mean      | 9.92     |
|    ep_rew_mean      | 9.92     |
|    exploration_rate | 0.05     |
| time/               |          |
|    episodes         | 1412     |
|    fps              | 3        |
|    time_elapsed     | 4667     |
|    total_timesteps  | 14617    |
| train/              |          |
|    learning_rate    | 0.0001   |
|    loss             | 0.00232  |
|    n_updates        | 3654     |
----------------------------------
----------------------------------
| rollout/            |          |
|    ep_len_mean      | 9.88     |
|    ep_rew_mean      | 9.88     |
|    exploration_rate | 0.05     |
| time/               |          |
|    episodes         | 1416     |
|    fps              | 3        |
|    time_elapsed     | 4679     |
|    total_timesteps  | 14648    |
| train/              |          |
|    learning_rate    | 0.0001   |
|    loss             | 0.0155   |
|    n_updates        | 3661     |
----------------------------------
----------------------------------
| rollout/            |          |
|    ep_len_mean      | 9.85     |
|    ep_rew_mean      | 9.85     |
|    exploration_rate | 0.05     |
| time/               |          |
|    episodes         | 1420     |
|    fps              | 3        |
|    time_elapsed     | 4692     |
|    total_timesteps  | 14680    |
| train/              |          |
|    learning_rate    | 0.0001   |
|    loss             | 0.00183  |
|    n_updates        | 3669     |
----------------------------------
----------------------------------
| rollout/            |          |
|    ep_len_mean      | 10.4     |
|    ep_rew_mean      | 10.4     |
|    exploration_rate | 0.05     |
| time/               |          |
|    episodes         | 1424     |
|    fps              | 3        |
|    time_elapsed     | 4710     |
|    total_timesteps  | 14766    |
| train/              |          |
|    learning_rate    | 0.0001   |
|    loss             | 0.00104  |
|    n_updates        | 3691     |
----------------------------------
----------------------------------
| rollout/            |          |
|    ep_len_mean      | 10.3     |
|    ep_rew_mean      | 10.3     |
|    exploration_rate | 0.05     |
| time/               |          |
|    episodes         | 1428     |
|    fps              | 3        |
|    time_elapsed     | 4723     |
|    total_timesteps  | 14793    |
| train/              |          |
|    learning_rate    | 0.0001   |
|    loss             | 0.00417  |
|    n_updates        | 3698     |
----------------------------------
----------------------------------
| rollout/            |          |
|    ep_len_mean      | 10.3     |
|    ep_rew_mean      | 10.3     |
|    exploration_rate | 0.05     |
| time/               |          |
|    episodes         | 1432     |
|    fps              | 3        |
|    time_elapsed     | 4735     |
|    total_timesteps  | 14847    |
| train/              |          |
|    learning_rate    | 0.0001   |
|    loss             | 0.00143  |
|    n_updates        | 3711     |
----------------------------------
----------------------------------
| rollout/            |          |
|    ep_len_mean      | 10.2     |
|    ep_rew_mean      | 10.2     |
|    exploration_rate | 0.05     |
| time/               |          |
|    episodes         | 1436     |
|    fps              | 3        |
|    time_elapsed     | 4747     |
|    total_timesteps  | 14878    |
| train/              |          |
|    learning_rate    | 0.0001   |
|    loss             | 0.00592  |
|    n_updates        | 3719     |
----------------------------------
----------------------------------
| rollout/            |          |
|    ep_len_mean      | 10.4     |
|    ep_rew_mean      | 10.4     |
|    exploration_rate | 0.05     |
| time/               |          |
|    episodes         | 1440     |
|    fps              | 3        |
|    time_elapsed     | 4765     |
|    total_timesteps  | 14933    |
| train/              |          |
|    learning_rate    | 0.0001   |
|    loss             | 0.0208   |
|    n_updates        | 3733     |
----------------------------------
----------------------------------
| rollout/            |          |
|    ep_len_mean      | 10.1     |
|    ep_rew_mean      | 10.1     |
|    exploration_rate | 0.05     |
| time/               |          |
|    episodes         | 1444     |
|    fps              | 3        |
|    time_elapsed     | 4779     |
|    total_timesteps  | 14972    |
| train/              |          |
|    learning_rate    | 0.0001   |
|    loss             | 0.0159   |
|    n_updates        | 3742     |
----------------------------------
----------------------------------
| rollout/            |          |
|    ep_len_mean      | 10.3     |
|    ep_rew_mean      | 10.3     |
|    exploration_rate | 0.05     |
| time/               |          |
|    episodes         | 1448     |
|    fps              | 3        |
|    time_elapsed     | 4791     |
|    total_timesteps  | 15015    |
| train/              |          |
|    learning_rate    | 0.0001   |
|    loss             | 0.00248  |
|    n_updates        | 3753     |
----------------------------------
----------------------------------
| rollout/            |          |
|    ep_len_mean      | 10.3     |
|    ep_rew_mean      | 10.3     |
|    exploration_rate | 0.05     |
| time/               |          |
|    episodes         | 1452     |
|    fps              | 3        |
|    time_elapsed     | 4808     |
|    total_timesteps  | 15058    |
| train/              |          |
|    learning_rate    | 0.0001   |
|    loss             | 0.00116  |
|    n_updates        | 3764     |
----------------------------------
----------------------------------
| rollout/            |          |
|    ep_len_mean      | 10.2     |
|    ep_rew_mean      | 10.2     |
|    exploration_rate | 0.05     |
| time/               |          |
|    episodes         | 1456     |
|    fps              | 3        |
|    time_elapsed     | 4821     |
|    total_timesteps  | 15093    |
| train/              |          |
|    learning_rate    | 0.0001   |
|    loss             | 0.00648  |
|    n_updates        | 3773     |
----------------------------------
----------------------------------
| rollout/            |          |
|    ep_len_mean      | 10.4     |
|    ep_rew_mean      | 10.4     |
|    exploration_rate | 0.05     |
| time/               |          |
|    episodes         | 1460     |
|    fps              | 3        |
|    time_elapsed     | 4833     |
|    total_timesteps  | 15143    |
| train/              |          |
|    learning_rate    | 0.0001   |
|    loss             | 0.00226  |
|    n_updates        | 3785     |
----------------------------------
----------------------------------
| rollout/            |          |
|    ep_len_mean      | 10.3     |
|    ep_rew_mean      | 10.3     |
|    exploration_rate | 0.05     |
| time/               |          |
|    episodes         | 1464     |
|    fps              | 3        |
|    time_elapsed     | 4846     |
|    total_timesteps  | 15179    |
| train/              |          |
|    learning_rate    | 0.0001   |
|    loss             | 0.0176   |
|    n_updates        | 3794     |
----------------------------------
----------------------------------
| rollout/            |          |
|    ep_len_mean      | 10.3     |
|    ep_rew_mean      | 10.3     |
|    exploration_rate | 0.05     |
| time/               |          |
|    episodes         | 1468     |
|    fps              | 3        |
|    time_elapsed     | 4859     |
|    total_timesteps  | 15222    |
| train/              |          |
|    learning_rate    | 0.0001   |
|    loss             | 0.00742  |
|    n_updates        | 3805     |
----------------------------------
----------------------------------
| rollout/            |          |
|    ep_len_mean      | 10.5     |
|    ep_rew_mean      | 10.5     |
|    exploration_rate | 0.05     |
| time/               |          |
|    episodes         | 1472     |
|    fps              | 3        |
|    time_elapsed     | 4871     |
|    total_timesteps  | 15265    |
| train/              |          |
|    learning_rate    | 0.0001   |
|    loss             | 0.00895  |
|    n_updates        | 3816     |
----------------------------------
----------------------------------
| rollout/            |          |
|    ep_len_mean      | 10.6     |
|    ep_rew_mean      | 10.6     |
|    exploration_rate | 0.05     |
| time/               |          |
|    episodes         | 1476     |
|    fps              | 3        |
|    time_elapsed     | 4890     |
|    total_timesteps  | 15330    |
| train/              |          |
|    learning_rate    | 0.0001   |
|    loss             | 0.0385   |
|    n_updates        | 3832     |
----------------------------------
----------------------------------
| rollout/            |          |
|    ep_len_mean      | 10.8     |
|    ep_rew_mean      | 10.8     |
|    exploration_rate | 0.05     |
| time/               |          |
|    episodes         | 1480     |
|    fps              | 3        |
|    time_elapsed     | 4902     |
|    total_timesteps  | 15385    |
| train/              |          |
|    learning_rate    | 0.0001   |
|    loss             | 0.00144  |
|    n_updates        | 3846     |
----------------------------------
----------------------------------
| rollout/            |          |
|    ep_len_mean      | 10.9     |
|    ep_rew_mean      | 10.9     |
|    exploration_rate | 0.05     |
| time/               |          |
|    episodes         | 1484     |
|    fps              | 3        |
|    time_elapsed     | 4914     |
|    total_timesteps  | 15431    |
| train/              |          |
|    learning_rate    | 0.0001   |
|    loss             | 0.00199  |
|    n_updates        | 3857     |
----------------------------------
----------------------------------
| rollout/            |          |
|    ep_len_mean      | 11       |
|    ep_rew_mean      | 11       |
|    exploration_rate | 0.05     |
| time/               |          |
|    episodes         | 1488     |
|    fps              | 3        |
|    time_elapsed     | 4927     |
|    total_timesteps  | 15479    |
| train/              |          |
|    learning_rate    | 0.0001   |
|    loss             | 0.0146   |
|    n_updates        | 3869     |
----------------------------------
----------------------------------
| rollout/            |          |
|    ep_len_mean      | 10.7     |
|    ep_rew_mean      | 10.7     |
|    exploration_rate | 0.05     |
| time/               |          |
|    episodes         | 1492     |
|    fps              | 3        |
|    time_elapsed     | 4939     |
|    total_timesteps  | 15510    |
| train/              |          |
|    learning_rate    | 0.0001   |
|    loss             | 0.00129  |
|    n_updates        | 3877     |
----------------------------------
----------------------------------
| rollout/            |          |
|    ep_len_mean      | 10.9     |
|    ep_rew_mean      | 10.9     |
|    exploration_rate | 0.05     |
| time/               |          |
|    episodes         | 1496     |
|    fps              | 3        |
|    time_elapsed     | 4956     |
|    total_timesteps  | 15561    |
| train/              |          |
|    learning_rate    | 0.0001   |
|    loss             | 0.00316  |
|    n_updates        | 3890     |
----------------------------------
----------------------------------
| rollout/            |          |
|    ep_len_mean      | 11       |
|    ep_rew_mean      | 11       |
|    exploration_rate | 0.05     |
| time/               |          |
|    episodes         | 1500     |
|    fps              | 3        |
|    time_elapsed     | 4968     |
|    total_timesteps  | 15596    |
| train/              |          |
|    learning_rate    | 0.0001   |
|    loss             | 0.00142  |
|    n_updates        | 3898     |
----------------------------------
----------------------------------
| rollout/            |          |
|    ep_len_mean      | 10.8     |
|    ep_rew_mean      | 10.8     |
|    exploration_rate | 0.05     |
| time/               |          |
|    episodes         | 1504     |
|    fps              | 3        |
|    time_elapsed     | 4981     |
|    total_timesteps  | 15635    |
| train/              |          |
|    learning_rate    | 0.0001   |
|    loss             | 0.0364   |
|    n_updates        | 3908     |
----------------------------------
----------------------------------
| rollout/            |          |
|    ep_len_mean      | 10.9     |
|    ep_rew_mean      | 10.9     |
|    exploration_rate | 0.05     |
| time/               |          |
|    episodes         | 1508     |
|    fps              | 3        |
|    time_elapsed     | 4994     |
|    total_timesteps  | 15685    |
| train/              |          |
|    learning_rate    | 0.0001   |
|    loss             | 0.0177   |
|    n_updates        | 3921     |
----------------------------------
----------------------------------
| rollout/            |          |
|    ep_len_mean      | 11.1     |
|    ep_rew_mean      | 11.1     |
|    exploration_rate | 0.05     |
| time/               |          |
|    episodes         | 1512     |
|    fps              | 3        |
|    time_elapsed     | 5006     |
|    total_timesteps  | 15731    |
| train/              |          |
|    learning_rate    | 0.0001   |
|    loss             | 0.00395  |
|    n_updates        | 3932     |
----------------------------------
----------------------------------
| rollout/            |          |
|    ep_len_mean      | 11.2     |
|    ep_rew_mean      | 11.2     |
|    exploration_rate | 0.05     |
| time/               |          |
|    episodes         | 1516     |
|    fps              | 3        |
|    time_elapsed     | 5019     |
|    total_timesteps  | 15769    |
| train/              |          |
|    learning_rate    | 0.0001   |
|    loss             | 0.00152  |
|    n_updates        | 3942     |
----------------------------------
----------------------------------
| rollout/            |          |
|    ep_len_mean      | 11.3     |
|    ep_rew_mean      | 11.3     |
|    exploration_rate | 0.05     |
| time/               |          |
|    episodes         | 1520     |
|    fps              | 3        |
|    time_elapsed     | 5032     |
|    total_timesteps  | 15811    |
| train/              |          |
|    learning_rate    | 0.0001   |
|    loss             | 0.00524  |
|    n_updates        | 3952     |
----------------------------------
----------------------------------
| rollout/            |          |
|    ep_len_mean      | 11.3     |
|    ep_rew_mean      | 11.3     |
|    exploration_rate | 0.05     |
| time/               |          |
|    episodes         | 1524     |
|    fps              | 3        |
|    time_elapsed     | 5052     |
|    total_timesteps  | 15895    |
| train/              |          |
|    learning_rate    | 0.0001   |
|    loss             | 0.0114   |
|    n_updates        | 3973     |
----------------------------------
----------------------------------
| rollout/            |          |
|    ep_len_mean      | 11.4     |
|    ep_rew_mean      | 11.4     |
|    exploration_rate | 0.05     |
| time/               |          |
|    episodes         | 1528     |
|    fps              | 3        |
|    time_elapsed     | 5065     |
|    total_timesteps  | 15930    |
| train/              |          |
|    learning_rate    | 0.0001   |
|    loss             | 0.018    |
|    n_updates        | 3982     |
----------------------------------
----------------------------------
| rollout/            |          |
|    ep_len_mean      | 11.5     |
|    ep_rew_mean      | 11.5     |
|    exploration_rate | 0.05     |
| time/               |          |
|    episodes         | 1532     |
|    fps              | 3        |
|    time_elapsed     | 5083     |
|    total_timesteps  | 15997    |
| train/              |          |
|    learning_rate    | 0.0001   |
|    loss             | 0.00371  |
|    n_updates        | 3999     |
----------------------------------
----------------------------------
| rollout/            |          |
|    ep_len_mean      | 11.5     |
|    ep_rew_mean      | 11.5     |
|    exploration_rate | 0.05     |
| time/               |          |
|    episodes         | 1536     |
|    fps              | 3        |
|    time_elapsed     | 5095     |
|    total_timesteps  | 16032    |
| train/              |          |
|    learning_rate    | 0.0001   |
|    loss             | 0.00206  |
|    n_updates        | 4007     |
----------------------------------
----------------------------------
| rollout/            |          |
|    ep_len_mean      | 11.3     |
|    ep_rew_mean      | 11.3     |
|    exploration_rate | 0.05     |
| time/               |          |
|    episodes         | 1540     |
|    fps              | 3        |
|    time_elapsed     | 5108     |
|    total_timesteps  | 16066    |
| train/              |          |
|    learning_rate    | 0.0001   |
|    loss             | 0.011    |
|    n_updates        | 4016     |
----------------------------------
----------------------------------
| rollout/            |          |
|    ep_len_mean      | 11.3     |
|    ep_rew_mean      | 11.3     |
|    exploration_rate | 0.05     |
| time/               |          |
|    episodes         | 1544     |
|    fps              | 3        |
|    time_elapsed     | 5120     |
|    total_timesteps  | 16107    |
| train/              |          |
|    learning_rate    | 0.0001   |
|    loss             | 0.00952  |
|    n_updates        | 4026     |
----------------------------------
----------------------------------
| rollout/            |          |
|    ep_len_mean      | 11.4     |
|    ep_rew_mean      | 11.4     |
|    exploration_rate | 0.05     |
| time/               |          |
|    episodes         | 1548     |
|    fps              | 3        |
|    time_elapsed     | 5132     |
|    total_timesteps  | 16155    |
| train/              |          |
|    learning_rate    | 0.0001   |
|    loss             | 0.00148  |
|    n_updates        | 4038     |
----------------------------------
----------------------------------
| rollout/            |          |
|    ep_len_mean      | 11.5     |
|    ep_rew_mean      | 11.5     |
|    exploration_rate | 0.05     |
| time/               |          |
|    episodes         | 1552     |
|    fps              | 3        |
|    time_elapsed     | 5149     |
|    total_timesteps  | 16207    |
| train/              |          |
|    learning_rate    | 0.0001   |
|    loss             | 0.0149   |
|    n_updates        | 4051     |
----------------------------------
----------------------------------
| rollout/            |          |
|    ep_len_mean      | 11.5     |
|    ep_rew_mean      | 11.5     |
|    exploration_rate | 0.05     |
| time/               |          |
|    episodes         | 1556     |
|    fps              | 3        |
|    time_elapsed     | 5161     |
|    total_timesteps  | 16243    |
| train/              |          |
|    learning_rate    | 0.0001   |
|    loss             | 0.0054   |
|    n_updates        | 4060     |
----------------------------------
----------------------------------
| rollout/            |          |
|    ep_len_mean      | 11.6     |
|    ep_rew_mean      | 11.6     |
|    exploration_rate | 0.05     |
| time/               |          |
|    episodes         | 1560     |
|    fps              | 3        |
|    time_elapsed     | 5179     |
|    total_timesteps  | 16303    |
| train/              |          |
|    learning_rate    | 0.0001   |
|    loss             | 0.0036   |
|    n_updates        | 4075     |
----------------------------------
----------------------------------
| rollout/            |          |
|    ep_len_mean      | 11.5     |
|    ep_rew_mean      | 11.5     |
|    exploration_rate | 0.05     |
| time/               |          |
|    episodes         | 1564     |
|    fps              | 3        |
|    time_elapsed     | 5191     |
|    total_timesteps  | 16333    |
| train/              |          |
|    learning_rate    | 0.0001   |
|    loss             | 0.00119  |
|    n_updates        | 4083     |
----------------------------------
----------------------------------
| rollout/            |          |
|    ep_len_mean      | 11.6     |
|    ep_rew_mean      | 11.6     |
|    exploration_rate | 0.05     |
| time/               |          |
|    episodes         | 1568     |
|    fps              | 3        |
|    time_elapsed     | 5204     |
|    total_timesteps  | 16377    |
| train/              |          |
|    learning_rate    | 0.0001   |
|    loss             | 0.000238 |
|    n_updates        | 4094     |
----------------------------------
----------------------------------
| rollout/            |          |
|    ep_len_mean      | 11.4     |
|    ep_rew_mean      | 11.4     |
|    exploration_rate | 0.05     |
| time/               |          |
|    episodes         | 1572     |
|    fps              | 3        |
|    time_elapsed     | 5217     |
|    total_timesteps  | 16405    |
| train/              |          |
|    learning_rate    | 0.0001   |
|    loss             | 0.016    |
|    n_updates        | 4101     |
----------------------------------
----------------------------------
| rollout/            |          |
|    ep_len_mean      | 11.3     |
|    ep_rew_mean      | 11.3     |
|    exploration_rate | 0.05     |
| time/               |          |
|    episodes         | 1576     |
|    fps              | 3        |
|    time_elapsed     | 5229     |
|    total_timesteps  | 16458    |
| train/              |          |
|    learning_rate    | 0.0001   |
|    loss             | 0.0168   |
|    n_updates        | 4114     |
----------------------------------
----------------------------------
| rollout/            |          |
|    ep_len_mean      | 11.1     |
|    ep_rew_mean      | 11.1     |
|    exploration_rate | 0.05     |
| time/               |          |
|    episodes         | 1580     |
|    fps              | 3        |
|    time_elapsed     | 5242     |
|    total_timesteps  | 16493    |
| train/              |          |
|    learning_rate    | 0.0001   |
|    loss             | 0.00392  |
|    n_updates        | 4123     |
----------------------------------
----------------------------------
| rollout/            |          |
|    ep_len_mean      | 11.1     |
|    ep_rew_mean      | 11.1     |
|    exploration_rate | 0.05     |
| time/               |          |
|    episodes         | 1584     |
|    fps              | 3        |
|    time_elapsed     | 5255     |
|    total_timesteps  | 16542    |
| train/              |          |
|    learning_rate    | 0.0001   |
|    loss             | 0.0224   |
|    n_updates        | 4135     |
----------------------------------
----------------------------------
| rollout/            |          |
|    ep_len_mean      | 11.1     |
|    ep_rew_mean      | 11.1     |
|    exploration_rate | 0.05     |
| time/               |          |
|    episodes         | 1588     |
|    fps              | 3        |
|    time_elapsed     | 5273     |
|    total_timesteps  | 16588    |
| train/              |          |
|    learning_rate    | 0.0001   |
|    loss             | 0.00125  |
|    n_updates        | 4146     |
----------------------------------
----------------------------------
| rollout/            |          |
|    ep_len_mean      | 11.3     |
|    ep_rew_mean      | 11.3     |
|    exploration_rate | 0.05     |
| time/               |          |
|    episodes         | 1592     |
|    fps              | 3        |
|    time_elapsed     | 5285     |
|    total_timesteps  | 16645    |
| train/              |          |
|    learning_rate    | 0.0001   |
|    loss             | 0.00376  |
|    n_updates        | 4161     |
----------------------------------
----------------------------------
| rollout/            |          |
|    ep_len_mean      | 11.3     |
|    ep_rew_mean      | 11.3     |
|    exploration_rate | 0.05     |
| time/               |          |
|    episodes         | 1596     |
|    fps              | 3        |
|    time_elapsed     | 5302     |
|    total_timesteps  | 16688    |
| train/              |          |
|    learning_rate    | 0.0001   |
|    loss             | 0.00541  |
|    n_updates        | 4171     |
----------------------------------
----------------------------------
| rollout/            |          |
|    ep_len_mean      | 11.4     |
|    ep_rew_mean      | 11.4     |
|    exploration_rate | 0.05     |
| time/               |          |
|    episodes         | 1600     |
|    fps              | 3        |
|    time_elapsed     | 5319     |
|    total_timesteps  | 16739    |
| train/              |          |
|    learning_rate    | 0.0001   |
|    loss             | 0.0168   |
|    n_updates        | 4184     |
----------------------------------
----------------------------------
| rollout/            |          |
|    ep_len_mean      | 11.4     |
|    ep_rew_mean      | 11.4     |
|    exploration_rate | 0.05     |
| time/               |          |
|    episodes         | 1604     |
|    fps              | 3        |
|    time_elapsed     | 5332     |
|    total_timesteps  | 16772    |
| train/              |          |
|    learning_rate    | 0.0001   |
|    loss             | 0.00533  |
|    n_updates        | 4192     |
----------------------------------
----------------------------------
| rollout/            |          |
|    ep_len_mean      | 11.6     |
|    ep_rew_mean      | 11.6     |
|    exploration_rate | 0.05     |
| time/               |          |
|    episodes         | 1608     |
|    fps              | 3        |
|    time_elapsed     | 5350     |
|    total_timesteps  | 16847    |
| train/              |          |
|    learning_rate    | 0.0001   |
|    loss             | 0.0218   |
|    n_updates        | 4211     |
----------------------------------
----------------------------------
| rollout/            |          |
|    ep_len_mean      | 11.5     |
|    ep_rew_mean      | 11.5     |
|    exploration_rate | 0.05     |
| time/               |          |
|    episodes         | 1612     |
|    fps              | 3        |
|    time_elapsed     | 5362     |
|    total_timesteps  | 16882    |
| train/              |          |
|    learning_rate    | 0.0001   |
|    loss             | 0.00147  |
|    n_updates        | 4220     |
----------------------------------
----------------------------------
| rollout/            |          |
|    ep_len_mean      | 11.6     |
|    ep_rew_mean      | 11.6     |
|    exploration_rate | 0.05     |
| time/               |          |
|    episodes         | 1616     |
|    fps              | 3        |
|    time_elapsed     | 5376     |
|    total_timesteps  | 16933    |
| train/              |          |
|    learning_rate    | 0.0001   |
|    loss             | 0.0147   |
|    n_updates        | 4233     |
----------------------------------
----------------------------------
| rollout/            |          |
|    ep_len_mean      | 12       |
|    ep_rew_mean      | 12       |
|    exploration_rate | 0.05     |
| time/               |          |
|    episodes         | 1620     |
|    fps              | 3        |
|    time_elapsed     | 5393     |
|    total_timesteps  | 17011    |
| train/              |          |
|    learning_rate    | 0.0001   |
|    loss             | 0.00453  |
|    n_updates        | 4252     |
----------------------------------
----------------------------------
| rollout/            |          |
|    ep_len_mean      | 11.7     |
|    ep_rew_mean      | 11.7     |
|    exploration_rate | 0.05     |
| time/               |          |
|    episodes         | 1624     |
|    fps              | 3        |
|    time_elapsed     | 5411     |
|    total_timesteps  | 17064    |
| train/              |          |
|    learning_rate    | 0.0001   |
|    loss             | 0.00317  |
|    n_updates        | 4265     |
----------------------------------
----------------------------------
| rollout/            |          |
|    ep_len_mean      | 11.7     |
|    ep_rew_mean      | 11.7     |
|    exploration_rate | 0.05     |
| time/               |          |
|    episodes         | 1628     |
|    fps              | 3        |
|    time_elapsed     | 5423     |
|    total_timesteps  | 17104    |
| train/              |          |
|    learning_rate    | 0.0001   |
|    loss             | 0.000651 |
|    n_updates        | 4275     |
----------------------------------
----------------------------------
| rollout/            |          |
|    ep_len_mean      | 11.5     |
|    ep_rew_mean      | 11.5     |
|    exploration_rate | 0.05     |
| time/               |          |
|    episodes         | 1632     |
|    fps              | 3        |
|    time_elapsed     | 5436     |
|    total_timesteps  | 17145    |
| train/              |          |
|    learning_rate    | 0.0001   |
|    loss             | 0.0162   |
|    n_updates        | 4286     |
----------------------------------
----------------------------------
| rollout/            |          |
|    ep_len_mean      | 11.5     |
|    ep_rew_mean      | 11.5     |
|    exploration_rate | 0.05     |
| time/               |          |
|    episodes         | 1636     |
|    fps              | 3        |
|    time_elapsed     | 5450     |
|    total_timesteps  | 17179    |
| train/              |          |
|    learning_rate    | 0.0001   |
|    loss             | 0.0145   |
|    n_updates        | 4294     |
----------------------------------
----------------------------------
| rollout/            |          |
|    ep_len_mean      | 11.4     |
|    ep_rew_mean      | 11.4     |
|    exploration_rate | 0.05     |
| time/               |          |
|    episodes         | 1640     |
|    fps              | 3        |
|    time_elapsed     | 5462     |
|    total_timesteps  | 17211    |
| train/              |          |
|    learning_rate    | 0.0001   |
|    loss             | 0.0122   |
|    n_updates        | 4302     |
----------------------------------
----------------------------------
| rollout/            |          |
|    ep_len_mean      | 11.4     |
|    ep_rew_mean      | 11.4     |
|    exploration_rate | 0.05     |
| time/               |          |
|    episodes         | 1644     |
|    fps              | 3        |
|    time_elapsed     | 5475     |
|    total_timesteps  | 17248    |
| train/              |          |
|    learning_rate    | 0.0001   |
|    loss             | 0.00249  |
|    n_updates        | 4311     |
----------------------------------
----------------------------------
| rollout/            |          |
|    ep_len_mean      | 11.5     |
|    ep_rew_mean      | 11.5     |
|    exploration_rate | 0.05     |
| time/               |          |
|    episodes         | 1648     |
|    fps              | 3        |
|    time_elapsed     | 5487     |
|    total_timesteps  | 17306    |
| train/              |          |
|    learning_rate    | 0.0001   |
|    loss             | 0.0164   |
|    n_updates        | 4326     |
----------------------------------
----------------------------------
| rollout/            |          |
|    ep_len_mean      | 11.8     |
|    ep_rew_mean      | 11.8     |
|    exploration_rate | 0.05     |
| time/               |          |
|    episodes         | 1652     |
|    fps              | 3        |
|    time_elapsed     | 5505     |
|    total_timesteps  | 17383    |
| train/              |          |
|    learning_rate    | 0.0001   |
|    loss             | 0.00718  |
|    n_updates        | 4345     |
----------------------------------
----------------------------------
| rollout/            |          |
|    ep_len_mean      | 11.7     |
|    ep_rew_mean      | 11.7     |
|    exploration_rate | 0.05     |
| time/               |          |
|    episodes         | 1656     |
|    fps              | 3        |
|    time_elapsed     | 5518     |
|    total_timesteps  | 17410    |
| train/              |          |
|    learning_rate    | 0.0001   |
|    loss             | 0.00142  |
|    n_updates        | 4352     |
----------------------------------
----------------------------------
| rollout/            |          |
|    ep_len_mean      | 11.8     |
|    ep_rew_mean      | 11.8     |
|    exploration_rate | 0.05     |
| time/               |          |
|    episodes         | 1660     |
|    fps              | 3        |
|    time_elapsed     | 5535     |
|    total_timesteps  | 17478    |
| train/              |          |
|    learning_rate    | 0.0001   |
|    loss             | 0.00408  |
|    n_updates        | 4369     |
----------------------------------
----------------------------------
| rollout/            |          |
|    ep_len_mean      | 11.9     |
|    ep_rew_mean      | 11.9     |
|    exploration_rate | 0.05     |
| time/               |          |
|    episodes         | 1664     |
|    fps              | 3        |
|    time_elapsed     | 5547     |
|    total_timesteps  | 17522    |
| train/              |          |
|    learning_rate    | 0.0001   |
|    loss             | 0.0178   |
|    n_updates        | 4380     |
----------------------------------
----------------------------------
| rollout/            |          |
|    ep_len_mean      | 11.8     |
|    ep_rew_mean      | 11.8     |
|    exploration_rate | 0.05     |
| time/               |          |
|    episodes         | 1668     |
|    fps              | 3        |
|    time_elapsed     | 5561     |
|    total_timesteps  | 17557    |
| train/              |          |
|    learning_rate    | 0.0001   |
|    loss             | 0.0273   |
|    n_updates        | 4389     |
----------------------------------
----------------------------------
| rollout/            |          |
|    ep_len_mean      | 11.9     |
|    ep_rew_mean      | 11.9     |
|    exploration_rate | 0.05     |
| time/               |          |
|    episodes         | 1672     |
|    fps              | 3        |
|    time_elapsed     | 5572     |
|    total_timesteps  | 17594    |
| train/              |          |
|    learning_rate    | 0.0001   |
|    loss             | 0.00707  |
|    n_updates        | 4398     |
----------------------------------
----------------------------------
| rollout/            |          |
|    ep_len_mean      | 11.7     |
|    ep_rew_mean      | 11.7     |
|    exploration_rate | 0.05     |
| time/               |          |
|    episodes         | 1676     |
|    fps              | 3        |
|    time_elapsed     | 5580     |
|    total_timesteps  | 17630    |
| train/              |          |
|    learning_rate    | 0.0001   |
|    loss             | 0.00269  |
|    n_updates        | 4407     |
----------------------------------
----------------------------------
| rollout/            |          |
|    ep_len_mean      | 11.6     |
|    ep_rew_mean      | 11.6     |
|    exploration_rate | 0.05     |
| time/               |          |
|    episodes         | 1680     |
|    fps              | 3        |
|    time_elapsed     | 5592     |
|    total_timesteps  | 17657    |
| train/              |          |
|    learning_rate    | 0.0001   |
|    loss             | 0.0113   |
|    n_updates        | 4414     |
----------------------------------
----------------------------------
| rollout/            |          |
|    ep_len_mean      | 11.5     |
|    ep_rew_mean      | 11.5     |
|    exploration_rate | 0.05     |
| time/               |          |
|    episodes         | 1684     |
|    fps              | 3        |
|    time_elapsed     | 5605     |
|    total_timesteps  | 17695    |
| train/              |          |
|    learning_rate    | 0.0001   |
|    loss             | 0.00232  |
|    n_updates        | 4423     |
----------------------------------
----------------------------------
| rollout/            |          |
|    ep_len_mean      | 11.4     |
|    ep_rew_mean      | 11.4     |
|    exploration_rate | 0.05     |
| time/               |          |
|    episodes         | 1688     |
|    fps              | 3        |
|    time_elapsed     | 5617     |
|    total_timesteps  | 17733    |
| train/              |          |
|    learning_rate    | 0.0001   |
|    loss             | 0.00604  |
|    n_updates        | 4433     |
----------------------------------
----------------------------------
| rollout/            |          |
|    ep_len_mean      | 11.2     |
|    ep_rew_mean      | 11.2     |
|    exploration_rate | 0.05     |
| time/               |          |
|    episodes         | 1692     |
|    fps              | 3        |
|    time_elapsed     | 5629     |
|    total_timesteps  | 17768    |
| train/              |          |
|    learning_rate    | 0.0001   |
|    loss             | 0.000581 |
|    n_updates        | 4441     |
----------------------------------
----------------------------------
| rollout/            |          |
|    ep_len_mean      | 11.1     |
|    ep_rew_mean      | 11.1     |
|    exploration_rate | 0.05     |
| time/               |          |
|    episodes         | 1696     |
|    fps              | 3        |
|    time_elapsed     | 5641     |
|    total_timesteps  | 17802    |
| train/              |          |
|    learning_rate    | 0.0001   |
|    loss             | 0.00427  |
|    n_updates        | 4450     |
----------------------------------
----------------------------------
| rollout/            |          |
|    ep_len_mean      | 11       |
|    ep_rew_mean      | 11       |
|    exploration_rate | 0.05     |
| time/               |          |
|    episodes         | 1700     |
|    fps              | 3        |
|    time_elapsed     | 5655     |
|    total_timesteps  | 17838    |
| train/              |          |
|    learning_rate    | 0.0001   |
|    loss             | 0.0169   |
|    n_updates        | 4459     |
----------------------------------
----------------------------------
| rollout/            |          |
|    ep_len_mean      | 11.2     |
|    ep_rew_mean      | 11.2     |
|    exploration_rate | 0.05     |
| time/               |          |
|    episodes         | 1704     |
|    fps              | 3        |
|    time_elapsed     | 5667     |
|    total_timesteps  | 17896    |
| train/              |          |
|    learning_rate    | 0.0001   |
|    loss             | 0.00421  |
|    n_updates        | 4473     |
----------------------------------
----------------------------------
| rollout/            |          |
|    ep_len_mean      | 11.2     |
|    ep_rew_mean      | 11.2     |
|    exploration_rate | 0.05     |
| time/               |          |
|    episodes         | 1708     |
|    fps              | 3        |
|    time_elapsed     | 5685     |
|    total_timesteps  | 17971    |
| train/              |          |
|    learning_rate    | 0.0001   |
|    loss             | 0.00227  |
|    n_updates        | 4492     |
----------------------------------
----------------------------------
| rollout/            |          |
|    ep_len_mean      | 11.2     |
|    ep_rew_mean      | 11.2     |
|    exploration_rate | 0.05     |
| time/               |          |
|    episodes         | 1712     |
|    fps              | 3        |
|    time_elapsed     | 5698     |
|    total_timesteps  | 18006    |
| train/              |          |
|    learning_rate    | 0.0001   |
|    loss             | 0.0243   |
|    n_updates        | 4501     |
----------------------------------
----------------------------------
| rollout/            |          |
|    ep_len_mean      | 11.1     |
|    ep_rew_mean      | 11.1     |
|    exploration_rate | 0.05     |
| time/               |          |
|    episodes         | 1716     |
|    fps              | 3        |
|    time_elapsed     | 5710     |
|    total_timesteps  | 18041    |
| train/              |          |
|    learning_rate    | 0.0001   |
|    loss             | 0.00326  |
|    n_updates        | 4510     |
----------------------------------
----------------------------------
| rollout/            |          |
|    ep_len_mean      | 10.8     |
|    ep_rew_mean      | 10.8     |
|    exploration_rate | 0.05     |
| time/               |          |
|    episodes         | 1720     |
|    fps              | 3        |
|    time_elapsed     | 5727     |
|    total_timesteps  | 18088    |
| train/              |          |
|    learning_rate    | 0.0001   |
|    loss             | 0.0168   |
|    n_updates        | 4521     |
----------------------------------
----------------------------------
| rollout/            |          |
|    ep_len_mean      | 10.7     |
|    ep_rew_mean      | 10.7     |
|    exploration_rate | 0.05     |
| time/               |          |
|    episodes         | 1724     |
|    fps              | 3        |
|    time_elapsed     | 5740     |
|    total_timesteps  | 18136    |
| train/              |          |
|    learning_rate    | 0.0001   |
|    loss             | 0.0121   |
|    n_updates        | 4533     |
----------------------------------
----------------------------------
| rollout/            |          |
|    ep_len_mean      | 11       |
|    ep_rew_mean      | 11       |
|    exploration_rate | 0.05     |
| time/               |          |
|    episodes         | 1728     |
|    fps              | 3        |
|    time_elapsed     | 5758     |
|    total_timesteps  | 18201    |
| train/              |          |
|    learning_rate    | 0.0001   |
|    loss             | 0.000819 |
|    n_updates        | 4550     |
----------------------------------
----------------------------------
| rollout/            |          |
|    ep_len_mean      | 11.1     |
|    ep_rew_mean      | 11.1     |
|    exploration_rate | 0.05     |
| time/               |          |
|    episodes         | 1732     |
|    fps              | 3        |
|    time_elapsed     | 5770     |
|    total_timesteps  | 18255    |
| train/              |          |
|    learning_rate    | 0.0001   |
|    loss             | 0.0141   |
|    n_updates        | 4563     |
----------------------------------
----------------------------------
| rollout/            |          |
|    ep_len_mean      | 11.1     |
|    ep_rew_mean      | 11.1     |
|    exploration_rate | 0.05     |
| time/               |          |
|    episodes         | 1736     |
|    fps              | 3        |
|    time_elapsed     | 5784     |
|    total_timesteps  | 18284    |
| train/              |          |
|    learning_rate    | 0.0001   |
|    loss             | 0.00315  |
|    n_updates        | 4570     |
----------------------------------
----------------------------------
| rollout/            |          |
|    ep_len_mean      | 11.1     |
|    ep_rew_mean      | 11.1     |
|    exploration_rate | 0.05     |
| time/               |          |
|    episodes         | 1740     |
|    fps              | 3        |
|    time_elapsed     | 5796     |
|    total_timesteps  | 18318    |
| train/              |          |
|    learning_rate    | 0.0001   |
|    loss             | 0.00928  |
|    n_updates        | 4579     |
----------------------------------
----------------------------------
| rollout/            |          |
|    ep_len_mean      | 11.1     |
|    ep_rew_mean      | 11.1     |
|    exploration_rate | 0.05     |
| time/               |          |
|    episodes         | 1744     |
|    fps              | 3        |
|    time_elapsed     | 5809     |
|    total_timesteps  | 18360    |
| train/              |          |
|    learning_rate    | 0.0001   |
|    loss             | 0.0139   |
|    n_updates        | 4589     |
----------------------------------
----------------------------------
| rollout/            |          |
|    ep_len_mean      | 11.2     |
|    ep_rew_mean      | 11.2     |
|    exploration_rate | 0.05     |
| time/               |          |
|    episodes         | 1748     |
|    fps              | 3        |
|    time_elapsed     | 5826     |
|    total_timesteps  | 18425    |
| train/              |          |
|    learning_rate    | 0.0001   |
|    loss             | 0.00548  |
|    n_updates        | 4606     |
----------------------------------
----------------------------------
| rollout/            |          |
|    ep_len_mean      | 10.8     |
|    ep_rew_mean      | 10.8     |
|    exploration_rate | 0.05     |
| time/               |          |
|    episodes         | 1752     |
|    fps              | 3        |
|    time_elapsed     | 5839     |
|    total_timesteps  | 18468    |
| train/              |          |
|    learning_rate    | 0.0001   |
|    loss             | 0.00277  |
|    n_updates        | 4616     |
----------------------------------
----------------------------------
| rollout/            |          |
|    ep_len_mean      | 11.2     |
|    ep_rew_mean      | 11.2     |
|    exploration_rate | 0.05     |
| time/               |          |
|    episodes         | 1756     |
|    fps              | 3        |
|    time_elapsed     | 5856     |
|    total_timesteps  | 18534    |
| train/              |          |
|    learning_rate    | 0.0001   |
|    loss             | 0.0109   |
|    n_updates        | 4633     |
----------------------------------
----------------------------------
| rollout/            |          |
|    ep_len_mean      | 11.1     |
|    ep_rew_mean      | 11.1     |
|    exploration_rate | 0.05     |
| time/               |          |
|    episodes         | 1760     |
|    fps              | 3        |
|    time_elapsed     | 5869     |
|    total_timesteps  | 18587    |
| train/              |          |
|    learning_rate    | 0.0001   |
|    loss             | 0.000877 |
|    n_updates        | 4646     |
----------------------------------
----------------------------------
| rollout/            |          |
|    ep_len_mean      | 11.1     |
|    ep_rew_mean      | 11.1     |
|    exploration_rate | 0.05     |
| time/               |          |
|    episodes         | 1764     |
|    fps              | 3        |
|    time_elapsed     | 5882     |
|    total_timesteps  | 18633    |
| train/              |          |
|    learning_rate    | 0.0001   |
|    loss             | 0.000485 |
|    n_updates        | 4658     |
----------------------------------
----------------------------------
| rollout/            |          |
|    ep_len_mean      | 11.2     |
|    ep_rew_mean      | 11.2     |
|    exploration_rate | 0.05     |
| time/               |          |
|    episodes         | 1768     |
|    fps              | 3        |
|    time_elapsed     | 5899     |
|    total_timesteps  | 18677    |
| train/              |          |
|    learning_rate    | 0.0001   |
|    loss             | 0.00326  |
|    n_updates        | 4669     |
----------------------------------
----------------------------------
| rollout/            |          |
|    ep_len_mean      | 11.4     |
|    ep_rew_mean      | 11.4     |
|    exploration_rate | 0.05     |
| time/               |          |
|    episodes         | 1772     |
|    fps              | 3        |
|    time_elapsed     | 5911     |
|    total_timesteps  | 18730    |
| train/              |          |
|    learning_rate    | 0.0001   |
|    loss             | 0.0133   |
|    n_updates        | 4682     |
----------------------------------
----------------------------------
| rollout/            |          |
|    ep_len_mean      | 11.3     |
|    ep_rew_mean      | 11.3     |
|    exploration_rate | 0.05     |
| time/               |          |
|    episodes         | 1776     |
|    fps              | 3        |
|    time_elapsed     | 5924     |
|    total_timesteps  | 18763    |
| train/              |          |
|    learning_rate    | 0.0001   |
|    loss             | 0.00311  |
|    n_updates        | 4690     |
----------------------------------
----------------------------------
| rollout/            |          |
|    ep_len_mean      | 11.7     |
|    ep_rew_mean      | 11.7     |
|    exploration_rate | 0.05     |
| time/               |          |
|    episodes         | 1780     |
|    fps              | 3        |
|    time_elapsed     | 5941     |
|    total_timesteps  | 18826    |
| train/              |          |
|    learning_rate    | 0.0001   |
|    loss             | 0.00115  |
|    n_updates        | 4706     |
----------------------------------
----------------------------------
| rollout/            |          |
|    ep_len_mean      | 11.6     |
|    ep_rew_mean      | 11.6     |
|    exploration_rate | 0.05     |
| time/               |          |
|    episodes         | 1784     |
|    fps              | 3        |
|    time_elapsed     | 5954     |
|    total_timesteps  | 18857    |
| train/              |          |
|    learning_rate    | 0.0001   |
|    loss             | 0.0303   |
|    n_updates        | 4714     |
----------------------------------
----------------------------------
| rollout/            |          |
|    ep_len_mean      | 11.6     |
|    ep_rew_mean      | 11.6     |
|    exploration_rate | 0.05     |
| time/               |          |
|    episodes         | 1788     |
|    fps              | 3        |
|    time_elapsed     | 5966     |
|    total_timesteps  | 18890    |
| train/              |          |
|    learning_rate    | 0.0001   |
|    loss             | 0.00529  |
|    n_updates        | 4722     |
----------------------------------
----------------------------------
| rollout/            |          |
|    ep_len_mean      | 11.7     |
|    ep_rew_mean      | 11.7     |
|    exploration_rate | 0.05     |
| time/               |          |
|    episodes         | 1792     |
|    fps              | 3        |
|    time_elapsed     | 5978     |
|    total_timesteps  | 18941    |
| train/              |          |
|    learning_rate    | 0.0001   |
|    loss             | 0.000751 |
|    n_updates        | 4735     |
----------------------------------
----------------------------------
| rollout/            |          |
|    ep_len_mean      | 11.7     |
|    ep_rew_mean      | 11.7     |
|    exploration_rate | 0.05     |
| time/               |          |
|    episodes         | 1796     |
|    fps              | 3        |
|    time_elapsed     | 5991     |
|    total_timesteps  | 18968    |
| train/              |          |
|    learning_rate    | 0.0001   |
|    loss             | 0.00221  |
|    n_updates        | 4741     |
----------------------------------
----------------------------------
| rollout/            |          |
|    ep_len_mean      | 11.9     |
|    ep_rew_mean      | 11.9     |
|    exploration_rate | 0.05     |
| time/               |          |
|    episodes         | 1800     |
|    fps              | 3        |
|    time_elapsed     | 6003     |
|    total_timesteps  | 19024    |
| train/              |          |
|    learning_rate    | 0.0001   |
|    loss             | 0.0212   |
|    n_updates        | 4755     |
----------------------------------
----------------------------------
| rollout/            |          |
|    ep_len_mean      | 11.7     |
|    ep_rew_mean      | 11.7     |
|    exploration_rate | 0.05     |
| time/               |          |
|    episodes         | 1804     |
|    fps              | 3        |
|    time_elapsed     | 6016     |
|    total_timesteps  | 19062    |
| train/              |          |
|    learning_rate    | 0.0001   |
|    loss             | 0.00143  |
|    n_updates        | 4765     |
----------------------------------
----------------------------------
| rollout/            |          |
|    ep_len_mean      | 11.2     |
|    ep_rew_mean      | 11.2     |
|    exploration_rate | 0.05     |
| time/               |          |
|    episodes         | 1808     |
|    fps              | 3        |
|    time_elapsed     | 6028     |
|    total_timesteps  | 19093    |
| train/              |          |
|    learning_rate    | 0.0001   |
|    loss             | 0.000594 |
|    n_updates        | 4773     |
----------------------------------
----------------------------------
| rollout/            |          |
|    ep_len_mean      | 11.4     |
|    ep_rew_mean      | 11.4     |
|    exploration_rate | 0.05     |
| time/               |          |
|    episodes         | 1812     |
|    fps              | 3        |
|    time_elapsed     | 6041     |
|    total_timesteps  | 19150    |
| train/              |          |
|    learning_rate    | 0.0001   |
|    loss             | 0.00143  |
|    n_updates        | 4787     |
----------------------------------
----------------------------------
| rollout/            |          |
|    ep_len_mean      | 11.4     |
|    ep_rew_mean      | 11.4     |
|    exploration_rate | 0.05     |
| time/               |          |
|    episodes         | 1816     |
|    fps              | 3        |
|    time_elapsed     | 6053     |
|    total_timesteps  | 19184    |
| train/              |          |
|    learning_rate    | 0.0001   |
|    loss             | 0.00594  |
|    n_updates        | 4795     |
----------------------------------
----------------------------------
| rollout/            |          |
|    ep_len_mean      | 11.4     |
|    ep_rew_mean      | 11.4     |
|    exploration_rate | 0.05     |
| time/               |          |
|    episodes         | 1820     |
|    fps              | 3        |
|    time_elapsed     | 6066     |
|    total_timesteps  | 19227    |
| train/              |          |
|    learning_rate    | 0.0001   |
|    loss             | 0.0158   |
|    n_updates        | 4806     |
----------------------------------
----------------------------------
| rollout/            |          |
|    ep_len_mean      | 11.3     |
|    ep_rew_mean      | 11.3     |
|    exploration_rate | 0.05     |
| time/               |          |
|    episodes         | 1824     |
|    fps              | 3        |
|    time_elapsed     | 6078     |
|    total_timesteps  | 19267    |
| train/              |          |
|    learning_rate    | 0.0001   |
|    loss             | 0.0123   |
|    n_updates        | 4816     |
----------------------------------
----------------------------------
| rollout/            |          |
|    ep_len_mean      | 11.1     |
|    ep_rew_mean      | 11.1     |
|    exploration_rate | 0.05     |
| time/               |          |
|    episodes         | 1828     |
|    fps              | 3        |
|    time_elapsed     | 6090     |
|    total_timesteps  | 19307    |
| train/              |          |
|    learning_rate    | 0.0001   |
|    loss             | 0.00417  |
|    n_updates        | 4826     |
----------------------------------
----------------------------------
| rollout/            |          |
|    ep_len_mean      | 11.2     |
|    ep_rew_mean      | 11.2     |
|    exploration_rate | 0.05     |
| time/               |          |
|    episodes         | 1832     |
|    fps              | 3        |
|    time_elapsed     | 6107     |
|    total_timesteps  | 19379    |
| train/              |          |
|    learning_rate    | 0.0001   |
|    loss             | 0.00298  |
|    n_updates        | 4844     |
----------------------------------
----------------------------------
| rollout/            |          |
|    ep_len_mean      | 11.6     |
|    ep_rew_mean      | 11.6     |
|    exploration_rate | 0.05     |
| time/               |          |
|    episodes         | 1836     |
|    fps              | 3        |
|    time_elapsed     | 6127     |
|    total_timesteps  | 19440    |
| train/              |          |
|    learning_rate    | 0.0001   |
|    loss             | 0.00148  |
|    n_updates        | 4859     |
----------------------------------
----------------------------------
| rollout/            |          |
|    ep_len_mean      | 11.6     |
|    ep_rew_mean      | 11.6     |
|    exploration_rate | 0.05     |
| time/               |          |
|    episodes         | 1840     |
|    fps              | 3        |
|    time_elapsed     | 6139     |
|    total_timesteps  | 19474    |
| train/              |          |
|    learning_rate    | 0.0001   |
|    loss             | 0.00381  |
|    n_updates        | 4868     |
----------------------------------
----------------------------------
| rollout/            |          |
|    ep_len_mean      | 11.5     |
|    ep_rew_mean      | 11.5     |
|    exploration_rate | 0.05     |
| time/               |          |
|    episodes         | 1844     |
|    fps              | 3        |
|    time_elapsed     | 6152     |
|    total_timesteps  | 19509    |
| train/              |          |
|    learning_rate    | 0.0001   |
|    loss             | 0.0122   |
|    n_updates        | 4877     |
----------------------------------
----------------------------------
| rollout/            |          |
|    ep_len_mean      | 11.2     |
|    ep_rew_mean      | 11.2     |
|    exploration_rate | 0.05     |
| time/               |          |
|    episodes         | 1848     |
|    fps              | 3        |
|    time_elapsed     | 6164     |
|    total_timesteps  | 19550    |
| train/              |          |
|    learning_rate    | 0.0001   |
|    loss             | 0.001    |
|    n_updates        | 4887     |
----------------------------------
----------------------------------
| rollout/            |          |
|    ep_len_mean      | 11.1     |
|    ep_rew_mean      | 11.1     |
|    exploration_rate | 0.05     |
| time/               |          |
|    episodes         | 1852     |
|    fps              | 3        |
|    time_elapsed     | 6177     |
|    total_timesteps  | 19576    |
| train/              |          |
|    learning_rate    | 0.0001   |
|    loss             | 0.00598  |
|    n_updates        | 4893     |
----------------------------------
----------------------------------
| rollout/            |          |
|    ep_len_mean      | 10.9     |
|    ep_rew_mean      | 10.9     |
|    exploration_rate | 0.05     |
| time/               |          |
|    episodes         | 1856     |
|    fps              | 3        |
|    time_elapsed     | 6189     |
|    total_timesteps  | 19627    |
| train/              |          |
|    learning_rate    | 0.0001   |
|    loss             | 0.00341  |
|    n_updates        | 4906     |
----------------------------------
----------------------------------
| rollout/            |          |
|    ep_len_mean      | 10.7     |
|    ep_rew_mean      | 10.7     |
|    exploration_rate | 0.05     |
| time/               |          |
|    episodes         | 1860     |
|    fps              | 3        |
|    time_elapsed     | 6202     |
|    total_timesteps  | 19658    |
| train/              |          |
|    learning_rate    | 0.0001   |
|    loss             | 0.0148   |
|    n_updates        | 4914     |
----------------------------------
----------------------------------
| rollout/            |          |
|    ep_len_mean      | 10.8     |
|    ep_rew_mean      | 10.8     |
|    exploration_rate | 0.05     |
| time/               |          |
|    episodes         | 1864     |
|    fps              | 3        |
|    time_elapsed     | 6220     |
|    total_timesteps  | 19712    |
| train/              |          |
|    learning_rate    | 0.0001   |
|    loss             | 0.00189  |
|    n_updates        | 4927     |
----------------------------------
----------------------------------
| rollout/            |          |
|    ep_len_mean      | 10.7     |
|    ep_rew_mean      | 10.7     |
|    exploration_rate | 0.05     |
| time/               |          |
|    episodes         | 1868     |
|    fps              | 3        |
|    time_elapsed     | 6232     |
|    total_timesteps  | 19747    |
| train/              |          |
|    learning_rate    | 0.0001   |
|    loss             | 0.0024   |
|    n_updates        | 4936     |
----------------------------------
----------------------------------
| rollout/            |          |
|    ep_len_mean      | 10.7     |
|    ep_rew_mean      | 10.7     |
|    exploration_rate | 0.05     |
| time/               |          |
|    episodes         | 1872     |
|    fps              | 3        |
|    time_elapsed     | 6244     |
|    total_timesteps  | 19801    |
| train/              |          |
|    learning_rate    | 0.0001   |
|    loss             | 0.00505  |
|    n_updates        | 4950     |
----------------------------------
----------------------------------
| rollout/            |          |
|    ep_len_mean      | 10.8     |
|    ep_rew_mean      | 10.8     |
|    exploration_rate | 0.05     |
| time/               |          |
|    episodes         | 1876     |
|    fps              | 3        |
|    time_elapsed     | 6259     |
|    total_timesteps  | 19848    |
| train/              |          |
|    learning_rate    | 0.0001   |
|    loss             | 0.00101  |
|    n_updates        | 4961     |
----------------------------------
----------------------------------
| rollout/            |          |
|    ep_len_mean      | 10.8     |
|    ep_rew_mean      | 10.8     |
|    exploration_rate | 0.05     |
| time/               |          |
|    episodes         | 1880     |
|    fps              | 3        |
|    time_elapsed     | 6275     |
|    total_timesteps  | 19905    |
| train/              |          |
|    learning_rate    | 0.0001   |
|    loss             | 0.00801  |
|    n_updates        | 4976     |
----------------------------------
----------------------------------
| rollout/            |          |
|    ep_len_mean      | 10.8     |
|    ep_rew_mean      | 10.8     |
|    exploration_rate | 0.05     |
| time/               |          |
|    episodes         | 1884     |
|    fps              | 3        |
|    time_elapsed     | 6288     |
|    total_timesteps  | 19937    |
| train/              |          |
|    learning_rate    | 0.0001   |
|    loss             | 0.00188  |
|    n_updates        | 4984     |
----------------------------------
----------------------------------
| rollout/            |          |
|    ep_len_mean      | 11.1     |
|    ep_rew_mean      | 11.1     |
|    exploration_rate | 0.05     |
| time/               |          |
|    episodes         | 1888     |
|    fps              | 3        |
|    time_elapsed     | 6306     |
|    total_timesteps  | 20003    |
| train/              |          |
|    learning_rate    | 0.0001   |
|    loss             | 0.485    |
|    n_updates        | 5000     |
----------------------------------
----------------------------------
| rollout/            |          |
|    ep_len_mean      | 11.1     |
|    ep_rew_mean      | 11.1     |
|    exploration_rate | 0.05     |
| time/               |          |
|    episodes         | 1892     |
|    fps              | 3        |
|    time_elapsed     | 6323     |
|    total_timesteps  | 20048    |
| train/              |          |
|    learning_rate    | 0.0001   |
|    loss             | 0.0792   |
|    n_updates        | 5011     |
----------------------------------
----------------------------------
| rollout/            |          |
|    ep_len_mean      | 11.4     |
|    ep_rew_mean      | 11.4     |
|    exploration_rate | 0.05     |
| time/               |          |
|    episodes         | 1896     |
|    fps              | 3        |
|    time_elapsed     | 6335     |
|    total_timesteps  | 20110    |
| train/              |          |
|    learning_rate    | 0.0001   |
|    loss             | 0.0453   |
|    n_updates        | 5027     |
----------------------------------
----------------------------------
| rollout/            |          |
|    ep_len_mean      | 11.2     |
|    ep_rew_mean      | 11.2     |
|    exploration_rate | 0.05     |
| time/               |          |
|    episodes         | 1900     |
|    fps              | 3        |
|    time_elapsed     | 6348     |
|    total_timesteps  | 20142    |
| train/              |          |
|    learning_rate    | 0.0001   |
|    loss             | 0.0523   |
|    n_updates        | 5035     |
----------------------------------
----------------------------------
| rollout/            |          |
|    ep_len_mean      | 11.4     |
|    ep_rew_mean      | 11.4     |
|    exploration_rate | 0.05     |
| time/               |          |
|    episodes         | 1904     |
|    fps              | 3        |
|    time_elapsed     | 6365     |
|    total_timesteps  | 20201    |
| train/              |          |
|    learning_rate    | 0.0001   |
|    loss             | 0.0333   |
|    n_updates        | 5050     |
----------------------------------
----------------------------------
| rollout/            |          |
|    ep_len_mean      | 11.4     |
|    ep_rew_mean      | 11.4     |
|    exploration_rate | 0.05     |
| time/               |          |
|    episodes         | 1908     |
|    fps              | 3        |
|    time_elapsed     | 6378     |
|    total_timesteps  | 20237    |
| train/              |          |
|    learning_rate    | 0.0001   |
|    loss             | 0.0392   |
|    n_updates        | 5059     |
----------------------------------
----------------------------------
| rollout/            |          |
|    ep_len_mean      | 11.1     |
|    ep_rew_mean      | 11.1     |
|    exploration_rate | 0.05     |
| time/               |          |
|    episodes         | 1912     |
|    fps              | 3        |
|    time_elapsed     | 6391     |
|    total_timesteps  | 20263    |
| train/              |          |
|    learning_rate    | 0.0001   |
|    loss             | 0.104    |
|    n_updates        | 5065     |
----------------------------------
----------------------------------
| rollout/            |          |
|    ep_len_mean      | 11.2     |
|    ep_rew_mean      | 11.2     |
|    exploration_rate | 0.05     |
| time/               |          |
|    episodes         | 1916     |
|    fps              | 3        |
|    time_elapsed     | 6405     |
|    total_timesteps  | 20306    |
| train/              |          |
|    learning_rate    | 0.0001   |
|    loss             | 0.0149   |
|    n_updates        | 5076     |
----------------------------------
----------------------------------
| rollout/            |          |
|    ep_len_mean      | 11.3     |
|    ep_rew_mean      | 11.3     |
|    exploration_rate | 0.05     |
| time/               |          |
|    episodes         | 1920     |
|    fps              | 3        |
|    time_elapsed     | 6424     |
|    total_timesteps  | 20355    |
| train/              |          |
|    learning_rate    | 0.0001   |
|    loss             | 0.0247   |
|    n_updates        | 5088     |
----------------------------------
----------------------------------
| rollout/            |          |
|    ep_len_mean      | 11.4     |
|    ep_rew_mean      | 11.4     |
|    exploration_rate | 0.05     |
| time/               |          |
|    episodes         | 1924     |
|    fps              | 3        |
|    time_elapsed     | 6439     |
|    total_timesteps  | 20407    |
| train/              |          |
|    learning_rate    | 0.0001   |
|    loss             | 0.0223   |
|    n_updates        | 5101     |
----------------------------------
----------------------------------
| rollout/            |          |
|    ep_len_mean      | 11.8     |
|    ep_rew_mean      | 11.8     |
|    exploration_rate | 0.05     |
| time/               |          |
|    episodes         | 1928     |
|    fps              | 3        |
|    time_elapsed     | 6457     |
|    total_timesteps  | 20485    |
| train/              |          |
|    learning_rate    | 0.0001   |
|    loss             | 0.0414   |
|    n_updates        | 5121     |
----------------------------------
----------------------------------
| rollout/            |          |
|    ep_len_mean      | 11.4     |
|    ep_rew_mean      | 11.4     |
|    exploration_rate | 0.05     |
| time/               |          |
|    episodes         | 1932     |
|    fps              | 3        |
|    time_elapsed     | 6469     |
|    total_timesteps  | 20518    |
| train/              |          |
|    learning_rate    | 0.0001   |
|    loss             | 0.0227   |
|    n_updates        | 5129     |
----------------------------------
----------------------------------
| rollout/            |          |
|    ep_len_mean      | 11       |
|    ep_rew_mean      | 11       |
|    exploration_rate | 0.05     |
| time/               |          |
|    episodes         | 1936     |
|    fps              | 3        |
|    time_elapsed     | 6482     |
|    total_timesteps  | 20542    |
| train/              |          |
|    learning_rate    | 0.0001   |
|    loss             | 0.0162   |
|    n_updates        | 5135     |
----------------------------------
----------------------------------
| rollout/            |          |
|    ep_len_mean      | 11       |
|    ep_rew_mean      | 11       |
|    exploration_rate | 0.05     |
| time/               |          |
|    episodes         | 1940     |
|    fps              | 3        |
|    time_elapsed     | 6494     |
|    total_timesteps  | 20578    |
| train/              |          |
|    learning_rate    | 0.0001   |
|    loss             | 0.0123   |
|    n_updates        | 5144     |
----------------------------------
----------------------------------
| rollout/            |          |
|    ep_len_mean      | 11.1     |
|    ep_rew_mean      | 11.1     |
|    exploration_rate | 0.05     |
| time/               |          |
|    episodes         | 1944     |
|    fps              | 3        |
|    time_elapsed     | 6507     |
|    total_timesteps  | 20621    |
| train/              |          |
|    learning_rate    | 0.0001   |
|    loss             | 0.00559  |
|    n_updates        | 5155     |
----------------------------------
----------------------------------
| rollout/            |          |
|    ep_len_mean      | 11       |
|    ep_rew_mean      | 11       |
|    exploration_rate | 0.05     |
| time/               |          |
|    episodes         | 1948     |
|    fps              | 3        |
|    time_elapsed     | 6518     |
|    total_timesteps  | 20650    |
| train/              |          |
|    learning_rate    | 0.0001   |
|    loss             | 0.00522  |
|    n_updates        | 5162     |
----------------------------------
----------------------------------
| rollout/            |          |
|    ep_len_mean      | 11.2     |
|    ep_rew_mean      | 11.2     |
|    exploration_rate | 0.05     |
| time/               |          |
|    episodes         | 1952     |
|    fps              | 3        |
|    time_elapsed     | 6532     |
|    total_timesteps  | 20696    |
| train/              |          |
|    learning_rate    | 0.0001   |
|    loss             | 0.012    |
|    n_updates        | 5173     |
----------------------------------
----------------------------------
| rollout/            |          |
|    ep_len_mean      | 11.3     |
|    ep_rew_mean      | 11.3     |
|    exploration_rate | 0.05     |
| time/               |          |
|    episodes         | 1956     |
|    fps              | 3        |
|    time_elapsed     | 6550     |
|    total_timesteps  | 20755    |
| train/              |          |
|    learning_rate    | 0.0001   |
|    loss             | 0.00992  |
|    n_updates        | 5188     |
----------------------------------
----------------------------------
| rollout/            |          |
|    ep_len_mean      | 11.5     |
|    ep_rew_mean      | 11.5     |
|    exploration_rate | 0.05     |
| time/               |          |
|    episodes         | 1960     |
|    fps              | 3        |
|    time_elapsed     | 6565     |
|    total_timesteps  | 20806    |
| train/              |          |
|    learning_rate    | 0.0001   |
|    loss             | 0.00377  |
|    n_updates        | 5201     |
----------------------------------
----------------------------------
| rollout/            |          |
|    ep_len_mean      | 11.4     |
|    ep_rew_mean      | 11.4     |
|    exploration_rate | 0.05     |
| time/               |          |
|    episodes         | 1964     |
|    fps              | 3        |
|    time_elapsed     | 6578     |
|    total_timesteps  | 20848    |
| train/              |          |
|    learning_rate    | 0.0001   |
|    loss             | 0.051    |
|    n_updates        | 5211     |
----------------------------------
----------------------------------
| rollout/            |          |
|    ep_len_mean      | 11.4     |
|    ep_rew_mean      | 11.4     |
|    exploration_rate | 0.05     |
| time/               |          |
|    episodes         | 1968     |
|    fps              | 3        |
|    time_elapsed     | 6593     |
|    total_timesteps  | 20891    |
| train/              |          |
|    learning_rate    | 0.0001   |
|    loss             | 0.0851   |
|    n_updates        | 5222     |
----------------------------------
----------------------------------
| rollout/            |          |
|    ep_len_mean      | 11.4     |
|    ep_rew_mean      | 11.4     |
|    exploration_rate | 0.05     |
| time/               |          |
|    episodes         | 1972     |
|    fps              | 3        |
|    time_elapsed     | 6605     |
|    total_timesteps  | 20941    |
| train/              |          |
|    learning_rate    | 0.0001   |
|    loss             | 0.0427   |
|    n_updates        | 5235     |
----------------------------------
----------------------------------
| rollout/            |          |
|    ep_len_mean      | 11.4     |
|    ep_rew_mean      | 11.4     |
|    exploration_rate | 0.05     |
| time/               |          |
|    episodes         | 1976     |
|    fps              | 3        |
|    time_elapsed     | 6620     |
|    total_timesteps  | 20990    |
| train/              |          |
|    learning_rate    | 0.0001   |
|    loss             | 0.0446   |
|    n_updates        | 5247     |
----------------------------------
----------------------------------
| rollout/            |          |
|    ep_len_mean      | 11.1     |
|    ep_rew_mean      | 11.1     |
|    exploration_rate | 0.05     |
| time/               |          |
|    episodes         | 1980     |
|    fps              | 3        |
|    time_elapsed     | 6632     |
|    total_timesteps  | 21017    |
| train/              |          |
|    learning_rate    | 0.0001   |
|    loss             | 0.00284  |
|    n_updates        | 5254     |
----------------------------------
----------------------------------
| rollout/            |          |
|    ep_len_mean      | 11.2     |
|    ep_rew_mean      | 11.2     |
|    exploration_rate | 0.05     |
| time/               |          |
|    episodes         | 1984     |
|    fps              | 3        |
|    time_elapsed     | 6646     |
|    total_timesteps  | 21057    |
| train/              |          |
|    learning_rate    | 0.0001   |
|    loss             | 0.0188   |
|    n_updates        | 5264     |
----------------------------------
----------------------------------
| rollout/            |          |
|    ep_len_mean      | 10.9     |
|    ep_rew_mean      | 10.9     |
|    exploration_rate | 0.05     |
| time/               |          |
|    episodes         | 1988     |
|    fps              | 3        |
|    time_elapsed     | 6660     |
|    total_timesteps  | 21097    |
| train/              |          |
|    learning_rate    | 0.0001   |
|    loss             | 0.0389   |
|    n_updates        | 5274     |
----------------------------------
----------------------------------
| rollout/            |          |
|    ep_len_mean      | 11.1     |
|    ep_rew_mean      | 11.1     |
|    exploration_rate | 0.05     |
| time/               |          |
|    episodes         | 1992     |
|    fps              | 3        |
|    time_elapsed     | 6673     |
|    total_timesteps  | 21160    |
| train/              |          |
|    learning_rate    | 0.0001   |
|    loss             | 0.00368  |
|    n_updates        | 5289     |
----------------------------------
----------------------------------
| rollout/            |          |
|    ep_len_mean      | 10.8     |
|    ep_rew_mean      | 10.8     |
|    exploration_rate | 0.05     |
| time/               |          |
|    episodes         | 1996     |
|    fps              | 3        |
|    time_elapsed     | 6686     |
|    total_timesteps  | 21191    |
| train/              |          |
|    learning_rate    | 0.0001   |
|    loss             | 0.0475   |
|    n_updates        | 5297     |
----------------------------------
----------------------------------
| rollout/            |          |
|    ep_len_mean      | 11.2     |
|    ep_rew_mean      | 11.2     |
|    exploration_rate | 0.05     |
| time/               |          |
|    episodes         | 2000     |
|    fps              | 3        |
|    time_elapsed     | 6706     |
|    total_timesteps  | 21259    |
| train/              |          |
|    learning_rate    | 0.0001   |
|    loss             | 0.00491  |
|    n_updates        | 5314     |
----------------------------------
----------------------------------
| rollout/            |          |
|    ep_len_mean      | 10.8     |
|    ep_rew_mean      | 10.8     |
|    exploration_rate | 0.05     |
| time/               |          |
|    episodes         | 2004     |
|    fps              | 3        |
|    time_elapsed     | 6718     |
|    total_timesteps  | 21285    |
| train/              |          |
|    learning_rate    | 0.0001   |
|    loss             | 0.0917   |
|    n_updates        | 5321     |
----------------------------------
----------------------------------
| rollout/            |          |
|    ep_len_mean      | 11.1     |
|    ep_rew_mean      | 11.1     |
|    exploration_rate | 0.05     |
| time/               |          |
|    episodes         | 2008     |
|    fps              | 3        |
|    time_elapsed     | 6732     |
|    total_timesteps  | 21342    |
| train/              |          |
|    learning_rate    | 0.0001   |
|    loss             | 0.0541   |
|    n_updates        | 5335     |
----------------------------------
----------------------------------
| rollout/            |          |
|    ep_len_mean      | 11.2     |
|    ep_rew_mean      | 11.2     |
|    exploration_rate | 0.05     |
| time/               |          |
|    episodes         | 2012     |
|    fps              | 3        |
|    time_elapsed     | 6746     |
|    total_timesteps  | 21383    |
| train/              |          |
|    learning_rate    | 0.0001   |
|    loss             | 0.0266   |
|    n_updates        | 5345     |
----------------------------------
----------------------------------
| rollout/            |          |
|    ep_len_mean      | 11.4     |
|    ep_rew_mean      | 11.4     |
|    exploration_rate | 0.05     |
| time/               |          |
|    episodes         | 2016     |
|    fps              | 3        |
|    time_elapsed     | 6764     |
|    total_timesteps  | 21443    |
| train/              |          |
|    learning_rate    | 0.0001   |
|    loss             | 0.0531   |
|    n_updates        | 5360     |
----------------------------------
----------------------------------
| rollout/            |          |
|    ep_len_mean      | 11.4     |
|    ep_rew_mean      | 11.4     |
|    exploration_rate | 0.05     |
| time/               |          |
|    episodes         | 2020     |
|    fps              | 3        |
|    time_elapsed     | 6777     |
|    total_timesteps  | 21492    |
| train/              |          |
|    learning_rate    | 0.0001   |
|    loss             | 0.00704  |
|    n_updates        | 5372     |
----------------------------------
----------------------------------
| rollout/            |          |
|    ep_len_mean      | 11.7     |
|    ep_rew_mean      | 11.7     |
|    exploration_rate | 0.05     |
| time/               |          |
|    episodes         | 2024     |
|    fps              | 3        |
|    time_elapsed     | 6799     |
|    total_timesteps  | 21578    |
| train/              |          |
|    learning_rate    | 0.0001   |
|    loss             | 0.0419   |
|    n_updates        | 5394     |
----------------------------------
----------------------------------
| rollout/            |          |
|    ep_len_mean      | 11.5     |
|    ep_rew_mean      | 11.5     |
|    exploration_rate | 0.05     |
| time/               |          |
|    episodes         | 2028     |
|    fps              | 3        |
|    time_elapsed     | 6813     |
|    total_timesteps  | 21634    |
| train/              |          |
|    learning_rate    | 0.0001   |
|    loss             | 0.0117   |
|    n_updates        | 5408     |
----------------------------------
----------------------------------
| rollout/            |          |
|    ep_len_mean      | 11.7     |
|    ep_rew_mean      | 11.7     |
|    exploration_rate | 0.05     |
| time/               |          |
|    episodes         | 2032     |
|    fps              | 3        |
|    time_elapsed     | 6827     |
|    total_timesteps  | 21691    |
| train/              |          |
|    learning_rate    | 0.0001   |
|    loss             | 0.0466   |
|    n_updates        | 5422     |
----------------------------------
----------------------------------
| rollout/            |          |
|    ep_len_mean      | 11.8     |
|    ep_rew_mean      | 11.8     |
|    exploration_rate | 0.05     |
| time/               |          |
|    episodes         | 2036     |
|    fps              | 3        |
|    time_elapsed     | 6839     |
|    total_timesteps  | 21723    |
| train/              |          |
|    learning_rate    | 0.0001   |
|    loss             | 0.0105   |
|    n_updates        | 5430     |
----------------------------------
----------------------------------
| rollout/            |          |
|    ep_len_mean      | 12       |
|    ep_rew_mean      | 12       |
|    exploration_rate | 0.05     |
| time/               |          |
|    episodes         | 2040     |
|    fps              | 3        |
|    time_elapsed     | 6855     |
|    total_timesteps  | 21779    |
| train/              |          |
|    learning_rate    | 0.0001   |
|    loss             | 0.0554   |
|    n_updates        | 5444     |
----------------------------------
----------------------------------
| rollout/            |          |
|    ep_len_mean      | 12.6     |
|    ep_rew_mean      | 12.6     |
|    exploration_rate | 0.05     |
| time/               |          |
|    episodes         | 2044     |
|    fps              | 3        |
|    time_elapsed     | 6880     |
|    total_timesteps  | 21884    |
| train/              |          |
|    learning_rate    | 0.0001   |
|    loss             | 0.00686  |
|    n_updates        | 5470     |
----------------------------------
----------------------------------
| rollout/            |          |
|    ep_len_mean      | 12.9     |
|    ep_rew_mean      | 12.9     |
|    exploration_rate | 0.05     |
| time/               |          |
|    episodes         | 2048     |
|    fps              | 3        |
|    time_elapsed     | 6902     |
|    total_timesteps  | 21940    |
| train/              |          |
|    learning_rate    | 0.0001   |
|    loss             | 0.00213  |
|    n_updates        | 5484     |
----------------------------------
----------------------------------
| rollout/            |          |
|    ep_len_mean      | 12.9     |
|    ep_rew_mean      | 12.9     |
|    exploration_rate | 0.05     |
| time/               |          |
|    episodes         | 2052     |
|    fps              | 3        |
|    time_elapsed     | 6915     |
|    total_timesteps  | 21985    |
| train/              |          |
|    learning_rate    | 0.0001   |
|    loss             | 0.0106   |
|    n_updates        | 5496     |
----------------------------------
----------------------------------
| rollout/            |          |
|    ep_len_mean      | 12.7     |
|    ep_rew_mean      | 12.7     |
|    exploration_rate | 0.05     |
| time/               |          |
|    episodes         | 2056     |
|    fps              | 3        |
|    time_elapsed     | 6929     |
|    total_timesteps  | 22020    |
| train/              |          |
|    learning_rate    | 0.0001   |
|    loss             | 0.00818  |
|    n_updates        | 5504     |
----------------------------------
----------------------------------
| rollout/            |          |
|    ep_len_mean      | 12.6     |
|    ep_rew_mean      | 12.6     |
|    exploration_rate | 0.05     |
| time/               |          |
|    episodes         | 2060     |
|    fps              | 3        |
|    time_elapsed     | 6941     |
|    total_timesteps  | 22069    |
| train/              |          |
|    learning_rate    | 0.0001   |
|    loss             | 0.0075   |
|    n_updates        | 5517     |
----------------------------------
----------------------------------
| rollout/            |          |
|    ep_len_mean      | 12.6     |
|    ep_rew_mean      | 12.6     |
|    exploration_rate | 0.05     |
| time/               |          |
|    episodes         | 2064     |
|    fps              | 3        |
|    time_elapsed     | 6957     |
|    total_timesteps  | 22110    |
| train/              |          |
|    learning_rate    | 0.0001   |
|    loss             | 0.00662  |
|    n_updates        | 5527     |
----------------------------------
----------------------------------
| rollout/            |          |
|    ep_len_mean      | 12.6     |
|    ep_rew_mean      | 12.6     |
|    exploration_rate | 0.05     |
| time/               |          |
|    episodes         | 2068     |
|    fps              | 3        |
|    time_elapsed     | 6971     |
|    total_timesteps  | 22146    |
| train/              |          |
|    learning_rate    | 0.0001   |
|    loss             | 0.00208  |
|    n_updates        | 5536     |
----------------------------------
----------------------------------
| rollout/            |          |
|    ep_len_mean      | 12.4     |
|    ep_rew_mean      | 12.4     |
|    exploration_rate | 0.05     |
| time/               |          |
|    episodes         | 2072     |
|    fps              | 3        |
|    time_elapsed     | 6986     |
|    total_timesteps  | 22181    |
| train/              |          |
|    learning_rate    | 0.0001   |
|    loss             | 0.0496   |
|    n_updates        | 5545     |
----------------------------------
----------------------------------
| rollout/            |          |
|    ep_len_mean      | 12.2     |
|    ep_rew_mean      | 12.2     |
|    exploration_rate | 0.05     |
| time/               |          |
|    episodes         | 2076     |
|    fps              | 3        |
|    time_elapsed     | 6998     |
|    total_timesteps  | 22215    |
| train/              |          |
|    learning_rate    | 0.0001   |
|    loss             | 0.0483   |
|    n_updates        | 5553     |
----------------------------------
----------------------------------
| rollout/            |          |
|    ep_len_mean      | 12.5     |
|    ep_rew_mean      | 12.5     |
|    exploration_rate | 0.05     |
| time/               |          |
|    episodes         | 2080     |
|    fps              | 3        |
|    time_elapsed     | 7015     |
|    total_timesteps  | 22267    |
| train/              |          |
|    learning_rate    | 0.0001   |
|    loss             | 0.00481  |
|    n_updates        | 5566     |
----------------------------------
----------------------------------
| rollout/            |          |
|    ep_len_mean      | 12.4     |
|    ep_rew_mean      | 12.4     |
|    exploration_rate | 0.05     |
| time/               |          |
|    episodes         | 2084     |
|    fps              | 3        |
|    time_elapsed     | 7029     |
|    total_timesteps  | 22296    |
| train/              |          |
|    learning_rate    | 0.0001   |
|    loss             | 0.00163  |
|    n_updates        | 5573     |
----------------------------------
----------------------------------
| rollout/            |          |
|    ep_len_mean      | 12.6     |
|    ep_rew_mean      | 12.6     |
|    exploration_rate | 0.05     |
| time/               |          |
|    episodes         | 2088     |
|    fps              | 3        |
|    time_elapsed     | 7045     |
|    total_timesteps  | 22352    |
| train/              |          |
|    learning_rate    | 0.0001   |
|    loss             | 0.00687  |
|    n_updates        | 5587     |
----------------------------------
----------------------------------
| rollout/            |          |
|    ep_len_mean      | 12.4     |
|    ep_rew_mean      | 12.4     |
|    exploration_rate | 0.05     |
| time/               |          |
|    episodes         | 2092     |
|    fps              | 3        |
|    time_elapsed     | 7061     |
|    total_timesteps  | 22404    |
| train/              |          |
|    learning_rate    | 0.0001   |
|    loss             | 0.0516   |
|    n_updates        | 5600     |
----------------------------------
----------------------------------
| rollout/            |          |
|    ep_len_mean      | 12.8     |
|    ep_rew_mean      | 12.8     |
|    exploration_rate | 0.05     |
| time/               |          |
|    episodes         | 2096     |
|    fps              | 3        |
|    time_elapsed     | 7083     |
|    total_timesteps  | 22468    |
| train/              |          |
|    learning_rate    | 0.0001   |
|    loss             | 0.00652  |
|    n_updates        | 5616     |
----------------------------------
----------------------------------
| rollout/            |          |
|    ep_len_mean      | 12.7     |
|    ep_rew_mean      | 12.7     |
|    exploration_rate | 0.05     |
| time/               |          |
|    episodes         | 2100     |
|    fps              | 3        |
|    time_elapsed     | 7100     |
|    total_timesteps  | 22524    |
| train/              |          |
|    learning_rate    | 0.0001   |
|    loss             | 0.0352   |
|    n_updates        | 5630     |
----------------------------------
----------------------------------
| rollout/            |          |
|    ep_len_mean      | 12.9     |
|    ep_rew_mean      | 12.9     |
|    exploration_rate | 0.05     |
| time/               |          |
|    episodes         | 2104     |
|    fps              | 3        |
|    time_elapsed     | 7114     |
|    total_timesteps  | 22571    |
| train/              |          |
|    learning_rate    | 0.0001   |
|    loss             | 0.0421   |
|    n_updates        | 5642     |
----------------------------------
----------------------------------
| rollout/            |          |
|    ep_len_mean      | 12.9     |
|    ep_rew_mean      | 12.9     |
|    exploration_rate | 0.05     |
| time/               |          |
|    episodes         | 2108     |
|    fps              | 3        |
|    time_elapsed     | 7131     |
|    total_timesteps  | 22629    |
| train/              |          |
|    learning_rate    | 0.0001   |
|    loss             | 0.0469   |
|    n_updates        | 5657     |
----------------------------------
----------------------------------
| rollout/            |          |
|    ep_len_mean      | 13       |
|    ep_rew_mean      | 13       |
|    exploration_rate | 0.05     |
| time/               |          |
|    episodes         | 2112     |
|    fps              | 3        |
|    time_elapsed     | 7146     |
|    total_timesteps  | 22680    |
| train/              |          |
|    learning_rate    | 0.0001   |
|    loss             | 0.0259   |
|    n_updates        | 5669     |
----------------------------------
----------------------------------
| rollout/            |          |
|    ep_len_mean      | 12.9     |
|    ep_rew_mean      | 12.9     |
|    exploration_rate | 0.05     |
| time/               |          |
|    episodes         | 2116     |
|    fps              | 3        |
|    time_elapsed     | 7161     |
|    total_timesteps  | 22737    |
| train/              |          |
|    learning_rate    | 0.0001   |
|    loss             | 0.125    |
|    n_updates        | 5684     |
----------------------------------
----------------------------------
| rollout/            |          |
|    ep_len_mean      | 13.1     |
|    ep_rew_mean      | 13.1     |
|    exploration_rate | 0.05     |
| time/               |          |
|    episodes         | 2120     |
|    fps              | 3        |
|    time_elapsed     | 7182     |
|    total_timesteps  | 22804    |
| train/              |          |
|    learning_rate    | 0.0001   |
|    loss             | 0.00643  |
|    n_updates        | 5700     |
----------------------------------
----------------------------------
| rollout/            |          |
|    ep_len_mean      | 12.8     |
|    ep_rew_mean      | 12.8     |
|    exploration_rate | 0.05     |
| time/               |          |
|    episodes         | 2124     |
|    fps              | 3        |
|    time_elapsed     | 7196     |
|    total_timesteps  | 22855    |
| train/              |          |
|    learning_rate    | 0.0001   |
|    loss             | 0.0431   |
|    n_updates        | 5713     |
----------------------------------
----------------------------------
| rollout/            |          |
|    ep_len_mean      | 12.8     |
|    ep_rew_mean      | 12.8     |
|    exploration_rate | 0.05     |
| time/               |          |
|    episodes         | 2128     |
|    fps              | 3        |
|    time_elapsed     | 7213     |
|    total_timesteps  | 22919    |
| train/              |          |
|    learning_rate    | 0.0001   |
|    loss             | 0.0224   |
|    n_updates        | 5729     |
----------------------------------
----------------------------------
| rollout/            |          |
|    ep_len_mean      | 12.9     |
|    ep_rew_mean      | 12.9     |
|    exploration_rate | 0.05     |
| time/               |          |
|    episodes         | 2132     |
|    fps              | 3        |
|    time_elapsed     | 7228     |
|    total_timesteps  | 22979    |
| train/              |          |
|    learning_rate    | 0.0001   |
|    loss             | 0.0495   |
|    n_updates        | 5744     |
----------------------------------
----------------------------------
| rollout/            |          |
|    ep_len_mean      | 13       |
|    ep_rew_mean      | 13       |
|    exploration_rate | 0.05     |
| time/               |          |
|    episodes         | 2136     |
|    fps              | 3        |
|    time_elapsed     | 7244     |
|    total_timesteps  | 23023    |
| train/              |          |
|    learning_rate    | 0.0001   |
|    loss             | 0.049    |
|    n_updates        | 5755     |
----------------------------------
----------------------------------
| rollout/            |          |
|    ep_len_mean      | 13.1     |
|    ep_rew_mean      | 13.1     |
|    exploration_rate | 0.05     |
| time/               |          |
|    episodes         | 2140     |
|    fps              | 3        |
|    time_elapsed     | 7259     |
|    total_timesteps  | 23091    |
| train/              |          |
|    learning_rate    | 0.0001   |
|    loss             | 0.0623   |
|    n_updates        | 5772     |
----------------------------------
----------------------------------
| rollout/            |          |
|    ep_len_mean      | 13       |
|    ep_rew_mean      | 13       |
|    exploration_rate | 0.05     |
| time/               |          |
|    episodes         | 2144     |
|    fps              | 3        |
|    time_elapsed     | 7282     |
|    total_timesteps  | 23180    |
| train/              |          |
|    learning_rate    | 0.0001   |
|    loss             | 0.00988  |
|    n_updates        | 5794     |
----------------------------------
----------------------------------
| rollout/            |          |
|    ep_len_mean      | 12.7     |
|    ep_rew_mean      | 12.7     |
|    exploration_rate | 0.05     |
| time/               |          |
|    episodes         | 2148     |
|    fps              | 3        |
|    time_elapsed     | 7295     |
|    total_timesteps  | 23213    |
| train/              |          |
|    learning_rate    | 0.0001   |
|    loss             | 0.00728  |
|    n_updates        | 5803     |
----------------------------------
----------------------------------
| rollout/            |          |
|    ep_len_mean      | 12.9     |
|    ep_rew_mean      | 12.9     |
|    exploration_rate | 0.05     |
| time/               |          |
|    episodes         | 2152     |
|    fps              | 3        |
|    time_elapsed     | 7313     |
|    total_timesteps  | 23273    |
| train/              |          |
|    learning_rate    | 0.0001   |
|    loss             | 0.0279   |
|    n_updates        | 5818     |
----------------------------------
----------------------------------
| rollout/            |          |
|    ep_len_mean      | 13.2     |
|    ep_rew_mean      | 13.2     |
|    exploration_rate | 0.05     |
| time/               |          |
|    episodes         | 2156     |
|    fps              | 3        |
|    time_elapsed     | 7331     |
|    total_timesteps  | 23336    |
| train/              |          |
|    learning_rate    | 0.0001   |
|    loss             | 0.0258   |
|    n_updates        | 5833     |
----------------------------------
----------------------------------
| rollout/            |          |
|    ep_len_mean      | 13.1     |
|    ep_rew_mean      | 13.1     |
|    exploration_rate | 0.05     |
| time/               |          |
|    episodes         | 2160     |
|    fps              | 3        |
|    time_elapsed     | 7345     |
|    total_timesteps  | 23380    |
| train/              |          |
|    learning_rate    | 0.0001   |
|    loss             | 0.0475   |
|    n_updates        | 5844     |
----------------------------------
----------------------------------
| rollout/            |          |
|    ep_len_mean      | 13.3     |
|    ep_rew_mean      | 13.3     |
|    exploration_rate | 0.05     |
| time/               |          |
|    episodes         | 2164     |
|    fps              | 3        |
|    time_elapsed     | 7363     |
|    total_timesteps  | 23440    |
| train/              |          |
|    learning_rate    | 0.0001   |
|    loss             | 0.058    |
|    n_updates        | 5859     |
----------------------------------
----------------------------------
| rollout/            |          |
|    ep_len_mean      | 13.5     |
|    ep_rew_mean      | 13.5     |
|    exploration_rate | 0.05     |
| time/               |          |
|    episodes         | 2168     |
|    fps              | 3        |
|    time_elapsed     | 7379     |
|    total_timesteps  | 23493    |
| train/              |          |
|    learning_rate    | 0.0001   |
|    loss             | 0.0127   |
|    n_updates        | 5873     |
----------------------------------
----------------------------------
| rollout/            |          |
|    ep_len_mean      | 13.5     |
|    ep_rew_mean      | 13.5     |
|    exploration_rate | 0.05     |
| time/               |          |
|    episodes         | 2172     |
|    fps              | 3        |
|    time_elapsed     | 7394     |
|    total_timesteps  | 23532    |
| train/              |          |
|    learning_rate    | 0.0001   |
|    loss             | 0.0141   |
|    n_updates        | 5882     |
----------------------------------
----------------------------------
| rollout/            |          |
|    ep_len_mean      | 13.9     |
|    ep_rew_mean      | 13.9     |
|    exploration_rate | 0.05     |
| time/               |          |
|    episodes         | 2176     |
|    fps              | 3        |
|    time_elapsed     | 7419     |
|    total_timesteps  | 23604    |
| train/              |          |
|    learning_rate    | 0.0001   |
|    loss             | 0.00335  |
|    n_updates        | 5900     |
----------------------------------
----------------------------------
| rollout/            |          |
|    ep_len_mean      | 13.7     |
|    ep_rew_mean      | 13.7     |
|    exploration_rate | 0.05     |
| time/               |          |
|    episodes         | 2180     |
|    fps              | 3        |
|    time_elapsed     | 7432     |
|    total_timesteps  | 23632    |
| train/              |          |
|    learning_rate    | 0.0001   |
|    loss             | 0.00135  |
|    n_updates        | 5907     |
----------------------------------
----------------------------------
| rollout/            |          |
|    ep_len_mean      | 14       |
|    ep_rew_mean      | 14       |
|    exploration_rate | 0.05     |
| time/               |          |
|    episodes         | 2184     |
|    fps              | 3        |
|    time_elapsed     | 7451     |
|    total_timesteps  | 23699    |
| train/              |          |
|    learning_rate    | 0.0001   |
|    loss             | 0.0038   |
|    n_updates        | 5924     |
----------------------------------
----------------------------------
| rollout/            |          |
|    ep_len_mean      | 13.8     |
|    ep_rew_mean      | 13.8     |
|    exploration_rate | 0.05     |
| time/               |          |
|    episodes         | 2188     |
|    fps              | 3        |
|    time_elapsed     | 7464     |
|    total_timesteps  | 23736    |
| train/              |          |
|    learning_rate    | 0.0001   |
|    loss             | 0.0107   |
|    n_updates        | 5933     |
----------------------------------
----------------------------------
| rollout/            |          |
|    ep_len_mean      | 13.7     |
|    ep_rew_mean      | 13.7     |
|    exploration_rate | 0.05     |
| time/               |          |
|    episodes         | 2192     |
|    fps              | 3        |
|    time_elapsed     | 7477     |
|    total_timesteps  | 23772    |
| train/              |          |
|    learning_rate    | 0.0001   |
|    loss             | 0.00872  |
|    n_updates        | 5942     |
----------------------------------
----------------------------------
| rollout/            |          |
|    ep_len_mean      | 13.3     |
|    ep_rew_mean      | 13.3     |
|    exploration_rate | 0.05     |
| time/               |          |
|    episodes         | 2196     |
|    fps              | 3        |
|    time_elapsed     | 7491     |
|    total_timesteps  | 23802    |
| train/              |          |
|    learning_rate    | 0.0001   |
|    loss             | 0.00244  |
|    n_updates        | 5950     |
----------------------------------
----------------------------------
| rollout/            |          |
|    ep_len_mean      | 13.6     |
|    ep_rew_mean      | 13.6     |
|    exploration_rate | 0.05     |
| time/               |          |
|    episodes         | 2200     |
|    fps              | 3        |
|    time_elapsed     | 7511     |
|    total_timesteps  | 23888    |
| train/              |          |
|    learning_rate    | 0.0001   |
|    loss             | 0.0486   |
|    n_updates        | 5971     |
----------------------------------
----------------------------------
| rollout/            |          |
|    ep_len_mean      | 13.5     |
|    ep_rew_mean      | 13.5     |
|    exploration_rate | 0.05     |
| time/               |          |
|    episodes         | 2204     |
|    fps              | 3        |
|    time_elapsed     | 7524     |
|    total_timesteps  | 23925    |
| train/              |          |
|    learning_rate    | 0.0001   |
|    loss             | 0.00107  |
|    n_updates        | 5981     |
----------------------------------
----------------------------------
| rollout/            |          |
|    ep_len_mean      | 13.2     |
|    ep_rew_mean      | 13.2     |
|    exploration_rate | 0.05     |
| time/               |          |
|    episodes         | 2208     |
|    fps              | 3        |
|    time_elapsed     | 7533     |
|    total_timesteps  | 23951    |
| train/              |          |
|    learning_rate    | 0.0001   |
|    loss             | 0.00455  |
|    n_updates        | 5987     |
----------------------------------
----------------------------------
| rollout/            |          |
|    ep_len_mean      | 13.2     |
|    ep_rew_mean      | 13.2     |
|    exploration_rate | 0.05     |
| time/               |          |
|    episodes         | 2212     |
|    fps              | 3        |
|    time_elapsed     | 7550     |
|    total_timesteps  | 24000    |
| train/              |          |
|    learning_rate    | 0.0001   |
|    loss             | 0.0234   |
|    n_updates        | 5999     |
----------------------------------
----------------------------------
| rollout/            |          |
|    ep_len_mean      | 13.1     |
|    ep_rew_mean      | 13.1     |
|    exploration_rate | 0.05     |
| time/               |          |
|    episodes         | 2216     |
|    fps              | 3        |
|    time_elapsed     | 7564     |
|    total_timesteps  | 24051    |
| train/              |          |
|    learning_rate    | 0.0001   |
|    loss             | 0.00633  |
|    n_updates        | 6012     |
----------------------------------
----------------------------------
| rollout/            |          |
|    ep_len_mean      | 13.1     |
|    ep_rew_mean      | 13.1     |
|    exploration_rate | 0.05     |
| time/               |          |
|    episodes         | 2220     |
|    fps              | 3        |
|    time_elapsed     | 7583     |
|    total_timesteps  | 24116    |
| train/              |          |
|    learning_rate    | 0.0001   |
|    loss             | 0.008    |
|    n_updates        | 6028     |
----------------------------------
----------------------------------
| rollout/            |          |
|    ep_len_mean      | 13       |
|    ep_rew_mean      | 13       |
|    exploration_rate | 0.05     |
| time/               |          |
|    episodes         | 2224     |
|    fps              | 3        |
|    time_elapsed     | 7597     |
|    total_timesteps  | 24157    |
| train/              |          |
|    learning_rate    | 0.0001   |
|    loss             | 0.00275  |
|    n_updates        | 6039     |
----------------------------------
----------------------------------
| rollout/            |          |
|    ep_len_mean      | 13       |
|    ep_rew_mean      | 13       |
|    exploration_rate | 0.05     |
| time/               |          |
|    episodes         | 2228     |
|    fps              | 3        |
|    time_elapsed     | 7615     |
|    total_timesteps  | 24223    |
| train/              |          |
|    learning_rate    | 0.0001   |
|    loss             | 0.0113   |
|    n_updates        | 6055     |
----------------------------------
----------------------------------
| rollout/            |          |
|    ep_len_mean      | 13.1     |
|    ep_rew_mean      | 13.1     |
|    exploration_rate | 0.05     |
| time/               |          |
|    episodes         | 2232     |
|    fps              | 3        |
|    time_elapsed     | 7634     |
|    total_timesteps  | 24289    |
| train/              |          |
|    learning_rate    | 0.0001   |
|    loss             | 0.018    |
|    n_updates        | 6072     |
----------------------------------
----------------------------------
| rollout/            |          |
|    ep_len_mean      | 13.3     |
|    ep_rew_mean      | 13.3     |
|    exploration_rate | 0.05     |
| time/               |          |
|    episodes         | 2236     |
|    fps              | 3        |
|    time_elapsed     | 7655     |
|    total_timesteps  | 24354    |
| train/              |          |
|    learning_rate    | 0.0001   |
|    loss             | 0.021    |
|    n_updates        | 6088     |
----------------------------------
----------------------------------
| rollout/            |          |
|    ep_len_mean      | 13       |
|    ep_rew_mean      | 13       |
|    exploration_rate | 0.05     |
| time/               |          |
|    episodes         | 2240     |
|    fps              | 3        |
|    time_elapsed     | 7670     |
|    total_timesteps  | 24393    |
| train/              |          |
|    learning_rate    | 0.0001   |
|    loss             | 0.0247   |
|    n_updates        | 6098     |
----------------------------------
----------------------------------
| rollout/            |          |
|    ep_len_mean      | 12.8     |
|    ep_rew_mean      | 12.8     |
|    exploration_rate | 0.05     |
| time/               |          |
|    episodes         | 2244     |
|    fps              | 3        |
|    time_elapsed     | 7687     |
|    total_timesteps  | 24460    |
| train/              |          |
|    learning_rate    | 0.0001   |
|    loss             | 0.0466   |
|    n_updates        | 6114     |
----------------------------------
----------------------------------
| rollout/            |          |
|    ep_len_mean      | 12.8     |
|    ep_rew_mean      | 12.8     |
|    exploration_rate | 0.05     |
| time/               |          |
|    episodes         | 2248     |
|    fps              | 3        |
|    time_elapsed     | 7700     |
|    total_timesteps  | 24492    |
| train/              |          |
|    learning_rate    | 0.0001   |
|    loss             | 0.0142   |
|    n_updates        | 6122     |
----------------------------------
----------------------------------
| rollout/            |          |
|    ep_len_mean      | 12.9     |
|    ep_rew_mean      | 12.9     |
|    exploration_rate | 0.05     |
| time/               |          |
|    episodes         | 2252     |
|    fps              | 3        |
|    time_elapsed     | 7716     |
|    total_timesteps  | 24560    |
| train/              |          |
|    learning_rate    | 0.0001   |
|    loss             | 0.0212   |
|    n_updates        | 6139     |
----------------------------------
----------------------------------
| rollout/            |          |
|    ep_len_mean      | 12.5     |
|    ep_rew_mean      | 12.5     |
|    exploration_rate | 0.05     |
| time/               |          |
|    episodes         | 2256     |
|    fps              | 3        |
|    time_elapsed     | 7728     |
|    total_timesteps  | 24589    |
| train/              |          |
|    learning_rate    | 0.0001   |
|    loss             | 0.00758  |
|    n_updates        | 6147     |
----------------------------------
----------------------------------
| rollout/            |          |
|    ep_len_mean      | 12.5     |
|    ep_rew_mean      | 12.5     |
|    exploration_rate | 0.05     |
| time/               |          |
|    episodes         | 2260     |
|    fps              | 3        |
|    time_elapsed     | 7743     |
|    total_timesteps  | 24629    |
| train/              |          |
|    learning_rate    | 0.0001   |
|    loss             | 0.0831   |
|    n_updates        | 6157     |
----------------------------------
----------------------------------
| rollout/            |          |
|    ep_len_mean      | 12.5     |
|    ep_rew_mean      | 12.5     |
|    exploration_rate | 0.05     |
| time/               |          |
|    episodes         | 2264     |
|    fps              | 3        |
|    time_elapsed     | 7761     |
|    total_timesteps  | 24691    |
| train/              |          |
|    learning_rate    | 0.0001   |
|    loss             | 0.00567  |
|    n_updates        | 6172     |
----------------------------------
----------------------------------
| rollout/            |          |
|    ep_len_mean      | 12.5     |
|    ep_rew_mean      | 12.5     |
|    exploration_rate | 0.05     |
| time/               |          |
|    episodes         | 2268     |
|    fps              | 3        |
|    time_elapsed     | 7780     |
|    total_timesteps  | 24739    |
| train/              |          |
|    learning_rate    | 0.0001   |
|    loss             | 0.0736   |
|    n_updates        | 6184     |
----------------------------------
----------------------------------
| rollout/            |          |
|    ep_len_mean      | 12.8     |
|    ep_rew_mean      | 12.8     |
|    exploration_rate | 0.05     |
| time/               |          |
|    episodes         | 2272     |
|    fps              | 3        |
|    time_elapsed     | 7797     |
|    total_timesteps  | 24810    |
| train/              |          |
|    learning_rate    | 0.0001   |
|    loss             | 0.0338   |
|    n_updates        | 6202     |
----------------------------------
----------------------------------
| rollout/            |          |
|    ep_len_mean      | 12.9     |
|    ep_rew_mean      | 12.9     |
|    exploration_rate | 0.05     |
| time/               |          |
|    episodes         | 2276     |
|    fps              | 3        |
|    time_elapsed     | 7821     |
|    total_timesteps  | 24894    |
| train/              |          |
|    learning_rate    | 0.0001   |
|    loss             | 0.0701   |
|    n_updates        | 6223     |
----------------------------------
----------------------------------
| rollout/            |          |
|    ep_len_mean      | 13       |
|    ep_rew_mean      | 13       |
|    exploration_rate | 0.05     |
| time/               |          |
|    episodes         | 2280     |
|    fps              | 3        |
|    time_elapsed     | 7833     |
|    total_timesteps  | 24929    |
| train/              |          |
|    learning_rate    | 0.0001   |
|    loss             | 0.0026   |
|    n_updates        | 6232     |
----------------------------------
----------------------------------
| rollout/            |          |
|    ep_len_mean      | 12.6     |
|    ep_rew_mean      | 12.6     |
|    exploration_rate | 0.05     |
| time/               |          |
|    episodes         | 2284     |
|    fps              | 3        |
|    time_elapsed     | 7846     |
|    total_timesteps  | 24955    |
| train/              |          |
|    learning_rate    | 0.0001   |
|    loss             | 0.0131   |
|    n_updates        | 6238     |
----------------------------------
----------------------------------
| rollout/            |          |
|    ep_len_mean      | 12.8     |
|    ep_rew_mean      | 12.8     |
|    exploration_rate | 0.05     |
| time/               |          |
|    episodes         | 2288     |
|    fps              | 3        |
|    time_elapsed     | 7861     |
|    total_timesteps  | 25014    |
| train/              |          |
|    learning_rate    | 0.0001   |
|    loss             | 0.00243  |
|    n_updates        | 6253     |
----------------------------------
----------------------------------
| rollout/            |          |
|    ep_len_mean      | 12.8     |
|    ep_rew_mean      | 12.8     |
|    exploration_rate | 0.05     |
| time/               |          |
|    episodes         | 2292     |
|    fps              | 3        |
|    time_elapsed     | 7876     |
|    total_timesteps  | 25050    |
| train/              |          |
|    learning_rate    | 0.0001   |
|    loss             | 0.0564   |
|    n_updates        | 6262     |
----------------------------------
----------------------------------
| rollout/            |          |
|    ep_len_mean      | 13.2     |
|    ep_rew_mean      | 13.2     |
|    exploration_rate | 0.05     |
| time/               |          |
|    episodes         | 2296     |
|    fps              | 3        |
|    time_elapsed     | 7895     |
|    total_timesteps  | 25117    |
| train/              |          |
|    learning_rate    | 0.0001   |
|    loss             | 0.0552   |
|    n_updates        | 6279     |
----------------------------------
----------------------------------
| rollout/            |          |
|    ep_len_mean      | 12.8     |
|    ep_rew_mean      | 12.8     |
|    exploration_rate | 0.05     |
| time/               |          |
|    episodes         | 2300     |
|    fps              | 3        |
|    time_elapsed     | 7913     |
|    total_timesteps  | 25165    |
| train/              |          |
|    learning_rate    | 0.0001   |
|    loss             | 0.0443   |
|    n_updates        | 6291     |
----------------------------------
----------------------------------
| rollout/            |          |
|    ep_len_mean      | 12.9     |
|    ep_rew_mean      | 12.9     |
|    exploration_rate | 0.05     |
| time/               |          |
|    episodes         | 2304     |
|    fps              | 3        |
|    time_elapsed     | 7928     |
|    total_timesteps  | 25216    |
| train/              |          |
|    learning_rate    | 0.0001   |
|    loss             | 0.0457   |
|    n_updates        | 6303     |
----------------------------------
----------------------------------
| rollout/            |          |
|    ep_len_mean      | 13       |
|    ep_rew_mean      | 13       |
|    exploration_rate | 0.05     |
| time/               |          |
|    episodes         | 2308     |
|    fps              | 3        |
|    time_elapsed     | 7941     |
|    total_timesteps  | 25252    |
| train/              |          |
|    learning_rate    | 0.0001   |
|    loss             | 0.0133   |
|    n_updates        | 6312     |
----------------------------------
----------------------------------
| rollout/            |          |
|    ep_len_mean      | 13.1     |
|    ep_rew_mean      | 13.1     |
|    exploration_rate | 0.05     |
| time/               |          |
|    episodes         | 2312     |
|    fps              | 3        |
|    time_elapsed     | 7962     |
|    total_timesteps  | 25305    |
| train/              |          |
|    learning_rate    | 0.0001   |
|    loss             | 0.0655   |
|    n_updates        | 6326     |
----------------------------------
----------------------------------
| rollout/            |          |
|    ep_len_mean      | 13.1     |
|    ep_rew_mean      | 13.1     |
|    exploration_rate | 0.05     |
| time/               |          |
|    episodes         | 2316     |
|    fps              | 3        |
|    time_elapsed     | 7980     |
|    total_timesteps  | 25358    |
| train/              |          |
|    learning_rate    | 0.0001   |
|    loss             | 0.00394  |
|    n_updates        | 6339     |
----------------------------------
----------------------------------
| rollout/            |          |
|    ep_len_mean      | 13.2     |
|    ep_rew_mean      | 13.2     |
|    exploration_rate | 0.05     |
| time/               |          |
|    episodes         | 2320     |
|    fps              | 3        |
|    time_elapsed     | 8001     |
|    total_timesteps  | 25435    |
| train/              |          |
|    learning_rate    | 0.0001   |
|    loss             | 0.0579   |
|    n_updates        | 6358     |
----------------------------------
----------------------------------
| rollout/            |          |
|    ep_len_mean      | 13.2     |
|    ep_rew_mean      | 13.2     |
|    exploration_rate | 0.05     |
| time/               |          |
|    episodes         | 2324     |
|    fps              | 3        |
|    time_elapsed     | 8015     |
|    total_timesteps  | 25476    |
| train/              |          |
|    learning_rate    | 0.0001   |
|    loss             | 0.0869   |
|    n_updates        | 6368     |
----------------------------------
----------------------------------
| rollout/            |          |
|    ep_len_mean      | 13.6     |
|    ep_rew_mean      | 13.6     |
|    exploration_rate | 0.05     |
| time/               |          |
|    episodes         | 2328     |
|    fps              | 3        |
|    time_elapsed     | 8043     |
|    total_timesteps  | 25587    |
| train/              |          |
|    learning_rate    | 0.0001   |
|    loss             | 0.0251   |
|    n_updates        | 6396     |
----------------------------------
----------------------------------
| rollout/            |          |
|    ep_len_mean      | 13.4     |
|    ep_rew_mean      | 13.4     |
|    exploration_rate | 0.05     |
| time/               |          |
|    episodes         | 2332     |
|    fps              | 3        |
|    time_elapsed     | 8056     |
|    total_timesteps  | 25626    |
| train/              |          |
|    learning_rate    | 0.0001   |
|    loss             | 0.00175  |
|    n_updates        | 6406     |
----------------------------------
----------------------------------
| rollout/            |          |
|    ep_len_mean      | 13.3     |
|    ep_rew_mean      | 13.3     |
|    exploration_rate | 0.05     |
| time/               |          |
|    episodes         | 2336     |
|    fps              | 3        |
|    time_elapsed     | 8075     |
|    total_timesteps  | 25684    |
| train/              |          |
|    learning_rate    | 0.0001   |
|    loss             | 0.0418   |
|    n_updates        | 6420     |
----------------------------------
----------------------------------
| rollout/            |          |
|    ep_len_mean      | 13.4     |
|    ep_rew_mean      | 13.4     |
|    exploration_rate | 0.05     |
| time/               |          |
|    episodes         | 2340     |
|    fps              | 3        |
|    time_elapsed     | 8089     |
|    total_timesteps  | 25735    |
| train/              |          |
|    learning_rate    | 0.0001   |
|    loss             | 0.0549   |
|    n_updates        | 6433     |
----------------------------------
----------------------------------
| rollout/            |          |
|    ep_len_mean      | 13.2     |
|    ep_rew_mean      | 13.2     |
|    exploration_rate | 0.05     |
| time/               |          |
|    episodes         | 2344     |
|    fps              | 3        |
|    time_elapsed     | 8105     |
|    total_timesteps  | 25784    |
| train/              |          |
|    learning_rate    | 0.0001   |
|    loss             | 0.00319  |
|    n_updates        | 6445     |
----------------------------------
----------------------------------
| rollout/            |          |
|    ep_len_mean      | 13.5     |
|    ep_rew_mean      | 13.5     |
|    exploration_rate | 0.05     |
| time/               |          |
|    episodes         | 2348     |
|    fps              | 3        |
|    time_elapsed     | 8121     |
|    total_timesteps  | 25844    |
| train/              |          |
|    learning_rate    | 0.0001   |
|    loss             | 0.0589   |
|    n_updates        | 6460     |
----------------------------------
----------------------------------
| rollout/            |          |
|    ep_len_mean      | 13.3     |
|    ep_rew_mean      | 13.3     |
|    exploration_rate | 0.05     |
| time/               |          |
|    episodes         | 2352     |
|    fps              | 3        |
|    time_elapsed     | 8135     |
|    total_timesteps  | 25891    |
| train/              |          |
|    learning_rate    | 0.0001   |
|    loss             | 0.0526   |
|    n_updates        | 6472     |
----------------------------------
----------------------------------
| rollout/            |          |
|    ep_len_mean      | 13.6     |
|    ep_rew_mean      | 13.6     |
|    exploration_rate | 0.05     |
| time/               |          |
|    episodes         | 2356     |
|    fps              | 3        |
|    time_elapsed     | 8149     |
|    total_timesteps  | 25950    |
| train/              |          |
|    learning_rate    | 0.0001   |
|    loss             | 0.00503  |
|    n_updates        | 6487     |
----------------------------------
----------------------------------
| rollout/            |          |
|    ep_len_mean      | 13.6     |
|    ep_rew_mean      | 13.6     |
|    exploration_rate | 0.05     |
| time/               |          |
|    episodes         | 2360     |
|    fps              | 3        |
|    time_elapsed     | 8162     |
|    total_timesteps  | 25990    |
| train/              |          |
|    learning_rate    | 0.0001   |
|    loss             | 0.0447   |
|    n_updates        | 6497     |
----------------------------------
----------------------------------
| rollout/            |          |
|    ep_len_mean      | 13.4     |
|    ep_rew_mean      | 13.4     |
|    exploration_rate | 0.05     |
| time/               |          |
|    episodes         | 2364     |
|    fps              | 3        |
|    time_elapsed     | 8179     |
|    total_timesteps  | 26032    |
| train/              |          |
|    learning_rate    | 0.0001   |
|    loss             | 0.0244   |
|    n_updates        | 6507     |
----------------------------------
----------------------------------
| rollout/            |          |
|    ep_len_mean      | 13.3     |
|    ep_rew_mean      | 13.3     |
|    exploration_rate | 0.05     |
| time/               |          |
|    episodes         | 2368     |
|    fps              | 3        |
|    time_elapsed     | 8192     |
|    total_timesteps  | 26068    |
| train/              |          |
|    learning_rate    | 0.0001   |
|    loss             | 0.00296  |
|    n_updates        | 6516     |
----------------------------------
----------------------------------
| rollout/            |          |
|    ep_len_mean      | 13.1     |
|    ep_rew_mean      | 13.1     |
|    exploration_rate | 0.05     |
| time/               |          |
|    episodes         | 2372     |
|    fps              | 3        |
|    time_elapsed     | 8206     |
|    total_timesteps  | 26119    |
| train/              |          |
|    learning_rate    | 0.0001   |
|    loss             | 0.0302   |
|    n_updates        | 6529     |
----------------------------------
----------------------------------
| rollout/            |          |
|    ep_len_mean      | 12.6     |
|    ep_rew_mean      | 12.6     |
|    exploration_rate | 0.05     |
| time/               |          |
|    episodes         | 2376     |
|    fps              | 3        |
|    time_elapsed     | 8220     |
|    total_timesteps  | 26151    |
| train/              |          |
|    learning_rate    | 0.0001   |
|    loss             | 0.0503   |
|    n_updates        | 6537     |
----------------------------------
----------------------------------
| rollout/            |          |
|    ep_len_mean      | 13       |
|    ep_rew_mean      | 13       |
|    exploration_rate | 0.05     |
| time/               |          |
|    episodes         | 2380     |
|    fps              | 3        |
|    time_elapsed     | 8248     |
|    total_timesteps  | 26228    |
| train/              |          |
|    learning_rate    | 0.0001   |
|    loss             | 0.0935   |
|    n_updates        | 6556     |
----------------------------------
----------------------------------
| rollout/            |          |
|    ep_len_mean      | 13.1     |
|    ep_rew_mean      | 13.1     |
|    exploration_rate | 0.05     |
| time/               |          |
|    episodes         | 2384     |
|    fps              | 3        |
|    time_elapsed     | 8261     |
|    total_timesteps  | 26261    |
| train/              |          |
|    learning_rate    | 0.0001   |
|    loss             | 0.0391   |
|    n_updates        | 6565     |
----------------------------------
----------------------------------
| rollout/            |          |
|    ep_len_mean      | 12.9     |
|    ep_rew_mean      | 12.9     |
|    exploration_rate | 0.05     |
| time/               |          |
|    episodes         | 2388     |
|    fps              | 3        |
|    time_elapsed     | 8275     |
|    total_timesteps  | 26300    |
| train/              |          |
|    learning_rate    | 0.0001   |
|    loss             | 0.0461   |
|    n_updates        | 6574     |
----------------------------------
----------------------------------
| rollout/            |          |
|    ep_len_mean      | 13       |
|    ep_rew_mean      | 13       |
|    exploration_rate | 0.05     |
| time/               |          |
|    episodes         | 2392     |
|    fps              | 3        |
|    time_elapsed     | 8290     |
|    total_timesteps  | 26347    |
| train/              |          |
|    learning_rate    | 0.0001   |
|    loss             | 0.0375   |
|    n_updates        | 6586     |
----------------------------------
----------------------------------
| rollout/            |          |
|    ep_len_mean      | 12.6     |
|    ep_rew_mean      | 12.6     |
|    exploration_rate | 0.05     |
| time/               |          |
|    episodes         | 2396     |
|    fps              | 3        |
|    time_elapsed     | 8305     |
|    total_timesteps  | 26381    |
| train/              |          |
|    learning_rate    | 0.0001   |
|    loss             | 0.00961  |
|    n_updates        | 6595     |
----------------------------------
----------------------------------
| rollout/            |          |
|    ep_len_mean      | 12.6     |
|    ep_rew_mean      | 12.6     |
|    exploration_rate | 0.05     |
| time/               |          |
|    episodes         | 2400     |
|    fps              | 3        |
|    time_elapsed     | 8319     |
|    total_timesteps  | 26423    |
| train/              |          |
|    learning_rate    | 0.0001   |
|    loss             | 0.114    |
|    n_updates        | 6605     |
----------------------------------
----------------------------------
| rollout/            |          |
|    ep_len_mean      | 12.8     |
|    ep_rew_mean      | 12.8     |
|    exploration_rate | 0.05     |
| time/               |          |
|    episodes         | 2404     |
|    fps              | 3        |
|    time_elapsed     | 8338     |
|    total_timesteps  | 26499    |
| train/              |          |
|    learning_rate    | 0.0001   |
|    loss             | 0.00595  |
|    n_updates        | 6624     |
----------------------------------
----------------------------------
| rollout/            |          |
|    ep_len_mean      | 12.7     |
|    ep_rew_mean      | 12.7     |
|    exploration_rate | 0.05     |
| time/               |          |
|    episodes         | 2408     |
|    fps              | 3        |
|    time_elapsed     | 8345     |
|    total_timesteps  | 26519    |
| train/              |          |
|    learning_rate    | 0.0001   |
|    loss             | 0.0726   |
|    n_updates        | 6629     |
----------------------------------
----------------------------------
| rollout/            |          |
|    ep_len_mean      | 12.5     |
|    ep_rew_mean      | 12.5     |
|    exploration_rate | 0.05     |
| time/               |          |
|    episodes         | 2412     |
|    fps              | 3        |
|    time_elapsed     | 8358     |
|    total_timesteps  | 26554    |
| train/              |          |
|    learning_rate    | 0.0001   |
|    loss             | 0.00903  |
|    n_updates        | 6638     |
----------------------------------
----------------------------------
| rollout/            |          |
|    ep_len_mean      | 12.5     |
|    ep_rew_mean      | 12.5     |
|    exploration_rate | 0.05     |
| time/               |          |
|    episodes         | 2416     |
|    fps              | 3        |
|    time_elapsed     | 8373     |
|    total_timesteps  | 26605    |
| train/              |          |
|    learning_rate    | 0.0001   |
|    loss             | 0.00385  |
|    n_updates        | 6651     |
----------------------------------
----------------------------------
| rollout/            |          |
|    ep_len_mean      | 12       |
|    ep_rew_mean      | 12       |
|    exploration_rate | 0.05     |
| time/               |          |
|    episodes         | 2420     |
|    fps              | 3        |
|    time_elapsed     | 8387     |
|    total_timesteps  | 26636    |
| train/              |          |
|    learning_rate    | 0.0001   |
|    loss             | 0.0839   |
|    n_updates        | 6658     |
----------------------------------
----------------------------------
| rollout/            |          |
|    ep_len_mean      | 11.9     |
|    ep_rew_mean      | 11.9     |
|    exploration_rate | 0.05     |
| time/               |          |
|    episodes         | 2424     |
|    fps              | 3        |
|    time_elapsed     | 8401     |
|    total_timesteps  | 26671    |
| train/              |          |
|    learning_rate    | 0.0001   |
|    loss             | 0.0371   |
|    n_updates        | 6667     |
----------------------------------
----------------------------------
| rollout/            |          |
|    ep_len_mean      | 11.5     |
|    ep_rew_mean      | 11.5     |
|    exploration_rate | 0.05     |
| time/               |          |
|    episodes         | 2428     |
|    fps              | 3        |
|    time_elapsed     | 8416     |
|    total_timesteps  | 26734    |
| train/              |          |
|    learning_rate    | 0.0001   |
|    loss             | 0.00618  |
|    n_updates        | 6683     |
----------------------------------
----------------------------------
| rollout/            |          |
|    ep_len_mean      | 11.6     |
|    ep_rew_mean      | 11.6     |
|    exploration_rate | 0.05     |
| time/               |          |
|    episodes         | 2432     |
|    fps              | 3        |
|    time_elapsed     | 8431     |
|    total_timesteps  | 26784    |
| train/              |          |
|    learning_rate    | 0.0001   |
|    loss             | 0.0748   |
|    n_updates        | 6695     |
----------------------------------
----------------------------------
| rollout/            |          |
|    ep_len_mean      | 12.1     |
|    ep_rew_mean      | 12.1     |
|    exploration_rate | 0.05     |
| time/               |          |
|    episodes         | 2436     |
|    fps              | 3        |
|    time_elapsed     | 8460     |
|    total_timesteps  | 26891    |
| train/              |          |
|    learning_rate    | 0.0001   |
|    loss             | 0.0114   |
|    n_updates        | 6722     |
----------------------------------
----------------------------------
| rollout/            |          |
|    ep_len_mean      | 11.8     |
|    ep_rew_mean      | 11.8     |
|    exploration_rate | 0.05     |
| time/               |          |
|    episodes         | 2440     |
|    fps              | 3        |
|    time_elapsed     | 8472     |
|    total_timesteps  | 26915    |
| train/              |          |
|    learning_rate    | 0.0001   |
|    loss             | 0.0289   |
|    n_updates        | 6728     |
----------------------------------
----------------------------------
| rollout/            |          |
|    ep_len_mean      | 12.2     |
|    ep_rew_mean      | 12.2     |
|    exploration_rate | 0.05     |
| time/               |          |
|    episodes         | 2444     |
|    fps              | 3        |
|    time_elapsed     | 8495     |
|    total_timesteps  | 27005    |
| train/              |          |
|    learning_rate    | 0.0001   |
|    loss             | 0.0555   |
|    n_updates        | 6751     |
----------------------------------
----------------------------------
| rollout/            |          |
|    ep_len_mean      | 12.3     |
|    ep_rew_mean      | 12.3     |
|    exploration_rate | 0.05     |
| time/               |          |
|    episodes         | 2448     |
|    fps              | 3        |
|    time_elapsed     | 8515     |
|    total_timesteps  | 27072    |
| train/              |          |
|    learning_rate    | 0.0001   |
|    loss             | 0.0187   |
|    n_updates        | 6767     |
----------------------------------
----------------------------------
| rollout/            |          |
|    ep_len_mean      | 12.3     |
|    ep_rew_mean      | 12.3     |
|    exploration_rate | 0.05     |
| time/               |          |
|    episodes         | 2452     |
|    fps              | 3        |
|    time_elapsed     | 8528     |
|    total_timesteps  | 27125    |
| train/              |          |
|    learning_rate    | 0.0001   |
|    loss             | 0.0976   |
|    n_updates        | 6781     |
----------------------------------
----------------------------------
| rollout/            |          |
|    ep_len_mean      | 12.5     |
|    ep_rew_mean      | 12.5     |
|    exploration_rate | 0.05     |
| time/               |          |
|    episodes         | 2456     |
|    fps              | 3        |
|    time_elapsed     | 8548     |
|    total_timesteps  | 27201    |
| train/              |          |
|    learning_rate    | 0.0001   |
|    loss             | 0.0243   |
|    n_updates        | 6800     |
----------------------------------
----------------------------------
| rollout/            |          |
|    ep_len_mean      | 12.3     |
|    ep_rew_mean      | 12.3     |
|    exploration_rate | 0.05     |
| time/               |          |
|    episodes         | 2460     |
|    fps              | 3        |
|    time_elapsed     | 8561     |
|    total_timesteps  | 27225    |
| train/              |          |
|    learning_rate    | 0.0001   |
|    loss             | 0.0297   |
|    n_updates        | 6806     |
----------------------------------
----------------------------------
| rollout/            |          |
|    ep_len_mean      | 12.6     |
|    ep_rew_mean      | 12.6     |
|    exploration_rate | 0.05     |
| time/               |          |
|    episodes         | 2464     |
|    fps              | 3        |
|    time_elapsed     | 8582     |
|    total_timesteps  | 27292    |
| train/              |          |
|    learning_rate    | 0.0001   |
|    loss             | 0.0122   |
|    n_updates        | 6822     |
----------------------------------
----------------------------------
| rollout/            |          |
|    ep_len_mean      | 12.7     |
|    ep_rew_mean      | 12.7     |
|    exploration_rate | 0.05     |
| time/               |          |
|    episodes         | 2468     |
|    fps              | 3        |
|    time_elapsed     | 8595     |
|    total_timesteps  | 27336    |
| train/              |          |
|    learning_rate    | 0.0001   |
|    loss             | 0.00987  |
|    n_updates        | 6833     |
----------------------------------
----------------------------------
| rollout/            |          |
|    ep_len_mean      | 12.5     |
|    ep_rew_mean      | 12.5     |
|    exploration_rate | 0.05     |
| time/               |          |
|    episodes         | 2472     |
|    fps              | 3        |
|    time_elapsed     | 8609     |
|    total_timesteps  | 27366    |
| train/              |          |
|    learning_rate    | 0.0001   |
|    loss             | 0.011    |
|    n_updates        | 6841     |
----------------------------------
----------------------------------
| rollout/            |          |
|    ep_len_mean      | 13.2     |
|    ep_rew_mean      | 13.2     |
|    exploration_rate | 0.05     |
| time/               |          |
|    episodes         | 2476     |
|    fps              | 3        |
|    time_elapsed     | 8634     |
|    total_timesteps  | 27469    |
| train/              |          |
|    learning_rate    | 0.0001   |
|    loss             | 0.0866   |
|    n_updates        | 6867     |
----------------------------------
----------------------------------
| rollout/            |          |
|    ep_len_mean      | 12.8     |
|    ep_rew_mean      | 12.8     |
|    exploration_rate | 0.05     |
| time/               |          |
|    episodes         | 2480     |
|    fps              | 3        |
|    time_elapsed     | 8648     |
|    total_timesteps  | 27508    |
| train/              |          |
|    learning_rate    | 0.0001   |
|    loss             | 0.0393   |
|    n_updates        | 6876     |
----------------------------------
----------------------------------
| rollout/            |          |
|    ep_len_mean      | 12.8     |
|    ep_rew_mean      | 12.8     |
|    exploration_rate | 0.05     |
| time/               |          |
|    episodes         | 2484     |
|    fps              | 3        |
|    time_elapsed     | 8661     |
|    total_timesteps  | 27545    |
| train/              |          |
|    learning_rate    | 0.0001   |
|    loss             | 0.0104   |
|    n_updates        | 6886     |
----------------------------------
----------------------------------
| rollout/            |          |
|    ep_len_mean      | 13.4     |
|    ep_rew_mean      | 13.4     |
|    exploration_rate | 0.05     |
| time/               |          |
|    episodes         | 2488     |
|    fps              | 3        |
|    time_elapsed     | 8685     |
|    total_timesteps  | 27641    |
| train/              |          |
|    learning_rate    | 0.0001   |
|    loss             | 0.0175   |
|    n_updates        | 6910     |
----------------------------------
----------------------------------
| rollout/            |          |
|    ep_len_mean      | 13.3     |
|    ep_rew_mean      | 13.3     |
|    exploration_rate | 0.05     |
| time/               |          |
|    episodes         | 2492     |
|    fps              | 3        |
|    time_elapsed     | 8699     |
|    total_timesteps  | 27678    |
| train/              |          |
|    learning_rate    | 0.0001   |
|    loss             | 0.043    |
|    n_updates        | 6919     |
----------------------------------
----------------------------------
| rollout/            |          |
|    ep_len_mean      | 13.5     |
|    ep_rew_mean      | 13.5     |
|    exploration_rate | 0.05     |
| time/               |          |
|    episodes         | 2496     |
|    fps              | 3        |
|    time_elapsed     | 8712     |
|    total_timesteps  | 27727    |
| train/              |          |
|    learning_rate    | 0.0001   |
|    loss             | 0.0411   |
|    n_updates        | 6931     |
----------------------------------
----------------------------------
| rollout/            |          |
|    ep_len_mean      | 13.7     |
|    ep_rew_mean      | 13.7     |
|    exploration_rate | 0.05     |
| time/               |          |
|    episodes         | 2500     |
|    fps              | 3        |
|    time_elapsed     | 8729     |
|    total_timesteps  | 27790    |
| train/              |          |
|    learning_rate    | 0.0001   |
|    loss             | 0.0495   |
|    n_updates        | 6947     |
----------------------------------
----------------------------------
| rollout/            |          |
|    ep_len_mean      | 13.7     |
|    ep_rew_mean      | 13.7     |
|    exploration_rate | 0.05     |
| time/               |          |
|    episodes         | 2504     |
|    fps              | 3        |
|    time_elapsed     | 8750     |
|    total_timesteps  | 27864    |
| train/              |          |
|    learning_rate    | 0.0001   |
|    loss             | 0.00453  |
|    n_updates        | 6965     |
----------------------------------
----------------------------------
| rollout/            |          |
|    ep_len_mean      | 13.9     |
|    ep_rew_mean      | 13.9     |
|    exploration_rate | 0.05     |
| time/               |          |
|    episodes         | 2508     |
|    fps              | 3        |
|    time_elapsed     | 8763     |
|    total_timesteps  | 27908    |
| train/              |          |
|    learning_rate    | 0.0001   |
|    loss             | 0.0367   |
|    n_updates        | 6976     |
----------------------------------
----------------------------------
| rollout/            |          |
|    ep_len_mean      | 14       |
|    ep_rew_mean      | 14       |
|    exploration_rate | 0.05     |
| time/               |          |
|    episodes         | 2512     |
|    fps              | 3        |
|    time_elapsed     | 8778     |
|    total_timesteps  | 27953    |
| train/              |          |
|    learning_rate    | 0.0001   |
|    loss             | 0.00368  |
|    n_updates        | 6988     |
----------------------------------
----------------------------------
| rollout/            |          |
|    ep_len_mean      | 14.2     |
|    ep_rew_mean      | 14.2     |
|    exploration_rate | 0.05     |
| time/               |          |
|    episodes         | 2516     |
|    fps              | 3        |
|    time_elapsed     | 8799     |
|    total_timesteps  | 28023    |
| train/              |          |
|    learning_rate    | 0.0001   |
|    loss             | 0.0466   |
|    n_updates        | 7005     |
----------------------------------
----------------------------------
| rollout/            |          |
|    ep_len_mean      | 14.4     |
|    ep_rew_mean      | 14.4     |
|    exploration_rate | 0.05     |
| time/               |          |
|    episodes         | 2520     |
|    fps              | 3        |
|    time_elapsed     | 8814     |
|    total_timesteps  | 28072    |
| train/              |          |
|    learning_rate    | 0.0001   |
|    loss             | 0.0639   |
|    n_updates        | 7017     |
----------------------------------
----------------------------------
| rollout/            |          |
|    ep_len_mean      | 14.4     |
|    ep_rew_mean      | 14.4     |
|    exploration_rate | 0.05     |
| time/               |          |
|    episodes         | 2524     |
|    fps              | 3        |
|    time_elapsed     | 8826     |
|    total_timesteps  | 28113    |
| train/              |          |
|    learning_rate    | 0.0001   |
|    loss             | 0.0552   |
|    n_updates        | 7028     |
----------------------------------
----------------------------------
| rollout/            |          |
|    ep_len_mean      | 14.2     |
|    ep_rew_mean      | 14.2     |
|    exploration_rate | 0.05     |
| time/               |          |
|    episodes         | 2528     |
|    fps              | 3        |
|    time_elapsed     | 8840     |
|    total_timesteps  | 28159    |
| train/              |          |
|    learning_rate    | 0.0001   |
|    loss             | 0.00377  |
|    n_updates        | 7039     |
----------------------------------
----------------------------------
| rollout/            |          |
|    ep_len_mean      | 14.1     |
|    ep_rew_mean      | 14.1     |
|    exploration_rate | 0.05     |
| time/               |          |
|    episodes         | 2532     |
|    fps              | 3        |
|    time_elapsed     | 8856     |
|    total_timesteps  | 28193    |
| train/              |          |
|    learning_rate    | 0.0001   |
|    loss             | 0.0306   |
|    n_updates        | 7048     |
----------------------------------
----------------------------------
| rollout/            |          |
|    ep_len_mean      | 13.3     |
|    ep_rew_mean      | 13.3     |
|    exploration_rate | 0.05     |
| time/               |          |
|    episodes         | 2536     |
|    fps              | 3        |
|    time_elapsed     | 8869     |
|    total_timesteps  | 28220    |
| train/              |          |
|    learning_rate    | 0.0001   |
|    loss             | 0.00367  |
|    n_updates        | 7054     |
----------------------------------
----------------------------------
| rollout/            |          |
|    ep_len_mean      | 13.3     |
|    ep_rew_mean      | 13.3     |
|    exploration_rate | 0.05     |
| time/               |          |
|    episodes         | 2540     |
|    fps              | 3        |
|    time_elapsed     | 8881     |
|    total_timesteps  | 28242    |
| train/              |          |
|    learning_rate    | 0.0001   |
|    loss             | 0.0062   |
|    n_updates        | 7060     |
----------------------------------
----------------------------------
| rollout/            |          |
|    ep_len_mean      | 13.1     |
|    ep_rew_mean      | 13.1     |
|    exploration_rate | 0.05     |
| time/               |          |
|    episodes         | 2544     |
|    fps              | 3        |
|    time_elapsed     | 8901     |
|    total_timesteps  | 28317    |
| train/              |          |
|    learning_rate    | 0.0001   |
|    loss             | 0.0487   |
|    n_updates        | 7079     |
----------------------------------
----------------------------------
| rollout/            |          |
|    ep_len_mean      | 12.8     |
|    ep_rew_mean      | 12.8     |
|    exploration_rate | 0.05     |
| time/               |          |
|    episodes         | 2548     |
|    fps              | 3        |
|    time_elapsed     | 8914     |
|    total_timesteps  | 28353    |
| train/              |          |
|    learning_rate    | 0.0001   |
|    loss             | 0.00602  |
|    n_updates        | 7088     |
----------------------------------
----------------------------------
| rollout/            |          |
|    ep_len_mean      | 12.9     |
|    ep_rew_mean      | 12.9     |
|    exploration_rate | 0.05     |
| time/               |          |
|    episodes         | 2552     |
|    fps              | 3        |
|    time_elapsed     | 8934     |
|    total_timesteps  | 28420    |
| train/              |          |
|    learning_rate    | 0.0001   |
|    loss             | 0.00579  |
|    n_updates        | 7104     |
----------------------------------
----------------------------------
| rollout/            |          |
|    ep_len_mean      | 12.6     |
|    ep_rew_mean      | 12.6     |
|    exploration_rate | 0.05     |
| time/               |          |
|    episodes         | 2556     |
|    fps              | 3        |
|    time_elapsed     | 8948     |
|    total_timesteps  | 28462    |
| train/              |          |
|    learning_rate    | 0.0001   |
|    loss             | 0.061    |
|    n_updates        | 7115     |
----------------------------------
----------------------------------
| rollout/            |          |
|    ep_len_mean      | 13.4     |
|    ep_rew_mean      | 13.4     |
|    exploration_rate | 0.05     |
| time/               |          |
|    episodes         | 2560     |
|    fps              | 3        |
|    time_elapsed     | 8972     |
|    total_timesteps  | 28565    |
| train/              |          |
|    learning_rate    | 0.0001   |
|    loss             | 0.0513   |
|    n_updates        | 7141     |
----------------------------------
----------------------------------
| rollout/            |          |
|    ep_len_mean      | 13.1     |
|    ep_rew_mean      | 13.1     |
|    exploration_rate | 0.05     |
| time/               |          |
|    episodes         | 2564     |
|    fps              | 3        |
|    time_elapsed     | 8986     |
|    total_timesteps  | 28604    |
| train/              |          |
|    learning_rate    | 0.0001   |
|    loss             | 0.045    |
|    n_updates        | 7150     |
----------------------------------
----------------------------------
| rollout/            |          |
|    ep_len_mean      | 13.3     |
|    ep_rew_mean      | 13.3     |
|    exploration_rate | 0.05     |
| time/               |          |
|    episodes         | 2568     |
|    fps              | 3        |
|    time_elapsed     | 9007     |
|    total_timesteps  | 28669    |
| train/              |          |
|    learning_rate    | 0.0001   |
|    loss             | 0.00251  |
|    n_updates        | 7167     |
----------------------------------
----------------------------------
| rollout/            |          |
|    ep_len_mean      | 14       |
|    ep_rew_mean      | 14       |
|    exploration_rate | 0.05     |
| time/               |          |
|    episodes         | 2572     |
|    fps              | 3        |
|    time_elapsed     | 9030     |
|    total_timesteps  | 28764    |
| train/              |          |
|    learning_rate    | 0.0001   |
|    loss             | 0.0124   |
|    n_updates        | 7190     |
----------------------------------
----------------------------------
| rollout/            |          |
|    ep_len_mean      | 13.4     |
|    ep_rew_mean      | 13.4     |
|    exploration_rate | 0.05     |
| time/               |          |
|    episodes         | 2576     |
|    fps              | 3        |
|    time_elapsed     | 9044     |
|    total_timesteps  | 28807    |
| train/              |          |
|    learning_rate    | 0.0001   |
|    loss             | 0.00515  |
|    n_updates        | 7201     |
----------------------------------
----------------------------------
| rollout/            |          |
|    ep_len_mean      | 13.5     |
|    ep_rew_mean      | 13.5     |
|    exploration_rate | 0.05     |
| time/               |          |
|    episodes         | 2580     |
|    fps              | 3        |
|    time_elapsed     | 9060     |
|    total_timesteps  | 28862    |
| train/              |          |
|    learning_rate    | 0.0001   |
|    loss             | 0.0549   |
|    n_updates        | 7215     |
----------------------------------
----------------------------------
| rollout/            |          |
|    ep_len_mean      | 13.6     |
|    ep_rew_mean      | 13.6     |
|    exploration_rate | 0.05     |
| time/               |          |
|    episodes         | 2584     |
|    fps              | 3        |
|    time_elapsed     | 9075     |
|    total_timesteps  | 28903    |
| train/              |          |
|    learning_rate    | 0.0001   |
|    loss             | 0.000575 |
|    n_updates        | 7225     |
----------------------------------
----------------------------------
| rollout/            |          |
|    ep_len_mean      | 13.1     |
|    ep_rew_mean      | 13.1     |
|    exploration_rate | 0.05     |
| time/               |          |
|    episodes         | 2588     |
|    fps              | 3        |
|    time_elapsed     | 9091     |
|    total_timesteps  | 28949    |
| train/              |          |
|    learning_rate    | 0.0001   |
|    loss             | 0.0164   |
|    n_updates        | 7237     |
----------------------------------
----------------------------------
| rollout/            |          |
|    ep_len_mean      | 13.3     |
|    ep_rew_mean      | 13.3     |
|    exploration_rate | 0.05     |
| time/               |          |
|    episodes         | 2592     |
|    fps              | 3        |
|    time_elapsed     | 9106     |
|    total_timesteps  | 29012    |
| train/              |          |
|    learning_rate    | 0.0001   |
|    loss             | 0.00381  |
|    n_updates        | 7252     |
----------------------------------
----------------------------------
| rollout/            |          |
|    ep_len_mean      | 13.3     |
|    ep_rew_mean      | 13.3     |
|    exploration_rate | 0.05     |
| time/               |          |
|    episodes         | 2596     |
|    fps              | 3        |
|    time_elapsed     | 9118     |
|    total_timesteps  | 29057    |
| train/              |          |
|    learning_rate    | 0.0001   |
|    loss             | 0.0461   |
|    n_updates        | 7264     |
----------------------------------
----------------------------------
| rollout/            |          |
|    ep_len_mean      | 13.2     |
|    ep_rew_mean      | 13.2     |
|    exploration_rate | 0.05     |
| time/               |          |
|    episodes         | 2600     |
|    fps              | 3        |
|    time_elapsed     | 9134     |
|    total_timesteps  | 29105    |
| train/              |          |
|    learning_rate    | 0.0001   |
|    loss             | 0.0473   |
|    n_updates        | 7276     |
----------------------------------
----------------------------------
| rollout/            |          |
|    ep_len_mean      | 12.6     |
|    ep_rew_mean      | 12.6     |
|    exploration_rate | 0.05     |
| time/               |          |
|    episodes         | 2604     |
|    fps              | 3        |
|    time_elapsed     | 9141     |
|    total_timesteps  | 29124    |
| train/              |          |
|    learning_rate    | 0.0001   |
|    loss             | 0.0131   |
|    n_updates        | 7280     |
----------------------------------
----------------------------------
| rollout/            |          |
|    ep_len_mean      | 12.8     |
|    ep_rew_mean      | 12.8     |
|    exploration_rate | 0.05     |
| time/               |          |
|    episodes         | 2608     |
|    fps              | 3        |
|    time_elapsed     | 9160     |
|    total_timesteps  | 29190    |
| train/              |          |
|    learning_rate    | 0.0001   |
|    loss             | 0.0173   |
|    n_updates        | 7297     |
----------------------------------
----------------------------------
| rollout/            |          |
|    ep_len_mean      | 12.8     |
|    ep_rew_mean      | 12.8     |
|    exploration_rate | 0.05     |
| time/               |          |
|    episodes         | 2612     |
|    fps              | 3        |
|    time_elapsed     | 9173     |
|    total_timesteps  | 29229    |
| train/              |          |
|    learning_rate    | 0.0001   |
|    loss             | 0.00498  |
|    n_updates        | 7307     |
----------------------------------
----------------------------------
| rollout/            |          |
|    ep_len_mean      | 12.7     |
|    ep_rew_mean      | 12.7     |
|    exploration_rate | 0.05     |
| time/               |          |
|    episodes         | 2616     |
|    fps              | 3        |
|    time_elapsed     | 9191     |
|    total_timesteps  | 29288    |
| train/              |          |
|    learning_rate    | 0.0001   |
|    loss             | 0.00452  |
|    n_updates        | 7321     |
----------------------------------
----------------------------------
| rollout/            |          |
|    ep_len_mean      | 13.2     |
|    ep_rew_mean      | 13.2     |
|    exploration_rate | 0.05     |
| time/               |          |
|    episodes         | 2620     |
|    fps              | 3        |
|    time_elapsed     | 9216     |
|    total_timesteps  | 29387    |
| train/              |          |
|    learning_rate    | 0.0001   |
|    loss             | 0.0346   |
|    n_updates        | 7346     |
----------------------------------
----------------------------------
| rollout/            |          |
|    ep_len_mean      | 13.7     |
|    ep_rew_mean      | 13.7     |
|    exploration_rate | 0.05     |
| time/               |          |
|    episodes         | 2624     |
|    fps              | 3        |
|    time_elapsed     | 9240     |
|    total_timesteps  | 29484    |
| train/              |          |
|    learning_rate    | 0.0001   |
|    loss             | 0.000237 |
|    n_updates        | 7370     |
----------------------------------
----------------------------------
| rollout/            |          |
|    ep_len_mean      | 13.7     |
|    ep_rew_mean      | 13.7     |
|    exploration_rate | 0.05     |
| time/               |          |
|    episodes         | 2628     |
|    fps              | 3        |
|    time_elapsed     | 9256     |
|    total_timesteps  | 29527    |
| train/              |          |
|    learning_rate    | 0.0001   |
|    loss             | 0.00936  |
|    n_updates        | 7381     |
----------------------------------
----------------------------------
| rollout/            |          |
|    ep_len_mean      | 14.1     |
|    ep_rew_mean      | 14.1     |
|    exploration_rate | 0.05     |
| time/               |          |
|    episodes         | 2632     |
|    fps              | 3        |
|    time_elapsed     | 9275     |
|    total_timesteps  | 29605    |
| train/              |          |
|    learning_rate    | 0.0001   |
|    loss             | 0.0669   |
|    n_updates        | 7401     |
----------------------------------
----------------------------------
| rollout/            |          |
|    ep_len_mean      | 14.5     |
|    ep_rew_mean      | 14.5     |
|    exploration_rate | 0.05     |
| time/               |          |
|    episodes         | 2636     |
|    fps              | 3        |
|    time_elapsed     | 9291     |
|    total_timesteps  | 29669    |
| train/              |          |
|    learning_rate    | 0.0001   |
|    loss             | 0.0215   |
|    n_updates        | 7417     |
----------------------------------
----------------------------------
| rollout/            |          |
|    ep_len_mean      | 14.6     |
|    ep_rew_mean      | 14.6     |
|    exploration_rate | 0.05     |
| time/               |          |
|    episodes         | 2640     |
|    fps              | 3        |
|    time_elapsed     | 9305     |
|    total_timesteps  | 29706    |
| train/              |          |
|    learning_rate    | 0.0001   |
|    loss             | 0.0134   |
|    n_updates        | 7426     |
----------------------------------
----------------------------------
| rollout/            |          |
|    ep_len_mean      | 14.3     |
|    ep_rew_mean      | 14.3     |
|    exploration_rate | 0.05     |
| time/               |          |
|    episodes         | 2644     |
|    fps              | 3        |
|    time_elapsed     | 9321     |
|    total_timesteps  | 29747    |
| train/              |          |
|    learning_rate    | 0.0001   |
|    loss             | 0.00782  |
|    n_updates        | 7436     |
----------------------------------
----------------------------------
| rollout/            |          |
|    ep_len_mean      | 14.2     |
|    ep_rew_mean      | 14.2     |
|    exploration_rate | 0.05     |
| time/               |          |
|    episodes         | 2648     |
|    fps              | 3        |
|    time_elapsed     | 9331     |
|    total_timesteps  | 29777    |
| train/              |          |
|    learning_rate    | 0.0001   |
|    loss             | 0.014    |
|    n_updates        | 7444     |
----------------------------------
----------------------------------
| rollout/            |          |
|    ep_len_mean      | 14       |
|    ep_rew_mean      | 14       |
|    exploration_rate | 0.05     |
| time/               |          |
|    episodes         | 2652     |
|    fps              | 3        |
|    time_elapsed     | 9344     |
|    total_timesteps  | 29816    |
| train/              |          |
|    learning_rate    | 0.0001   |
|    loss             | 0.00228  |
|    n_updates        | 7453     |
----------------------------------
----------------------------------
| rollout/            |          |
|    ep_len_mean      | 13.9     |
|    ep_rew_mean      | 13.9     |
|    exploration_rate | 0.05     |
| time/               |          |
|    episodes         | 2656     |
|    fps              | 3        |
|    time_elapsed     | 9356     |
|    total_timesteps  | 29851    |
| train/              |          |
|    learning_rate    | 0.0001   |
|    loss             | 0.00122  |
|    n_updates        | 7462     |
----------------------------------
----------------------------------
| rollout/            |          |
|    ep_len_mean      | 13.3     |
|    ep_rew_mean      | 13.3     |
|    exploration_rate | 0.05     |
| time/               |          |
|    episodes         | 2660     |
|    fps              | 3        |
|    time_elapsed     | 9371     |
|    total_timesteps  | 29897    |
| train/              |          |
|    learning_rate    | 0.0001   |
|    loss             | 0.00215  |
|    n_updates        | 7474     |
----------------------------------
----------------------------------
| rollout/            |          |
|    ep_len_mean      | 13.6     |
|    ep_rew_mean      | 13.6     |
|    exploration_rate | 0.05     |
| time/               |          |
|    episodes         | 2664     |
|    fps              | 3        |
|    time_elapsed     | 9394     |
|    total_timesteps  | 29967    |
| train/              |          |
|    learning_rate    | 0.0001   |
|    loss             | 0.00516  |
|    n_updates        | 7491     |
----------------------------------
----------------------------------
| rollout/            |          |
|    ep_len_mean      | 13.8     |
|    ep_rew_mean      | 13.8     |
|    exploration_rate | 0.05     |
| time/               |          |
|    episodes         | 2668     |
|    fps              | 3        |
|    time_elapsed     | 9416     |
|    total_timesteps  | 30048    |
| train/              |          |
|    learning_rate    | 0.0001   |
|    loss             | 0.103    |
|    n_updates        | 7511     |
----------------------------------
----------------------------------
| rollout/            |          |
|    ep_len_mean      | 13.1     |
|    ep_rew_mean      | 13.1     |
|    exploration_rate | 0.05     |
| time/               |          |
|    episodes         | 2672     |
|    fps              | 3        |
|    time_elapsed     | 9427     |
|    total_timesteps  | 30072    |
| train/              |          |
|    learning_rate    | 0.0001   |
|    loss             | 0.0842   |
|    n_updates        | 7517     |
----------------------------------
----------------------------------
| rollout/            |          |
|    ep_len_mean      | 13.4     |
|    ep_rew_mean      | 13.4     |
|    exploration_rate | 0.05     |
| time/               |          |
|    episodes         | 2676     |
|    fps              | 3        |
|    time_elapsed     | 9447     |
|    total_timesteps  | 30147    |
| train/              |          |
|    learning_rate    | 0.0001   |
|    loss             | 0.0262   |
|    n_updates        | 7536     |
----------------------------------
----------------------------------
| rollout/            |          |
|    ep_len_mean      | 13       |
|    ep_rew_mean      | 13       |
|    exploration_rate | 0.05     |
| time/               |          |
|    episodes         | 2680     |
|    fps              | 3        |
|    time_elapsed     | 9454     |
|    total_timesteps  | 30160    |
| train/              |          |
|    learning_rate    | 0.0001   |
|    loss             | 0.0439   |
|    n_updates        | 7539     |
----------------------------------
----------------------------------
| rollout/            |          |
|    ep_len_mean      | 13.2     |
|    ep_rew_mean      | 13.2     |
|    exploration_rate | 0.05     |
| time/               |          |
|    episodes         | 2684     |
|    fps              | 3        |
|    time_elapsed     | 9469     |
|    total_timesteps  | 30220    |
| train/              |          |
|    learning_rate    | 0.0001   |
|    loss             | 0.0621   |
|    n_updates        | 7554     |
----------------------------------
----------------------------------
| rollout/            |          |
|    ep_len_mean      | 14       |
|    ep_rew_mean      | 14       |
|    exploration_rate | 0.05     |
| time/               |          |
|    episodes         | 2688     |
|    fps              | 3        |
|    time_elapsed     | 9491     |
|    total_timesteps  | 30352    |
| train/              |          |
|    learning_rate    | 0.0001   |
|    loss             | 0.0321   |
|    n_updates        | 7587     |
----------------------------------
----------------------------------
| rollout/            |          |
|    ep_len_mean      | 13.9     |
|    ep_rew_mean      | 13.9     |
|    exploration_rate | 0.05     |
| time/               |          |
|    episodes         | 2692     |
|    fps              | 3        |
|    time_elapsed     | 9504     |
|    total_timesteps  | 30405    |
| train/              |          |
|    learning_rate    | 0.0001   |
|    loss             | 0.08     |
|    n_updates        | 7601     |
----------------------------------
----------------------------------
| rollout/            |          |
|    ep_len_mean      | 15.7     |
|    ep_rew_mean      | 15.7     |
|    exploration_rate | 0.05     |
| time/               |          |
|    episodes         | 2696     |
|    fps              | 3        |
|    time_elapsed     | 9543     |
|    total_timesteps  | 30631    |
| train/              |          |
|    learning_rate    | 0.0001   |
|    loss             | 0.107    |
|    n_updates        | 7657     |
----------------------------------
----------------------------------
| rollout/            |          |
|    ep_len_mean      | 16.1     |
|    ep_rew_mean      | 16.1     |
|    exploration_rate | 0.05     |
| time/               |          |
|    episodes         | 2700     |
|    fps              | 3        |
|    time_elapsed     | 9561     |
|    total_timesteps  | 30711    |
| train/              |          |
|    learning_rate    | 0.0001   |
|    loss             | 0.0779   |
|    n_updates        | 7677     |
----------------------------------
----------------------------------
| rollout/            |          |
|    ep_len_mean      | 16.1     |
|    ep_rew_mean      | 16.1     |
|    exploration_rate | 0.05     |
| time/               |          |
|    episodes         | 2704     |
|    fps              | 3        |
|    time_elapsed     | 9574     |
|    total_timesteps  | 30736    |
| train/              |          |
|    learning_rate    | 0.0001   |
|    loss             | 0.0245   |
|    n_updates        | 7683     |
----------------------------------
----------------------------------
| rollout/            |          |
|    ep_len_mean      | 16.5     |
|    ep_rew_mean      | 16.5     |
|    exploration_rate | 0.05     |
| time/               |          |
|    episodes         | 2708     |
|    fps              | 3        |
|    time_elapsed     | 9601     |
|    total_timesteps  | 30843    |
| train/              |          |
|    learning_rate    | 0.0001   |
|    loss             | 0.0745   |
|    n_updates        | 7710     |
----------------------------------
----------------------------------
| rollout/            |          |
|    ep_len_mean      | 17.2     |
|    ep_rew_mean      | 17.2     |
|    exploration_rate | 0.05     |
| time/               |          |
|    episodes         | 2712     |
|    fps              | 3        |
|    time_elapsed     | 9630     |
|    total_timesteps  | 30951    |
| train/              |          |
|    learning_rate    | 0.0001   |
|    loss             | 0.0256   |
|    n_updates        | 7737     |
----------------------------------
----------------------------------
| rollout/            |          |
|    ep_len_mean      | 18.6     |
|    ep_rew_mean      | 18.6     |
|    exploration_rate | 0.05     |
| time/               |          |
|    episodes         | 2716     |
|    fps              | 3        |
|    time_elapsed     | 9668     |
|    total_timesteps  | 31153    |
| train/              |          |
|    learning_rate    | 0.0001   |
|    loss             | 0.0614   |
|    n_updates        | 7788     |
----------------------------------
----------------------------------
| rollout/            |          |
|    ep_len_mean      | 18.5     |
|    ep_rew_mean      | 18.5     |
|    exploration_rate | 0.05     |
| time/               |          |
|    episodes         | 2720     |
|    fps              | 3        |
|    time_elapsed     | 9686     |
|    total_timesteps  | 31234    |
| train/              |          |
|    learning_rate    | 0.0001   |
|    loss             | 0.00362  |
|    n_updates        | 7808     |
----------------------------------
----------------------------------
| rollout/            |          |
|    ep_len_mean      | 19.1     |
|    ep_rew_mean      | 19.1     |
|    exploration_rate | 0.05     |
| time/               |          |
|    episodes         | 2724     |
|    fps              | 3        |
|    time_elapsed     | 9714     |
|    total_timesteps  | 31396    |
| train/              |          |
|    learning_rate    | 0.0001   |
|    loss             | 0.194    |
|    n_updates        | 7848     |
----------------------------------
----------------------------------
| rollout/            |          |
|    ep_len_mean      | 19.4     |
|    ep_rew_mean      | 19.4     |
|    exploration_rate | 0.05     |
| time/               |          |
|    episodes         | 2728     |
|    fps              | 3        |
|    time_elapsed     | 9730     |
|    total_timesteps  | 31467    |
| train/              |          |
|    learning_rate    | 0.0001   |
|    loss             | 0.139    |
|    n_updates        | 7866     |
----------------------------------
----------------------------------
| rollout/            |          |
|    ep_len_mean      | 19.6     |
|    ep_rew_mean      | 19.6     |
|    exploration_rate | 0.05     |
| time/               |          |
|    episodes         | 2732     |
|    fps              | 3        |
|    time_elapsed     | 9750     |
|    total_timesteps  | 31560    |
| train/              |          |
|    learning_rate    | 0.0001   |
|    loss             | 0.0305   |
|    n_updates        | 7889     |
----------------------------------
----------------------------------
| rollout/            |          |
|    ep_len_mean      | 20.8     |
|    ep_rew_mean      | 20.8     |
|    exploration_rate | 0.05     |
| time/               |          |
|    episodes         | 2736     |
|    fps              | 3        |
|    time_elapsed     | 9787     |
|    total_timesteps  | 31747    |
| train/              |          |
|    learning_rate    | 0.0001   |
|    loss             | 0.0645   |
|    n_updates        | 7936     |
----------------------------------
----------------------------------
| rollout/            |          |
|    ep_len_mean      | 21.2     |
|    ep_rew_mean      | 21.2     |
|    exploration_rate | 0.05     |
| time/               |          |
|    episodes         | 2740     |
|    fps              | 3        |
|    time_elapsed     | 9802     |
|    total_timesteps  | 31828    |
| train/              |          |
|    learning_rate    | 0.0001   |
|    loss             | 0.0758   |
|    n_updates        | 7956     |
----------------------------------
----------------------------------
| rollout/            |          |
|    ep_len_mean      | 21.7     |
|    ep_rew_mean      | 21.7     |
|    exploration_rate | 0.05     |
| time/               |          |
|    episodes         | 2744     |
|    fps              | 3        |
|    time_elapsed     | 9823     |
|    total_timesteps  | 31915    |
| train/              |          |
|    learning_rate    | 0.0001   |
|    loss             | 0.0894   |
|    n_updates        | 7978     |
----------------------------------
----------------------------------
| rollout/            |          |
|    ep_len_mean      | 22.3     |
|    ep_rew_mean      | 22.3     |
|    exploration_rate | 0.05     |
| time/               |          |
|    episodes         | 2748     |
|    fps              | 3        |
|    time_elapsed     | 9844     |
|    total_timesteps  | 32007    |
| train/              |          |
|    learning_rate    | 0.0001   |
|    loss             | 0.0937   |
|    n_updates        | 8001     |
----------------------------------
----------------------------------
| rollout/            |          |
|    ep_len_mean      | 22.7     |
|    ep_rew_mean      | 22.7     |
|    exploration_rate | 0.05     |
| time/               |          |
|    episodes         | 2752     |
|    fps              | 3        |
|    time_elapsed     | 9860     |
|    total_timesteps  | 32090    |
| train/              |          |
|    learning_rate    | 0.0001   |
|    loss             | 0.00657  |
|    n_updates        | 8022     |
----------------------------------
----------------------------------
| rollout/            |          |
|    ep_len_mean      | 23.1     |
|    ep_rew_mean      | 23.1     |
|    exploration_rate | 0.05     |
| time/               |          |
|    episodes         | 2756     |
|    fps              | 3        |
|    time_elapsed     | 9872     |
|    total_timesteps  | 32163    |
| train/              |          |
|    learning_rate    | 0.0001   |
|    loss             | 0.00626  |
|    n_updates        | 8040     |
----------------------------------
----------------------------------
| rollout/            |          |
|    ep_len_mean      | 23       |
|    ep_rew_mean      | 23       |
|    exploration_rate | 0.05     |
| time/               |          |
|    episodes         | 2760     |
|    fps              | 3        |
|    time_elapsed     | 9879     |
|    total_timesteps  | 32200    |
| train/              |          |
|    learning_rate    | 0.0001   |
|    loss             | 0.0778   |
|    n_updates        | 8049     |
----------------------------------
----------------------------------
| rollout/            |          |
|    ep_len_mean      | 22.7     |
|    ep_rew_mean      | 22.7     |
|    exploration_rate | 0.05     |
| time/               |          |
|    episodes         | 2764     |
|    fps              | 3        |
|    time_elapsed     | 9893     |
|    total_timesteps  | 32238    |
| train/              |          |
|    learning_rate    | 0.0001   |
|    loss             | 0.0916   |
|    n_updates        | 8059     |
----------------------------------
----------------------------------
| rollout/            |          |
|    ep_len_mean      | 22.3     |
|    ep_rew_mean      | 22.3     |
|    exploration_rate | 0.05     |
| time/               |          |
|    episodes         | 2768     |
|    fps              | 3        |
|    time_elapsed     | 9908     |
|    total_timesteps  | 32275    |
| train/              |          |
|    learning_rate    | 0.0001   |
|    loss             | 0.0891   |
|    n_updates        | 8068     |
----------------------------------
----------------------------------
| rollout/            |          |
|    ep_len_mean      | 22.3     |
|    ep_rew_mean      | 22.3     |
|    exploration_rate | 0.05     |
| time/               |          |
|    episodes         | 2772     |
|    fps              | 3        |
|    time_elapsed     | 9921     |
|    total_timesteps  | 32304    |
| train/              |          |
|    learning_rate    | 0.0001   |
|    loss             | 0.0249   |
|    n_updates        | 8075     |
----------------------------------
----------------------------------
| rollout/            |          |
|    ep_len_mean      | 22.5     |
|    ep_rew_mean      | 22.5     |
|    exploration_rate | 0.05     |
| time/               |          |
|    episodes         | 2776     |
|    fps              | 3        |
|    time_elapsed     | 9945     |
|    total_timesteps  | 32397    |
| train/              |          |
|    learning_rate    | 0.0001   |
|    loss             | 0.0188   |
|    n_updates        | 8099     |
----------------------------------
----------------------------------
| rollout/            |          |
|    ep_len_mean      | 23.5     |
|    ep_rew_mean      | 23.5     |
|    exploration_rate | 0.05     |
| time/               |          |
|    episodes         | 2780     |
|    fps              | 3        |
|    time_elapsed     | 9965     |
|    total_timesteps  | 32507    |
| train/              |          |
|    learning_rate    | 0.0001   |
|    loss             | 0.00631  |
|    n_updates        | 8126     |
----------------------------------
----------------------------------
| rollout/            |          |
|    ep_len_mean      | 23.9     |
|    ep_rew_mean      | 23.9     |
|    exploration_rate | 0.05     |
| time/               |          |
|    episodes         | 2784     |
|    fps              | 3        |
|    time_elapsed     | 9988     |
|    total_timesteps  | 32612    |
| train/              |          |
|    learning_rate    | 0.0001   |
|    loss             | 0.0337   |
|    n_updates        | 8152     |
----------------------------------
----------------------------------
| rollout/            |          |
|    ep_len_mean      | 24.2     |
|    ep_rew_mean      | 24.2     |
|    exploration_rate | 0.05     |
| time/               |          |
|    episodes         | 2788     |
|    fps              | 3        |
|    time_elapsed     | 10019    |
|    total_timesteps  | 32772    |
| train/              |          |
|    learning_rate    | 0.0001   |
|    loss             | 0.0918   |
|    n_updates        | 8192     |
----------------------------------
----------------------------------
| rollout/            |          |
|    ep_len_mean      | 25.6     |
|    ep_rew_mean      | 25.6     |
|    exploration_rate | 0.05     |
| time/               |          |
|    episodes         | 2792     |
|    fps              | 3        |
|    time_elapsed     | 10056    |
|    total_timesteps  | 32967    |
| train/              |          |
|    learning_rate    | 0.0001   |
|    loss             | 0.0192   |
|    n_updates        | 8241     |
----------------------------------
----------------------------------
| rollout/            |          |
|    ep_len_mean      | 23.8     |
|    ep_rew_mean      | 23.8     |
|    exploration_rate | 0.05     |
| time/               |          |
|    episodes         | 2796     |
|    fps              | 3        |
|    time_elapsed     | 10069    |
|    total_timesteps  | 33008    |
| train/              |          |
|    learning_rate    | 0.0001   |
|    loss             | 0.00449  |
|    n_updates        | 8251     |
----------------------------------
----------------------------------
| rollout/            |          |
|    ep_len_mean      | 23.3     |
|    ep_rew_mean      | 23.3     |
|    exploration_rate | 0.05     |
| time/               |          |
|    episodes         | 2800     |
|    fps              | 3        |
|    time_elapsed     | 10084    |
|    total_timesteps  | 33040    |
| train/              |          |
|    learning_rate    | 0.0001   |
|    loss             | 0.0984   |
|    n_updates        | 8259     |
----------------------------------
----------------------------------
| rollout/            |          |
|    ep_len_mean      | 24       |
|    ep_rew_mean      | 24       |
|    exploration_rate | 0.05     |
| time/               |          |
|    episodes         | 2804     |
|    fps              | 3        |
|    time_elapsed     | 10105    |
|    total_timesteps  | 33136    |
| train/              |          |
|    learning_rate    | 0.0001   |
|    loss             | 0.113    |
|    n_updates        | 8283     |
----------------------------------
----------------------------------
| rollout/            |          |
|    ep_len_mean      | 24       |
|    ep_rew_mean      | 24       |
|    exploration_rate | 0.05     |
| time/               |          |
|    episodes         | 2808     |
|    fps              | 3        |
|    time_elapsed     | 10125    |
|    total_timesteps  | 33246    |
| train/              |          |
|    learning_rate    | 0.0001   |
|    loss             | 0.0119   |
|    n_updates        | 8311     |
----------------------------------
----------------------------------
| rollout/            |          |
|    ep_len_mean      | 23.4     |
|    ep_rew_mean      | 23.4     |
|    exploration_rate | 0.05     |
| time/               |          |
|    episodes         | 2812     |
|    fps              | 3        |
|    time_elapsed     | 10141    |
|    total_timesteps  | 33287    |
| train/              |          |
|    learning_rate    | 0.0001   |
|    loss             | 0.0089   |
|    n_updates        | 8321     |
----------------------------------
----------------------------------
| rollout/            |          |
|    ep_len_mean      | 23       |
|    ep_rew_mean      | 23       |
|    exploration_rate | 0.05     |
| time/               |          |
|    episodes         | 2816     |
|    fps              | 3        |
|    time_elapsed     | 10171    |
|    total_timesteps  | 33457    |
| train/              |          |
|    learning_rate    | 0.0001   |
|    loss             | 0.0111   |
|    n_updates        | 8364     |
----------------------------------
----------------------------------
| rollout/            |          |
|    ep_len_mean      | 22.6     |
|    ep_rew_mean      | 22.6     |
|    exploration_rate | 0.05     |
| time/               |          |
|    episodes         | 2820     |
|    fps              | 3        |
|    time_elapsed     | 10183    |
|    total_timesteps  | 33497    |
| train/              |          |
|    learning_rate    | 0.0001   |
|    loss             | 0.148    |
|    n_updates        | 8374     |
----------------------------------
----------------------------------
| rollout/            |          |
|    ep_len_mean      | 22.1     |
|    ep_rew_mean      | 22.1     |
|    exploration_rate | 0.05     |
| time/               |          |
|    episodes         | 2824     |
|    fps              | 3        |
|    time_elapsed     | 10204    |
|    total_timesteps  | 33604    |
| train/              |          |
|    learning_rate    | 0.0001   |
|    loss             | 0.088    |
|    n_updates        | 8400     |
----------------------------------
----------------------------------
| rollout/            |          |
|    ep_len_mean      | 23.6     |
|    ep_rew_mean      | 23.6     |
|    exploration_rate | 0.05     |
| time/               |          |
|    episodes         | 2828     |
|    fps              | 3        |
|    time_elapsed     | 10247    |
|    total_timesteps  | 33830    |
| train/              |          |
|    learning_rate    | 0.0001   |
|    loss             | 0.013    |
|    n_updates        | 8457     |
----------------------------------
----------------------------------
| rollout/            |          |
|    ep_len_mean      | 23.6     |
|    ep_rew_mean      | 23.6     |
|    exploration_rate | 0.05     |
| time/               |          |
|    episodes         | 2832     |
|    fps              | 3        |
|    time_elapsed     | 10266    |
|    total_timesteps  | 33916    |
| train/              |          |
|    learning_rate    | 0.0001   |
|    loss             | 0.00895  |
|    n_updates        | 8478     |
----------------------------------
----------------------------------
| rollout/            |          |
|    ep_len_mean      | 22.6     |
|    ep_rew_mean      | 22.6     |
|    exploration_rate | 0.05     |
| time/               |          |
|    episodes         | 2836     |
|    fps              | 3        |
|    time_elapsed     | 10284    |
|    total_timesteps  | 34012    |
| train/              |          |
|    learning_rate    | 0.0001   |
|    loss             | 0.0879   |
|    n_updates        | 8502     |
----------------------------------
----------------------------------
| rollout/            |          |
|    ep_len_mean      | 22.6     |
|    ep_rew_mean      | 22.6     |
|    exploration_rate | 0.05     |
| time/               |          |
|    episodes         | 2840     |
|    fps              | 3        |
|    time_elapsed     | 10303    |
|    total_timesteps  | 34087    |
| train/              |          |
|    learning_rate    | 0.0001   |
|    loss             | 0.0207   |
|    n_updates        | 8521     |
----------------------------------
----------------------------------
| rollout/            |          |
|    ep_len_mean      | 24.2     |
|    ep_rew_mean      | 24.2     |
|    exploration_rate | 0.05     |
| time/               |          |
|    episodes         | 2844     |
|    fps              | 3        |
|    time_elapsed     | 10353    |
|    total_timesteps  | 34331    |
| train/              |          |
|    learning_rate    | 0.0001   |
|    loss             | 0.00313  |
|    n_updates        | 8582     |
----------------------------------
----------------------------------
| rollout/            |          |
|    ep_len_mean      | 24.1     |
|    ep_rew_mean      | 24.1     |
|    exploration_rate | 0.05     |
| time/               |          |
|    episodes         | 2848     |
|    fps              | 3        |
|    time_elapsed     | 10368    |
|    total_timesteps  | 34416    |
| train/              |          |
|    learning_rate    | 0.0001   |
|    loss             | 0.00808  |
|    n_updates        | 8603     |
----------------------------------
----------------------------------
| rollout/            |          |
|    ep_len_mean      | 24       |
|    ep_rew_mean      | 24       |
|    exploration_rate | 0.05     |
| time/               |          |
|    episodes         | 2852     |
|    fps              | 3        |
|    time_elapsed     | 10384    |
|    total_timesteps  | 34491    |
| train/              |          |
|    learning_rate    | 0.0001   |
|    loss             | 0.0503   |
|    n_updates        | 8622     |
----------------------------------
----------------------------------
| rollout/            |          |
|    ep_len_mean      | 23.6     |
|    ep_rew_mean      | 23.6     |
|    exploration_rate | 0.05     |
| time/               |          |
|    episodes         | 2856     |
|    fps              | 3        |
|    time_elapsed     | 10396    |
|    total_timesteps  | 34521    |
| train/              |          |
|    learning_rate    | 0.0001   |
|    loss             | 0.0122   |
|    n_updates        | 8630     |
----------------------------------
----------------------------------
| rollout/            |          |
|    ep_len_mean      | 23.9     |
|    ep_rew_mean      | 23.9     |
|    exploration_rate | 0.05     |
| time/               |          |
|    episodes         | 2860     |
|    fps              | 3        |
|    time_elapsed     | 10412    |
|    total_timesteps  | 34592    |
| train/              |          |
|    learning_rate    | 0.0001   |
|    loss             | 0.00553  |
|    n_updates        | 8647     |
----------------------------------
----------------------------------
| rollout/            |          |
|    ep_len_mean      | 24.2     |
|    ep_rew_mean      | 24.2     |
|    exploration_rate | 0.05     |
| time/               |          |
|    episodes         | 2864     |
|    fps              | 3        |
|    time_elapsed     | 10425    |
|    total_timesteps  | 34658    |
| train/              |          |
|    learning_rate    | 0.0001   |
|    loss             | 0.138    |
|    n_updates        | 8664     |
----------------------------------
----------------------------------
| rollout/            |          |
|    ep_len_mean      | 24.9     |
|    ep_rew_mean      | 24.9     |
|    exploration_rate | 0.05     |
| time/               |          |
|    episodes         | 2868     |
|    fps              | 3        |
|    time_elapsed     | 10446    |
|    total_timesteps  | 34766    |
| train/              |          |
|    learning_rate    | 0.0001   |
|    loss             | 0.23     |
|    n_updates        | 8691     |
----------------------------------
----------------------------------
| rollout/            |          |
|    ep_len_mean      | 25.9     |
|    ep_rew_mean      | 25.9     |
|    exploration_rate | 0.05     |
| time/               |          |
|    episodes         | 2872     |
|    fps              | 3        |
|    time_elapsed     | 10468    |
|    total_timesteps  | 34893    |
| train/              |          |
|    learning_rate    | 0.0001   |
|    loss             | 0.0116   |
|    n_updates        | 8723     |
----------------------------------
----------------------------------
| rollout/            |          |
|    ep_len_mean      | 25.4     |
|    ep_rew_mean      | 25.4     |
|    exploration_rate | 0.05     |
| time/               |          |
|    episodes         | 2876     |
|    fps              | 3        |
|    time_elapsed     | 10476    |
|    total_timesteps  | 34937    |
| train/              |          |
|    learning_rate    | 0.0001   |
|    loss             | 0.0742   |
|    n_updates        | 8734     |
----------------------------------
----------------------------------
| rollout/            |          |
|    ep_len_mean      | 25.5     |
|    ep_rew_mean      | 25.5     |
|    exploration_rate | 0.05     |
| time/               |          |
|    episodes         | 2880     |
|    fps              | 3        |
|    time_elapsed     | 10502    |
|    total_timesteps  | 35053    |
| train/              |          |
|    learning_rate    | 0.0001   |
|    loss             | 0.025    |
|    n_updates        | 8763     |
----------------------------------
----------------------------------
| rollout/            |          |
|    ep_len_mean      | 25.7     |
|    ep_rew_mean      | 25.7     |
|    exploration_rate | 0.05     |
| time/               |          |
|    episodes         | 2884     |
|    fps              | 3        |
|    time_elapsed     | 10528    |
|    total_timesteps  | 35185    |
| train/              |          |
|    learning_rate    | 0.0001   |
|    loss             | 0.0103   |
|    n_updates        | 8796     |
----------------------------------
----------------------------------
| rollout/            |          |
|    ep_len_mean      | 24.8     |
|    ep_rew_mean      | 24.8     |
|    exploration_rate | 0.05     |
| time/               |          |
|    episodes         | 2888     |
|    fps              | 3        |
|    time_elapsed     | 10544    |
|    total_timesteps  | 35255    |
| train/              |          |
|    learning_rate    | 0.0001   |
|    loss             | 0.00533  |
|    n_updates        | 8813     |
----------------------------------
----------------------------------
| rollout/            |          |
|    ep_len_mean      | 23.6     |
|    ep_rew_mean      | 23.6     |
|    exploration_rate | 0.05     |
| time/               |          |
|    episodes         | 2892     |
|    fps              | 3        |
|    time_elapsed     | 10565    |
|    total_timesteps  | 35332    |
| train/              |          |
|    learning_rate    | 0.0001   |
|    loss             | 0.00372  |
|    n_updates        | 8832     |
----------------------------------
----------------------------------
| rollout/            |          |
|    ep_len_mean      | 23.9     |
|    ep_rew_mean      | 23.9     |
|    exploration_rate | 0.05     |
| time/               |          |
|    episodes         | 2896     |
|    fps              | 3        |
|    time_elapsed     | 10580    |
|    total_timesteps  | 35396    |
| train/              |          |
|    learning_rate    | 0.0001   |
|    loss             | 0.106    |
|    n_updates        | 8848     |
----------------------------------
----------------------------------
| rollout/            |          |
|    ep_len_mean      | 24.7     |
|    ep_rew_mean      | 24.7     |
|    exploration_rate | 0.05     |
| time/               |          |
|    episodes         | 2900     |
|    fps              | 3        |
|    time_elapsed     | 10606    |
|    total_timesteps  | 35514    |
| train/              |          |
|    learning_rate    | 0.0001   |
|    loss             | 0.0027   |
|    n_updates        | 8878     |
----------------------------------
----------------------------------
| rollout/            |          |
|    ep_len_mean      | 24.5     |
|    ep_rew_mean      | 24.5     |
|    exploration_rate | 0.05     |
| time/               |          |
|    episodes         | 2904     |
|    fps              | 3        |
|    time_elapsed     | 10620    |
|    total_timesteps  | 35586    |
| train/              |          |
|    learning_rate    | 0.0001   |
|    loss             | 0.0207   |
|    n_updates        | 8896     |
----------------------------------
----------------------------------
| rollout/            |          |
|    ep_len_mean      | 24.7     |
|    ep_rew_mean      | 24.7     |
|    exploration_rate | 0.05     |
| time/               |          |
|    episodes         | 2908     |
|    fps              | 3        |
|    time_elapsed     | 10650    |
|    total_timesteps  | 35720    |
| train/              |          |
|    learning_rate    | 0.0001   |
|    loss             | 0.0114   |
|    n_updates        | 8929     |
----------------------------------
----------------------------------
| rollout/            |          |
|    ep_len_mean      | 25.1     |
|    ep_rew_mean      | 25.1     |
|    exploration_rate | 0.05     |
| time/               |          |
|    episodes         | 2912     |
|    fps              | 3        |
|    time_elapsed     | 10665    |
|    total_timesteps  | 35796    |
| train/              |          |
|    learning_rate    | 0.0001   |
|    loss             | 0.0218   |
|    n_updates        | 8948     |
----------------------------------
----------------------------------
| rollout/            |          |
|    ep_len_mean      | 24.4     |
|    ep_rew_mean      | 24.4     |
|    exploration_rate | 0.05     |
| time/               |          |
|    episodes         | 2916     |
|    fps              | 3        |
|    time_elapsed     | 10691    |
|    total_timesteps  | 35893    |
| train/              |          |
|    learning_rate    | 0.0001   |
|    loss             | 0.00961  |
|    n_updates        | 8973     |
----------------------------------
----------------------------------
| rollout/            |          |
|    ep_len_mean      | 25.5     |
|    ep_rew_mean      | 25.5     |
|    exploration_rate | 0.05     |
| time/               |          |
|    episodes         | 2920     |
|    fps              | 3        |
|    time_elapsed     | 10720    |
|    total_timesteps  | 36050    |
| train/              |          |
|    learning_rate    | 0.0001   |
|    loss             | 0.0015   |
|    n_updates        | 9012     |
----------------------------------
----------------------------------
| rollout/            |          |
|    ep_len_mean      | 26.2     |
|    ep_rew_mean      | 26.2     |
|    exploration_rate | 0.05     |
| time/               |          |
|    episodes         | 2924     |
|    fps              | 3        |
|    time_elapsed     | 10757    |
|    total_timesteps  | 36229    |
| train/              |          |
|    learning_rate    | 0.0001   |
|    loss             | 0.00899  |
|    n_updates        | 9057     |
----------------------------------
----------------------------------
| rollout/            |          |
|    ep_len_mean      | 25.6     |
|    ep_rew_mean      | 25.6     |
|    exploration_rate | 0.05     |
| time/               |          |
|    episodes         | 2928     |
|    fps              | 3        |
|    time_elapsed     | 10786    |
|    total_timesteps  | 36387    |
| train/              |          |
|    learning_rate    | 0.0001   |
|    loss             | 0.00545  |
|    n_updates        | 9096     |
----------------------------------
----------------------------------
| rollout/            |          |
|    ep_len_mean      | 25.6     |
|    ep_rew_mean      | 25.6     |
|    exploration_rate | 0.05     |
| time/               |          |
|    episodes         | 2932     |
|    fps              | 3        |
|    time_elapsed     | 10805    |
|    total_timesteps  | 36481    |
| train/              |          |
|    learning_rate    | 0.0001   |
|    loss             | 0.0513   |
|    n_updates        | 9120     |
----------------------------------
----------------------------------
| rollout/            |          |
|    ep_len_mean      | 25.6     |
|    ep_rew_mean      | 25.6     |
|    exploration_rate | 0.05     |
| time/               |          |
|    episodes         | 2936     |
|    fps              | 3        |
|    time_elapsed     | 10827    |
|    total_timesteps  | 36575    |
| train/              |          |
|    learning_rate    | 0.0001   |
|    loss             | 0.169    |
|    n_updates        | 9143     |
----------------------------------
----------------------------------
| rollout/            |          |
|    ep_len_mean      | 25.7     |
|    ep_rew_mean      | 25.7     |
|    exploration_rate | 0.05     |
| time/               |          |
|    episodes         | 2940     |
|    fps              | 3        |
|    time_elapsed     | 10843    |
|    total_timesteps  | 36658    |
| train/              |          |
|    learning_rate    | 0.0001   |
|    loss             | 0.0445   |
|    n_updates        | 9164     |
----------------------------------
----------------------------------
| rollout/            |          |
|    ep_len_mean      | 24.2     |
|    ep_rew_mean      | 24.2     |
|    exploration_rate | 0.05     |
| time/               |          |
|    episodes         | 2944     |
|    fps              | 3        |
|    time_elapsed     | 10860    |
|    total_timesteps  | 36748    |
| train/              |          |
|    learning_rate    | 0.0001   |
|    loss             | 0.0159   |
|    n_updates        | 9186     |
----------------------------------
----------------------------------
| rollout/            |          |
|    ep_len_mean      | 24.9     |
|    ep_rew_mean      | 24.9     |
|    exploration_rate | 0.05     |
| time/               |          |
|    episodes         | 2948     |
|    fps              | 3        |
|    time_elapsed     | 10889    |
|    total_timesteps  | 36910    |
| train/              |          |
|    learning_rate    | 0.0001   |
|    loss             | 0.00498  |
|    n_updates        | 9227     |
----------------------------------
----------------------------------
| rollout/            |          |
|    ep_len_mean      | 25.5     |
|    ep_rew_mean      | 25.5     |
|    exploration_rate | 0.05     |
| time/               |          |
|    episodes         | 2952     |
|    fps              | 3        |
|    time_elapsed     | 10913    |
|    total_timesteps  | 37040    |
| train/              |          |
|    learning_rate    | 0.0001   |
|    loss             | 0.00596  |
|    n_updates        | 9259     |
----------------------------------
----------------------------------
| rollout/            |          |
|    ep_len_mean      | 27.9     |
|    ep_rew_mean      | 27.9     |
|    exploration_rate | 0.05     |
| time/               |          |
|    episodes         | 2956     |
|    fps              | 3        |
|    time_elapsed     | 10961    |
|    total_timesteps  | 37316    |
| train/              |          |
|    learning_rate    | 0.0001   |
|    loss             | 0.101    |
|    n_updates        | 9328     |
----------------------------------
----------------------------------
| rollout/            |          |
|    ep_len_mean      | 28.2     |
|    ep_rew_mean      | 28.2     |
|    exploration_rate | 0.05     |
| time/               |          |
|    episodes         | 2960     |
|    fps              | 3        |
|    time_elapsed     | 10983    |
|    total_timesteps  | 37409    |
| train/              |          |
|    learning_rate    | 0.0001   |
|    loss             | 0.0433   |
|    n_updates        | 9352     |
----------------------------------
----------------------------------
| rollout/            |          |
|    ep_len_mean      | 29.5     |
|    ep_rew_mean      | 29.5     |
|    exploration_rate | 0.05     |
| time/               |          |
|    episodes         | 2964     |
|    fps              | 3        |
|    time_elapsed     | 11023    |
|    total_timesteps  | 37610    |
| train/              |          |
|    learning_rate    | 0.0001   |
|    loss             | 0.00339  |
|    n_updates        | 9402     |
----------------------------------
----------------------------------
| rollout/            |          |
|    ep_len_mean      | 30.2     |
|    ep_rew_mean      | 30.2     |
|    exploration_rate | 0.05     |
| time/               |          |
|    episodes         | 2968     |
|    fps              | 3        |
|    time_elapsed     | 11062    |
|    total_timesteps  | 37791    |
| train/              |          |
|    learning_rate    | 0.0001   |
|    loss             | 0.00222  |
|    n_updates        | 9447     |
----------------------------------
----------------------------------
| rollout/            |          |
|    ep_len_mean      | 29.7     |
|    ep_rew_mean      | 29.7     |
|    exploration_rate | 0.05     |
| time/               |          |
|    episodes         | 2972     |
|    fps              | 3        |
|    time_elapsed     | 11077    |
|    total_timesteps  | 37862    |
| train/              |          |
|    learning_rate    | 0.0001   |
|    loss             | 0.0791   |
|    n_updates        | 9465     |
----------------------------------
----------------------------------
| rollout/            |          |
|    ep_len_mean      | 30.2     |
|    ep_rew_mean      | 30.2     |
|    exploration_rate | 0.05     |
| time/               |          |
|    episodes         | 2976     |
|    fps              | 3        |
|    time_elapsed     | 11093    |
|    total_timesteps  | 37954    |
| train/              |          |
|    learning_rate    | 0.0001   |
|    loss             | 0.0773   |
|    n_updates        | 9488     |
----------------------------------
----------------------------------
| rollout/            |          |
|    ep_len_mean      | 30.4     |
|    ep_rew_mean      | 30.4     |
|    exploration_rate | 0.05     |
| time/               |          |
|    episodes         | 2980     |
|    fps              | 3        |
|    time_elapsed     | 11120    |
|    total_timesteps  | 38088    |
| train/              |          |
|    learning_rate    | 0.0001   |
|    loss             | 0.00243  |
|    n_updates        | 9521     |
----------------------------------
----------------------------------
| rollout/            |          |
|    ep_len_mean      | 29.9     |
|    ep_rew_mean      | 29.9     |
|    exploration_rate | 0.05     |
| time/               |          |
|    episodes         | 2984     |
|    fps              | 3        |
|    time_elapsed     | 11139    |
|    total_timesteps  | 38171    |
| train/              |          |
|    learning_rate    | 0.0001   |
|    loss             | 0.146    |
|    n_updates        | 9542     |
----------------------------------
----------------------------------
| rollout/            |          |
|    ep_len_mean      | 29.5     |
|    ep_rew_mean      | 29.5     |
|    exploration_rate | 0.05     |
| time/               |          |
|    episodes         | 2988     |
|    fps              | 3        |
|    time_elapsed     | 11152    |
|    total_timesteps  | 38203    |
| train/              |          |
|    learning_rate    | 0.0001   |
|    loss             | 0.000764 |
|    n_updates        | 9550     |
----------------------------------
----------------------------------
| rollout/            |          |
|    ep_len_mean      | 30.4     |
|    ep_rew_mean      | 30.4     |
|    exploration_rate | 0.05     |
| time/               |          |
|    episodes         | 2992     |
|    fps              | 3        |
|    time_elapsed     | 11182    |
|    total_timesteps  | 38367    |
| train/              |          |
|    learning_rate    | 0.0001   |
|    loss             | 0.00539  |
|    n_updates        | 9591     |
----------------------------------
----------------------------------
| rollout/            |          |
|    ep_len_mean      | 31.4     |
|    ep_rew_mean      | 31.4     |
|    exploration_rate | 0.05     |
| time/               |          |
|    episodes         | 2996     |
|    fps              | 3        |
|    time_elapsed     | 11212    |
|    total_timesteps  | 38537    |
| train/              |          |
|    learning_rate    | 0.0001   |
|    loss             | 0.00546  |
|    n_updates        | 9634     |
----------------------------------
----------------------------------
| rollout/            |          |
|    ep_len_mean      | 31.8     |
|    ep_rew_mean      | 31.8     |
|    exploration_rate | 0.05     |
| time/               |          |
|    episodes         | 3000     |
|    fps              | 3        |
|    time_elapsed     | 11242    |
|    total_timesteps  | 38695    |
| train/              |          |
|    learning_rate    | 0.0001   |
|    loss             | 0.0155   |
|    n_updates        | 9673     |
----------------------------------
----------------------------------
| rollout/            |          |
|    ep_len_mean      | 32.5     |
|    ep_rew_mean      | 32.5     |
|    exploration_rate | 0.05     |
| time/               |          |
|    episodes         | 3004     |
|    fps              | 3        |
|    time_elapsed     | 11269    |
|    total_timesteps  | 38831    |
| train/              |          |
|    learning_rate    | 0.0001   |
|    loss             | 0.0472   |
|    n_updates        | 9707     |
----------------------------------
----------------------------------
| rollout/            |          |
|    ep_len_mean      | 32.8     |
|    ep_rew_mean      | 32.8     |
|    exploration_rate | 0.05     |
| time/               |          |
|    episodes         | 3008     |
|    fps              | 3        |
|    time_elapsed     | 11304    |
|    total_timesteps  | 39004    |
| train/              |          |
|    learning_rate    | 0.0001   |
|    loss             | 0.00522  |
|    n_updates        | 9750     |
----------------------------------
----------------------------------
| rollout/            |          |
|    ep_len_mean      | 33       |
|    ep_rew_mean      | 33       |
|    exploration_rate | 0.05     |
| time/               |          |
|    episodes         | 3012     |
|    fps              | 3        |
|    time_elapsed     | 11322    |
|    total_timesteps  | 39095    |
| train/              |          |
|    learning_rate    | 0.0001   |
|    loss             | 0.00319  |
|    n_updates        | 9773     |
----------------------------------
----------------------------------
| rollout/            |          |
|    ep_len_mean      | 33.2     |
|    ep_rew_mean      | 33.2     |
|    exploration_rate | 0.05     |
| time/               |          |
|    episodes         | 3016     |
|    fps              | 3        |
|    time_elapsed     | 11344    |
|    total_timesteps  | 39218    |
| train/              |          |
|    learning_rate    | 0.0001   |
|    loss             | 0.00195  |
|    n_updates        | 9804     |
----------------------------------
----------------------------------
| rollout/            |          |
|    ep_len_mean      | 33.1     |
|    ep_rew_mean      | 33.1     |
|    exploration_rate | 0.05     |
| time/               |          |
|    episodes         | 3020     |
|    fps              | 3        |
|    time_elapsed     | 11374    |
|    total_timesteps  | 39356    |
| train/              |          |
|    learning_rate    | 0.0001   |
|    loss             | 0.00667  |
|    n_updates        | 9838     |
----------------------------------
----------------------------------
| rollout/            |          |
|    ep_len_mean      | 32.4     |
|    ep_rew_mean      | 32.4     |
|    exploration_rate | 0.05     |
| time/               |          |
|    episodes         | 3024     |
|    fps              | 3        |
|    time_elapsed     | 11394    |
|    total_timesteps  | 39469    |
| train/              |          |
|    learning_rate    | 0.0001   |
|    loss             | 0.0364   |
|    n_updates        | 9867     |
----------------------------------
----------------------------------
| rollout/            |          |
|    ep_len_mean      | 31.5     |
|    ep_rew_mean      | 31.5     |
|    exploration_rate | 0.05     |
| time/               |          |
|    episodes         | 3028     |
|    fps              | 3        |
|    time_elapsed     | 11410    |
|    total_timesteps  | 39541    |
| train/              |          |
|    learning_rate    | 0.0001   |
|    loss             | 0.00271  |
|    n_updates        | 9885     |
----------------------------------
----------------------------------
| rollout/            |          |
|    ep_len_mean      | 31.3     |
|    ep_rew_mean      | 31.3     |
|    exploration_rate | 0.05     |
| time/               |          |
|    episodes         | 3032     |
|    fps              | 3        |
|    time_elapsed     | 11427    |
|    total_timesteps  | 39612    |
| train/              |          |
|    learning_rate    | 0.0001   |
|    loss             | 0.0126   |
|    n_updates        | 9902     |
----------------------------------
----------------------------------
| rollout/            |          |
|    ep_len_mean      | 31.2     |
|    ep_rew_mean      | 31.2     |
|    exploration_rate | 0.05     |
| time/               |          |
|    episodes         | 3036     |
|    fps              | 3        |
|    time_elapsed     | 11441    |
|    total_timesteps  | 39691    |
| train/              |          |
|    learning_rate    | 0.0001   |
|    loss             | 0.0139   |
|    n_updates        | 9922     |
----------------------------------
----------------------------------
| rollout/            |          |
|    ep_len_mean      | 30.9     |
|    ep_rew_mean      | 30.9     |
|    exploration_rate | 0.05     |
| time/               |          |
|    episodes         | 3040     |
|    fps              | 3        |
|    time_elapsed     | 11457    |
|    total_timesteps  | 39752    |
| train/              |          |
|    learning_rate    | 0.0001   |
|    loss             | 0.00768  |
|    n_updates        | 9937     |
----------------------------------
----------------------------------
| rollout/            |          |
|    ep_len_mean      | 30.6     |
|    ep_rew_mean      | 30.6     |
|    exploration_rate | 0.05     |
| time/               |          |
|    episodes         | 3044     |
|    fps              | 3        |
|    time_elapsed     | 11470    |
|    total_timesteps  | 39805    |
| train/              |          |
|    learning_rate    | 0.0001   |
|    loss             | 0.00214  |
|    n_updates        | 9951     |
----------------------------------
----------------------------------
| rollout/            |          |
|    ep_len_mean      | 30.8     |
|    ep_rew_mean      | 30.8     |
|    exploration_rate | 0.05     |
| time/               |          |
|    episodes         | 3048     |
|    fps              | 3        |
|    time_elapsed     | 11504    |
|    total_timesteps  | 39991    |
| train/              |          |
|    learning_rate    | 0.0001   |
|    loss             | 0.0108   |
|    n_updates        | 9997     |
----------------------------------
